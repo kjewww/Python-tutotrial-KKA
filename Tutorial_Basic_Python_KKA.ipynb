{
  "nbformat": 4,
  "nbformat_minor": 0,
  "metadata": {
    "colab": {
      "provenance": [],
      "toc_visible": true,
      "collapsed_sections": [
        "FMHY_ofE0aFC",
        "iKPBP0ps0-wc",
        "j9Hovc-W3RLC",
        "fHtqPaqx6BQI"
      ],
      "include_colab_link": true
    },
    "kernelspec": {
      "name": "python3",
      "display_name": "Python 3"
    },
    "language_info": {
      "name": "python"
    }
  },
  "cells": [
    {
      "cell_type": "markdown",
      "metadata": {
        "id": "view-in-github",
        "colab_type": "text"
      },
      "source": [
        "<a href=\"https://colab.research.google.com/github/kjewww/Python-tutotrial-KKA/blob/main/Tutorial_Basic_Python_KKA.ipynb\" target=\"_parent\"><img src=\"https://colab.research.google.com/assets/colab-badge.svg\" alt=\"Open In Colab\"/></a>"
      ]
    },
    {
      "cell_type": "markdown",
      "source": [
        "#**What is Python?**\n",
        "\n",
        "Python is a dynamic, interpreted (bytecode-compiled) language. Designed by Guido van Rossum, Python is a popular and widely used language in various IT fields, such as AI, Data Science, Machine Learning, Deep Learning, Web Development, and Deployment.\n",
        "\n",
        "**Why programming with Python?**\n",
        "* easy-to-understand and human-friendly syntax\n",
        "* a cross-platform compatible language\n",
        "* provides a comprehensive set of libraries and frameworks\n",
        "* preferred choice for professionals\n",
        "* flexible and versatile"
      ],
      "metadata": {
        "id": "tDjyZkoiL0em"
      }
    },
    {
      "cell_type": "markdown",
      "source": [
        "#Python Indentation"
      ],
      "metadata": {
        "id": "fgDxeZsDT2dB"
      }
    },
    {
      "cell_type": "markdown",
      "source": [
        "Indentation refers to the spaces at the beginning of a code line.\n",
        "\n",
        "Where in other programming languages the indentation in code is for readability only, the indentation in Python is very important.\n",
        "\n",
        "Python uses indentation to indicate a block of code."
      ],
      "metadata": {
        "id": "p9XWqAVyAns8"
      }
    },
    {
      "cell_type": "code",
      "source": [
        "if 5 > 2:\n",
        "  print(\"Five is greater than two!\")"
      ],
      "metadata": {
        "colab": {
          "base_uri": "https://localhost:8080/"
        },
        "id": "syvLXiB_Ar17",
        "outputId": "a3683d23-8c03-461c-8432-32936a9ef99f"
      },
      "execution_count": null,
      "outputs": [
        {
          "output_type": "stream",
          "name": "stdout",
          "text": [
            "Five is greater than two!\n"
          ]
        }
      ]
    },
    {
      "cell_type": "code",
      "source": [
        "if 5 > 2:\n",
        "print(\"Five is greater than two!\")"
      ],
      "metadata": {
        "colab": {
          "base_uri": "https://localhost:8080/",
          "height": 106
        },
        "id": "GKPNGQ_HAyi7",
        "outputId": "a156d336-0c40-43c4-c8c0-245cae7a2faa"
      },
      "execution_count": null,
      "outputs": [
        {
          "output_type": "error",
          "ename": "IndentationError",
          "evalue": "expected an indented block after 'if' statement on line 1 (<ipython-input-33-a314491c53bb>, line 2)",
          "traceback": [
            "\u001b[0;36m  File \u001b[0;32m\"<ipython-input-33-a314491c53bb>\"\u001b[0;36m, line \u001b[0;32m2\u001b[0m\n\u001b[0;31m    print(\"Five is greater than two!\")\u001b[0m\n\u001b[0m    ^\u001b[0m\n\u001b[0;31mIndentationError\u001b[0m\u001b[0;31m:\u001b[0m expected an indented block after 'if' statement on line 1\n"
          ]
        }
      ]
    },
    {
      "cell_type": "code",
      "source": [
        "if 5 > 2:\n",
        " print(\"Five is greater than two!\")\n",
        "if 7 > 2:\n",
        "        print(\"Seven is greater than two!\")"
      ],
      "metadata": {
        "colab": {
          "base_uri": "https://localhost:8080/"
        },
        "id": "X9EwS6EyA2d0",
        "outputId": "40dcb582-1e53-4253-bd76-8e568b5a3715"
      },
      "execution_count": null,
      "outputs": [
        {
          "output_type": "stream",
          "name": "stdout",
          "text": [
            "Five is greater than two!\n",
            "Seven is greater than two!\n"
          ]
        }
      ]
    },
    {
      "cell_type": "code",
      "source": [
        "if 5 > 2:\n",
        " print(\"Five is greater than two!\")\n",
        "    print(\"Five is greater than two!\")"
      ],
      "metadata": {
        "colab": {
          "base_uri": "https://localhost:8080/",
          "height": 106
        },
        "id": "iGYGtFhpA8XB",
        "outputId": "a7a051f9-c986-4267-a2b5-3bb7c058341b"
      },
      "execution_count": null,
      "outputs": [
        {
          "output_type": "error",
          "ename": "IndentationError",
          "evalue": "unexpected indent (<ipython-input-36-0ed423492e84>, line 3)",
          "traceback": [
            "\u001b[0;36m  File \u001b[0;32m\"<ipython-input-36-0ed423492e84>\"\u001b[0;36m, line \u001b[0;32m3\u001b[0m\n\u001b[0;31m    print(\"Five is greater than two!\")\u001b[0m\n\u001b[0m    ^\u001b[0m\n\u001b[0;31mIndentationError\u001b[0m\u001b[0;31m:\u001b[0m unexpected indent\n"
          ]
        }
      ]
    },
    {
      "cell_type": "markdown",
      "source": [
        "#Variable"
      ],
      "metadata": {
        "id": "pb7GKAbiAIJ7"
      }
    },
    {
      "cell_type": "markdown",
      "source": [
        "### Data Types"
      ],
      "metadata": {
        "id": "N29ID27xHnlU"
      }
    },
    {
      "cell_type": "markdown",
      "source": [
        "Text Type : str\n",
        "\n",
        "Numeric Type : int, float, complex\n",
        "\n",
        "Sequence Type : list, tuple, range\n",
        "\n",
        "Mapping Type : dict\n",
        "\n",
        "Set Types : set, frozenset\n",
        "\n",
        "Boolean Type : bool\n",
        "\n",
        "Binary Types : bytes, bytearray, memoryview"
      ],
      "metadata": {
        "id": "s5WWIpA_C_Ma"
      }
    },
    {
      "cell_type": "code",
      "source": [
        "# Without having to initialize the type of the variable.\n",
        "x = 1\n",
        "y = \"kb\"\n",
        "z = True\n",
        "print(x, type(x))\n",
        "print(y, type(y))\n",
        "print(z, type(z))"
      ],
      "metadata": {
        "colab": {
          "base_uri": "https://localhost:8080/"
        },
        "id": "dTqO6XP8G4t3",
        "outputId": "023494e8-c4d3-4b66-e762-736f86d7e10d"
      },
      "execution_count": null,
      "outputs": [
        {
          "output_type": "stream",
          "name": "stdout",
          "text": [
            "1 <class 'int'>\n",
            "kb <class 'str'>\n",
            "True <class 'bool'>\n"
          ]
        }
      ]
    },
    {
      "cell_type": "markdown",
      "source": [
        "### Typecasting"
      ],
      "metadata": {
        "id": "mGJwj9lsKyAa"
      }
    },
    {
      "cell_type": "code",
      "source": [
        "a = float(x)\n",
        "b = int(z)\n",
        "\n",
        "print(a, type(a), b, type(b))"
      ],
      "metadata": {
        "colab": {
          "base_uri": "https://localhost:8080/"
        },
        "id": "I6Lb0HVFM1Ay",
        "outputId": "e667f5d1-0ba6-4ec3-a9c6-f3f6870b1a03"
      },
      "execution_count": null,
      "outputs": [
        {
          "output_type": "stream",
          "name": "stdout",
          "text": [
            "1.0 <class 'float'> 1 <class 'int'>\n"
          ]
        }
      ]
    },
    {
      "cell_type": "code",
      "source": [
        "x = float(1)\n",
        "y = str(2.4)\n",
        "\n",
        "lima = '5'\n",
        "z = float(lima)\n",
        "\n",
        "print(x, y, type(y), z)"
      ],
      "metadata": {
        "colab": {
          "base_uri": "https://localhost:8080/"
        },
        "id": "aFSklBWzK3xI",
        "outputId": "297825ca-050c-4832-9112-e50193db04f5"
      },
      "execution_count": null,
      "outputs": [
        {
          "output_type": "stream",
          "name": "stdout",
          "text": [
            "1.0 2.4 <class 'str'> 5.0\n"
          ]
        }
      ]
    },
    {
      "cell_type": "markdown",
      "source": [
        "#Operators"
      ],
      "metadata": {
        "id": "oqGXen2iN6jX"
      }
    },
    {
      "cell_type": "markdown",
      "source": [
        "Python divides the operators in the following groups:\n",
        "\n",
        "* Arithmetic operators\n",
        "* Bitwise operators\n",
        "* Assignment operators\n",
        "* Comparison operators\n",
        "* Logical operators\n",
        "* Identity operators\n",
        "* Membership operators\n"
      ],
      "metadata": {
        "id": "8D4SuV4qOVnf"
      }
    },
    {
      "cell_type": "markdown",
      "source": [
        "#### Arithmetic Operators"
      ],
      "metadata": {
        "id": "NlVp4NRnQbs8"
      }
    },
    {
      "cell_type": "markdown",
      "source": [
        "| Operator  | Name | Example     |\n",
        "|-------|------|----------|\n",
        "| +  | Addition   | x + y |\n",
        "| -  | Subtraction   | x - y  |\n",
        "| *  | Multiplication   | x * y  |\n",
        "| /  | Division   | x / y  |\n",
        "| %  | Modulus   | x % y  |\n",
        "| ** | Exponential   | x ** y  |\n",
        "| //  | Floor Division   | x // y  |"
      ],
      "metadata": {
        "id": "yHZBEzfJQWLI"
      }
    },
    {
      "cell_type": "code",
      "source": [
        "x = 3\n",
        "y = 5\n",
        "print('Addition ->', x+y)\n",
        "print('Subtraction ->', x-y)\n",
        "print('Multipication ->', x*y)\n",
        "print('Division ->', x/y)\n",
        "print('Modulus ->', x%y)\n",
        "print('Exponential ->', x**y)\n",
        "print('Floor Division ->', x//y)"
      ],
      "metadata": {
        "colab": {
          "base_uri": "https://localhost:8080/"
        },
        "id": "DVo9g3F1emK1",
        "outputId": "1910badb-be71-444e-f5f6-09a774056270"
      },
      "execution_count": null,
      "outputs": [
        {
          "output_type": "stream",
          "name": "stdout",
          "text": [
            "Addition -> 8\n",
            "Subtraction -> -2\n",
            "Multipication -> 15\n",
            "Division -> 0.6\n",
            "Modulus -> 3\n",
            "Exponential -> 243\n",
            "Floor Division -> 0\n"
          ]
        }
      ]
    },
    {
      "cell_type": "markdown",
      "source": [
        "#### Bitwise Operators"
      ],
      "metadata": {
        "id": "aPK0xTWUXNXU"
      }
    },
    {
      "cell_type": "markdown",
      "source": [
        "| Operator  | Name | Description     | Example |\n",
        "|-------|------|----------|-------|\n",
        "| & | AND   | Sets each bit to 1 if both bits are 1 | x & y |\n",
        "| \\|  | OR   | Sets each bit to 1 if one of two bits is 1  | x \\| y |\n",
        "| ^  | XOR   | Sets each bit to 1 if only one of two bits is 1  | ^ x |\n",
        "| ~  | NOT   | Inverts all the bits  | ~ x |\n",
        "| <<  | Left Shift   | Shift left by pushing zeros in from the right and let the leftmost bits fall off  | x << y |\n",
        "| >> | Right Shift  | Shift right by pushing copies of the leftmost bit in from the left, and let the rightmost bits fall off  | x >> y |"
      ],
      "metadata": {
        "id": "bZQ258B5XwKZ"
      }
    },
    {
      "cell_type": "markdown",
      "source": [
        "#### Assignment Operators"
      ],
      "metadata": {
        "id": "zD23Tn8ZRVTC"
      }
    },
    {
      "cell_type": "markdown",
      "source": [
        "| Operator  | Example | Same As     |\n",
        "|-------|------|----------|\n",
        "| =  | x = 5  | x = 5 |\n",
        "| +=  | x += 3   | x = x + 3  |\n",
        "| -=  | x -= 3   | x = x - 3  |\n",
        "| *=  | x *= 3   | x = x * 3  |\n",
        "| /=  | x /= 3   | x = x / 3  |\n",
        "| %=  |  x %= 3   | x = x % 3  |\n",
        "| **= | x **= 3   | x = x ** 3  |\n",
        "| //=  | x //= 3   | x = x // 3  |\n",
        "| &=  | x &= 3   | x = x & 3 |\n",
        "| \\|= | x \\|= 3   | x = x \\| 3  |\n",
        "| ^=  | x ^= 3   | x = x ^ 3  |\n",
        "| >>=  | x >>= 3  | x = x >> 3  |\n",
        "| <<=  | x <<= 3  | x = x << 3  |\n",
        "| := | print(x := 3) | x = 3; print(x)  |"
      ],
      "metadata": {
        "id": "z3qxWWAoRgH4"
      }
    },
    {
      "cell_type": "markdown",
      "source": [
        "#### Comparison Operators"
      ],
      "metadata": {
        "id": "PRfhqHHdZE6n"
      }
    },
    {
      "cell_type": "markdown",
      "source": [
        "| Operator  | Name | Example     |\n",
        "|-------|------|----------|\n",
        "| ==  | Equal   | x == y |\n",
        "| !=  | Not Equal   | x != y  |\n",
        "| >  | Greater Than   | x > y  |\n",
        "| <  |Less Than   | x < y  |\n",
        "| >=  | Greater than or equal to   | x >= y  |\n",
        "| <= | Less than or equal to   | x <= y  |"
      ],
      "metadata": {
        "id": "yIvv8knsZJM1"
      }
    },
    {
      "cell_type": "markdown",
      "source": [
        "#### Logical Operators"
      ],
      "metadata": {
        "id": "_kSUU2cvZ5fR"
      }
    },
    {
      "cell_type": "markdown",
      "source": [
        "| Operator  | Description | Example     |\n",
        "|-------|------|----------|\n",
        "| and  | Returns True if both statements are true   | x < 5 and  x < 10 |\n",
        "| or  | Returns True if one of the statements is true   | x < 5 or x < 4  |\n",
        "| not  | Reverse the result, returns False if the result is true   | not(x < 5 and x < 10)  |"
      ],
      "metadata": {
        "id": "8ONOS17HZ_JL"
      }
    },
    {
      "cell_type": "markdown",
      "source": [
        "#### Identity Operators"
      ],
      "metadata": {
        "id": "60WXTdwsaW_N"
      }
    },
    {
      "cell_type": "markdown",
      "source": [
        "| Operator  | Description | Example     |\n",
        "|-------|------|----------|\n",
        "| is  | Returns True if both variables are the same object   | x is y |\n",
        "| is not  | Returns True if both variables are not the same object   | x is not y  |"
      ],
      "metadata": {
        "id": "zekZirxqad5-"
      }
    },
    {
      "cell_type": "markdown",
      "source": [
        "#### Membership Operators"
      ],
      "metadata": {
        "id": "dtSmToStat5q"
      }
    },
    {
      "cell_type": "markdown",
      "source": [
        "| Operator  | Description | Example     |\n",
        "|-------|------|----------|\n",
        "| in  | Returns True if a sequence with the specified value is present in the object   | x in y |\n",
        "| not in  | Returns True if a sequence with the specified value is not present in the object   | x not in y  |"
      ],
      "metadata": {
        "id": "7vcsRrgsax3A"
      }
    },
    {
      "cell_type": "markdown",
      "source": [
        "#String"
      ],
      "metadata": {
        "id": "B5rzoOxCgXor"
      }
    },
    {
      "cell_type": "markdown",
      "source": [
        "### Indexing and Slicing"
      ],
      "metadata": {
        "id": "q7gPKedgozvT"
      }
    },
    {
      "cell_type": "markdown",
      "source": [
        "![image.png](data:image/png;base64,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)"
      ],
      "metadata": {
        "id": "VFeQm2DQo-XM"
      }
    },
    {
      "cell_type": "code",
      "source": [
        "stasiun = \"Semarang Tawang\"\n",
        "ind = -3\n",
        "\n",
        "# Positive Index\n",
        "print(f\"This is using positive index, index {len(stasiun) - 3} is {stasiun[len(stasiun) - 3]}\")\n",
        "# Negative Index\n",
        "print(f\"This is using negative index, index {ind} is {stasiun[-3]}\")"
      ],
      "metadata": {
        "colab": {
          "base_uri": "https://localhost:8080/"
        },
        "id": "hgPbpEPnpRm7",
        "outputId": "661107c6-0894-4099-838e-097590358f6c"
      },
      "execution_count": null,
      "outputs": [
        {
          "output_type": "stream",
          "name": "stdout",
          "text": [
            "This is using positive index, index 12 is a\n",
            "This is using negative index, index -3 is a\n"
          ]
        }
      ]
    },
    {
      "cell_type": "markdown",
      "source": [
        "* We can use slicing to get a substring\n",
        "* s[m:n] is a substring of s whose characters are taken from index m to index n-1\n",
        "* If n ≤ m, then the result of slicing is an empty string."
      ],
      "metadata": {
        "id": "476t2mNlrx7W"
      }
    },
    {
      "cell_type": "code",
      "source": [
        "# Slicing\n",
        "print(stasiun[0:8])\n",
        "print(stasiun[-14:])"
      ],
      "metadata": {
        "colab": {
          "base_uri": "https://localhost:8080/"
        },
        "id": "YhQerSzXrZzN",
        "outputId": "17a5885c-f3a8-4c49-9c27-d532a866f9b7"
      },
      "execution_count": null,
      "outputs": [
        {
          "output_type": "stream",
          "name": "stdout",
          "text": [
            "Semarang\n",
            "emarang Tawang\n"
          ]
        }
      ]
    },
    {
      "cell_type": "markdown",
      "source": [
        "### Striding"
      ],
      "metadata": {
        "id": "EjnRPYxnrL6k"
      }
    },
    {
      "cell_type": "markdown",
      "source": [
        "s[m:n:p] like s[m:n], starting at index m, we move by the number p from left to right."
      ],
      "metadata": {
        "id": "E3l42qyvveHz"
      }
    },
    {
      "cell_type": "code",
      "source": [
        "print(stasiun)\n",
        "print(stasiun[1:11:2])"
      ],
      "metadata": {
        "colab": {
          "base_uri": "https://localhost:8080/"
        },
        "id": "ceEmF7xqvfpi",
        "outputId": "55e9a1ca-2c67-4893-be45-77515e37b03d"
      },
      "execution_count": null,
      "outputs": [
        {
          "output_type": "stream",
          "name": "stdout",
          "text": [
            "Semarang Tawang\n",
            "eaagT\n"
          ]
        }
      ]
    },
    {
      "cell_type": "code",
      "source": [
        "stasiun[-6::-1]"
      ],
      "metadata": {
        "colab": {
          "base_uri": "https://localhost:8080/",
          "height": 35
        },
        "id": "f-Sk5dWAvk5t",
        "outputId": "4ce4cc3f-5da8-4e06-f870-59714b03fc67"
      },
      "execution_count": null,
      "outputs": [
        {
          "output_type": "execute_result",
          "data": {
            "text/plain": [
              "'T gnarameS'"
            ],
            "application/vnd.google.colaboratory.intrinsic+json": {
              "type": "string"
            }
          },
          "metadata": {},
          "execution_count": 42
        }
      ]
    },
    {
      "cell_type": "markdown",
      "source": [
        "### String Slicing and Striding Default Value"
      ],
      "metadata": {
        "id": "S3IHQF93xXms"
      }
    },
    {
      "cell_type": "markdown",
      "source": [
        "If you leave out the values ​​m, n, or p in the s[m:n] and s[m:n:p] formats, Python will determine the default values ​​for those values: m = 0, n = len(s), p = 1"
      ],
      "metadata": {
        "id": "cdtPHLDmxfHu"
      }
    },
    {
      "cell_type": "code",
      "source": [
        "#Semarang Tawang\n",
        "print(stasiun)\n",
        "stasiun[::2]"
      ],
      "metadata": {
        "colab": {
          "base_uri": "https://localhost:8080/",
          "height": 53
        },
        "id": "GWhQteTUxhRc",
        "outputId": "c3817218-4090-4e13-b95c-949d59986146"
      },
      "execution_count": null,
      "outputs": [
        {
          "output_type": "stream",
          "name": "stdout",
          "text": [
            "Semarang Tawang\n"
          ]
        },
        {
          "output_type": "execute_result",
          "data": {
            "text/plain": [
              "'Smrn aag'"
            ],
            "application/vnd.google.colaboratory.intrinsic+json": {
              "type": "string"
            }
          },
          "metadata": {},
          "execution_count": 20
        }
      ]
    },
    {
      "cell_type": "code",
      "source": [
        "print(stasiun)\n",
        "stasiun[:-1]"
      ],
      "metadata": {
        "colab": {
          "base_uri": "https://localhost:8080/",
          "height": 52
        },
        "id": "bf5l29UWxluo",
        "outputId": "a643b7c3-4d88-4fb2-a6df-2edf61c45aa4"
      },
      "execution_count": null,
      "outputs": [
        {
          "output_type": "stream",
          "name": "stdout",
          "text": [
            "Semarang Tawang\n"
          ]
        },
        {
          "output_type": "execute_result",
          "data": {
            "text/plain": [
              "'Semarang Tawan'"
            ],
            "application/vnd.google.colaboratory.intrinsic+json": {
              "type": "string"
            }
          },
          "metadata": {},
          "execution_count": 43
        }
      ]
    },
    {
      "cell_type": "code",
      "source": [
        "print(stasiun)\n",
        "stasiun[-1:]"
      ],
      "metadata": {
        "colab": {
          "base_uri": "https://localhost:8080/",
          "height": 53
        },
        "id": "_IVE8TJ_xpqv",
        "outputId": "c6352ad8-dc8a-4111-a33f-d9d47d0cc316"
      },
      "execution_count": null,
      "outputs": [
        {
          "output_type": "stream",
          "name": "stdout",
          "text": [
            "Semarang Tawang\n"
          ]
        },
        {
          "output_type": "execute_result",
          "data": {
            "text/plain": [
              "'g'"
            ],
            "application/vnd.google.colaboratory.intrinsic+json": {
              "type": "string"
            }
          },
          "metadata": {},
          "execution_count": 22
        }
      ]
    },
    {
      "cell_type": "code",
      "source": [
        "print(stasiun)\n",
        "stasiun[-2:5:-1]"
      ],
      "metadata": {
        "colab": {
          "base_uri": "https://localhost:8080/",
          "height": 53
        },
        "id": "HPL0C4yvxrvj",
        "outputId": "6bc676ce-872c-44a6-f63a-2afcd6f89538"
      },
      "execution_count": null,
      "outputs": [
        {
          "output_type": "stream",
          "name": "stdout",
          "text": [
            "Semarang Tawang\n"
          ]
        },
        {
          "output_type": "execute_result",
          "data": {
            "text/plain": [
              "'nawaT gn'"
            ],
            "application/vnd.google.colaboratory.intrinsic+json": {
              "type": "string"
            }
          },
          "metadata": {},
          "execution_count": 23
        }
      ]
    },
    {
      "cell_type": "markdown",
      "source": [
        "### Concatenation"
      ],
      "metadata": {
        "id": "JgCZNKsMx3yh"
      }
    },
    {
      "cell_type": "code",
      "source": [
        "lang = \"Python\"\n",
        "obj = \"cool\"\n",
        "print(\"Wow,\", lang, \"is awesome!\")\n",
        "print(\"Wow,\" + lang + \"is awesome!\") #ga ada spasi otomatis\n",
        "print(\"Wow, {} is awesome and {}!\".format(lang, obj))\n",
        "print(\"Wow, {1} is awesome and {0}!\".format(lang, obj)) # 0 dan 1 berarti urutan dari argumen"
      ],
      "metadata": {
        "colab": {
          "base_uri": "https://localhost:8080/"
        },
        "id": "gyAFbb-ByFHl",
        "outputId": "5bddfbe5-ba63-45be-fa81-a28dc638716a"
      },
      "execution_count": null,
      "outputs": [
        {
          "output_type": "stream",
          "name": "stdout",
          "text": [
            "Wow, Python is awesome!\n",
            "Wow,Pythonis awesome!\n",
            "Wow, Python is awesome and cool!\n",
            "Wow, cool is awesome and Python!\n"
          ]
        }
      ]
    },
    {
      "cell_type": "code",
      "source": [
        "sentence = \"Wow, \" + lang + \" is awesome!\"\n",
        "yaay = \"heheh \" + \"lslsl\"\n",
        "yaay\n",
        "sentence"
      ],
      "metadata": {
        "colab": {
          "base_uri": "https://localhost:8080/",
          "height": 35
        },
        "id": "kuako_BDzJrm",
        "outputId": "fbc53012-41d5-4a9d-e9ff-66305327bad2"
      },
      "execution_count": null,
      "outputs": [
        {
          "output_type": "execute_result",
          "data": {
            "text/plain": [
              "'Wow, Python is awesome!'"
            ],
            "application/vnd.google.colaboratory.intrinsic+json": {
              "type": "string"
            }
          },
          "metadata": {},
          "execution_count": 52
        }
      ]
    },
    {
      "cell_type": "markdown",
      "source": [
        "### Replication"
      ],
      "metadata": {
        "id": "WVkPcoHOzQIi"
      }
    },
    {
      "cell_type": "markdown",
      "source": [
        "Multiplying a string by a number (using “*”) will produce a new string that is a replication of the old string."
      ],
      "metadata": {
        "id": "YxUq6t6JzcpN"
      }
    },
    {
      "cell_type": "code",
      "source": [
        "print(\"*\" * 5) #print char bintang 5 kali\n",
        "print(4 * \"very \")\n",
        "for i in range(5):\n",
        "  print('*', end='') #sama aja"
      ],
      "metadata": {
        "colab": {
          "base_uri": "https://localhost:8080/"
        },
        "id": "JOAzbjrzzXhH",
        "outputId": "a09dfb4f-c8c8-4757-addc-858c453a72ff"
      },
      "execution_count": null,
      "outputs": [
        {
          "output_type": "stream",
          "name": "stdout",
          "text": [
            "*****\n",
            "very very very very \n",
            "*****"
          ]
        }
      ]
    },
    {
      "cell_type": "markdown",
      "source": [
        "### Methods"
      ],
      "metadata": {
        "id": "ew-hrICwzvP7"
      }
    },
    {
      "cell_type": "code",
      "source": [
        "# STRING METHOD\n",
        "print(sentence)\n",
        "sentence.upper() # mengubah semua menjadi upper case"
      ],
      "metadata": {
        "colab": {
          "base_uri": "https://localhost:8080/",
          "height": 53
        },
        "id": "C5r2LbNU0DUd",
        "outputId": "7001ec34-4359-4dbe-b471-6343c2dbdc0a"
      },
      "execution_count": null,
      "outputs": [
        {
          "output_type": "stream",
          "name": "stdout",
          "text": [
            "Wow, Python is awesome!\n"
          ]
        },
        {
          "output_type": "execute_result",
          "data": {
            "text/plain": [
              "'WOW, PYTHON IS AWESOME!'"
            ],
            "application/vnd.google.colaboratory.intrinsic+json": {
              "type": "string"
            }
          },
          "metadata": {},
          "execution_count": 27
        }
      ]
    },
    {
      "cell_type": "code",
      "source": [
        "print(sentence)\n",
        "sentence.lower()"
      ],
      "metadata": {
        "colab": {
          "base_uri": "https://localhost:8080/",
          "height": 53
        },
        "id": "DFjK87_p0FvW",
        "outputId": "cbcb9234-550e-486d-e6fd-351f9654766c"
      },
      "execution_count": null,
      "outputs": [
        {
          "output_type": "stream",
          "name": "stdout",
          "text": [
            "Wow, Python is awesome!\n"
          ]
        },
        {
          "output_type": "execute_result",
          "data": {
            "text/plain": [
              "'wow, python is awesome!'"
            ],
            "application/vnd.google.colaboratory.intrinsic+json": {
              "type": "string"
            }
          },
          "metadata": {},
          "execution_count": 28
        }
      ]
    },
    {
      "cell_type": "code",
      "source": [
        "# mengganti kata awesome dengan cool\n",
        "sentence = sentence + ' awesome'\n",
        "print(sentence)\n",
        "sentence.replace(\"awesome\", \"cool\")"
      ],
      "metadata": {
        "colab": {
          "base_uri": "https://localhost:8080/",
          "height": 53
        },
        "id": "sTk5ieky0LSA",
        "outputId": "72e002d4-b331-41bc-8c0b-5482311833b9"
      },
      "execution_count": null,
      "outputs": [
        {
          "output_type": "stream",
          "name": "stdout",
          "text": [
            "Wow, Python is awesome! awesome\n"
          ]
        },
        {
          "output_type": "execute_result",
          "data": {
            "text/plain": [
              "'Wow, Python is cool! cool'"
            ],
            "application/vnd.google.colaboratory.intrinsic+json": {
              "type": "string"
            }
          },
          "metadata": {},
          "execution_count": 29
        }
      ]
    },
    {
      "cell_type": "code",
      "source": [
        "sentence = \"Wow, Python is awesome! Python\"\n",
        "print(sentence)\n",
        "sentence.find(\"Python\") # return index huruf pertama (P) jika ditemukan"
      ],
      "metadata": {
        "colab": {
          "base_uri": "https://localhost:8080/"
        },
        "id": "xomXeXCZ0PYP",
        "outputId": "d91edf69-d243-4cdf-e7fc-cd3588754aa0"
      },
      "execution_count": null,
      "outputs": [
        {
          "output_type": "stream",
          "name": "stdout",
          "text": [
            "Wow, Python is awesome! Python\n"
          ]
        },
        {
          "output_type": "execute_result",
          "data": {
            "text/plain": [
              "5"
            ]
          },
          "metadata": {},
          "execution_count": 30
        }
      ]
    },
    {
      "cell_type": "markdown",
      "source": [
        "# Input"
      ],
      "metadata": {
        "id": "FMHY_ofE0aFC"
      }
    },
    {
      "cell_type": "code",
      "source": [
        "kelas = input()\n",
        "print(type(int(kelas)))\n",
        "print(kelas + \" sangat menyenangkan!\")"
      ],
      "metadata": {
        "colab": {
          "base_uri": "https://localhost:8080/"
        },
        "id": "YR821GW40cMk",
        "outputId": "ed8c5709-4b1d-456a-d0c6-7963f88b6070"
      },
      "execution_count": null,
      "outputs": [
        {
          "output_type": "stream",
          "name": "stdout",
          "text": [
            "12\n",
            "<class 'int'>\n",
            "12 sangat menyenangkan!\n"
          ]
        }
      ]
    },
    {
      "cell_type": "markdown",
      "source": [
        "# Data Structure"
      ],
      "metadata": {
        "id": "iKPBP0ps0-wc"
      }
    },
    {
      "cell_type": "markdown",
      "source": [
        "* **List**  : ordered, duplicate, changeable, indexed []\n",
        "* **Tuple** : ordered, duplicate, unchangeable ()\n",
        "* **Set**   : unordered, no duplicate {}\n",
        "* **Dictionary** : ordered (Python 3.7), no duplicate, changeable, indexed {}\n",
        "\n",
        "Kita juga bisa melakukan slicing, negative indexing dan berbagai macam method seperti pada string.\n"
      ],
      "metadata": {
        "id": "N6eaXSC31Ju7"
      }
    },
    {
      "cell_type": "markdown",
      "source": [
        "### List"
      ],
      "metadata": {
        "id": "j9HXBh-j2hWQ"
      }
    },
    {
      "cell_type": "code",
      "source": [
        "list_ = [\"jambu\", \"jeruk\", \"apel\", 1, 4.0]\n",
        "print(list_[0]) # first item\n",
        "print(list_[-1]) # last item\n",
        "print(list_[:2]) # 2 first item"
      ],
      "metadata": {
        "colab": {
          "base_uri": "https://localhost:8080/"
        },
        "id": "dLfKaBQL1InS",
        "outputId": "dfb03762-3a43-4b5c-f299-63afba0f47d9"
      },
      "execution_count": null,
      "outputs": [
        {
          "output_type": "stream",
          "name": "stdout",
          "text": [
            "jambu\n",
            "4.0\n",
            "['jambu', 'jeruk']\n"
          ]
        }
      ]
    },
    {
      "cell_type": "code",
      "source": [
        "list_[3] = \"alpukat\"\n",
        "list_"
      ],
      "metadata": {
        "colab": {
          "base_uri": "https://localhost:8080/"
        },
        "id": "HpAQR65b1hv1",
        "outputId": "f4895394-404b-4a93-e059-9c61d88e4984"
      },
      "execution_count": null,
      "outputs": [
        {
          "output_type": "execute_result",
          "data": {
            "text/plain": [
              "['jambu', 'jeruk', 'apel', 'alpukat', 4.0]"
            ]
          },
          "metadata": {},
          "execution_count": 41
        }
      ]
    },
    {
      "cell_type": "code",
      "source": [
        "list_.append(\"apel\")\n",
        "list_"
      ],
      "metadata": {
        "colab": {
          "base_uri": "https://localhost:8080/"
        },
        "id": "lwHyT9pX1lp0",
        "outputId": "ed5a47da-d577-4ff2-e641-c5c7821a4165"
      },
      "execution_count": null,
      "outputs": [
        {
          "output_type": "execute_result",
          "data": {
            "text/plain": [
              "['jambu', 'jeruk', 'apel', 'alpukat', 4.0, 'apel']"
            ]
          },
          "metadata": {},
          "execution_count": 42
        }
      ]
    },
    {
      "cell_type": "code",
      "source": [
        "list_.remove(\"apel\")\n",
        "list_"
      ],
      "metadata": {
        "colab": {
          "base_uri": "https://localhost:8080/"
        },
        "id": "Yl3jCJiJ2Nt2",
        "outputId": "a01656de-c747-4fbd-da1d-e0b1f1b08a93"
      },
      "execution_count": null,
      "outputs": [
        {
          "output_type": "execute_result",
          "data": {
            "text/plain": [
              "['jambu', 'jeruk', 'alpukat', 4.0, 'apel']"
            ]
          },
          "metadata": {},
          "execution_count": 43
        }
      ]
    },
    {
      "cell_type": "code",
      "source": [
        "list_.clear()\n",
        "list_"
      ],
      "metadata": {
        "id": "-HxNVuSx2Uhq",
        "colab": {
          "base_uri": "https://localhost:8080/"
        },
        "outputId": "17b9062d-14c2-4141-d93e-2cbc07942c0f"
      },
      "execution_count": null,
      "outputs": [
        {
          "output_type": "execute_result",
          "data": {
            "text/plain": [
              "[]"
            ]
          },
          "metadata": {},
          "execution_count": 56
        }
      ]
    },
    {
      "cell_type": "markdown",
      "source": [
        "* The range() function can be used to generate a series of numbers. range(10) will generate numbers from 0 to 9 (10 numbers).\n",
        "* We can also specify the lower limit, upper limit, and interval with the format range(lower limit, upper limit, interval)."
      ],
      "metadata": {
        "id": "PwQZalVK3cVL"
      }
    },
    {
      "cell_type": "code",
      "source": [
        "print(list(range(10)))\n",
        "print(list(range(4,10)))\n",
        "print(list(range(0,10,2)))"
      ],
      "metadata": {
        "colab": {
          "base_uri": "https://localhost:8080/"
        },
        "id": "C6v6H4v13OUj",
        "outputId": "9a71cff7-bc19-47b8-b92e-086863bc6d0f"
      },
      "execution_count": null,
      "outputs": [
        {
          "output_type": "stream",
          "name": "stdout",
          "text": [
            "[0, 1, 2, 3, 4, 5, 6, 7, 8, 9]\n",
            "[4, 5, 6, 7, 8, 9]\n",
            "[0, 2, 4, 6, 8]\n"
          ]
        }
      ]
    },
    {
      "cell_type": "markdown",
      "source": [
        "### Tuple"
      ],
      "metadata": {
        "id": "E6XNvNx03jf7"
      }
    },
    {
      "cell_type": "code",
      "source": [
        "tuple_ = (\"accept\", \"success\", \"reject\", \"fail\")\n",
        "print(tuple_)\n",
        "print(tuple_[0])\n",
        "\n",
        "#tuple_[0] = \"yey\" # tidak bisa diedit karena fixed value\n",
        "print(tuple_)\n",
        "\n",
        "#Hasil dari code tersebut adalah..."
      ],
      "metadata": {
        "colab": {
          "base_uri": "https://localhost:8080/"
        },
        "id": "n90A_h2h37YM",
        "outputId": "313d09d3-e210-4bee-9d5d-812d57e60d18"
      },
      "execution_count": null,
      "outputs": [
        {
          "output_type": "stream",
          "name": "stdout",
          "text": [
            "('accept', 'success', 'reject', 'fail')\n",
            "accept\n",
            "('accept', 'success', 'reject', 'fail')\n"
          ]
        }
      ]
    },
    {
      "cell_type": "markdown",
      "source": [
        "### Set"
      ],
      "metadata": {
        "id": "SNYNQLAF3_hU"
      }
    },
    {
      "cell_type": "code",
      "source": [
        "set_ = {\"jambu\", \"apel\", \"jeruk\", \"apel\"}\n",
        "print(set_) # no duplicate\n",
        "# print(set_[0]) # unordered\n",
        "set_.add(\"mangga\")\n",
        "set_.add(\"Mangga\")\n",
        "set_.add(\"Zuzuzu\")\n",
        "set_.add(\"jambu\")\n",
        "set_"
      ],
      "metadata": {
        "colab": {
          "base_uri": "https://localhost:8080/"
        },
        "id": "YD7TsesI4DKM",
        "outputId": "c99504a5-7d50-4f33-d1cd-28438f24a386"
      },
      "execution_count": null,
      "outputs": [
        {
          "output_type": "stream",
          "name": "stdout",
          "text": [
            "{'jeruk', 'jambu', 'apel'}\n"
          ]
        },
        {
          "output_type": "execute_result",
          "data": {
            "text/plain": [
              "{'Mangga', 'Zuzuzu', 'apel', 'jambu', 'jeruk', 'mangga'}"
            ]
          },
          "metadata": {},
          "execution_count": 11
        }
      ]
    },
    {
      "cell_type": "markdown",
      "source": [
        "### Dictionary"
      ],
      "metadata": {
        "id": "0JWjqYNn4H8m"
      }
    },
    {
      "cell_type": "code",
      "source": [
        "dict_ = {\n",
        "    \"name\" : \"KB\",\n",
        "    \"type\" : \"A\",\n",
        "    \"year\" : 2022\n",
        "}\n",
        "\n",
        "print(dict_)\n",
        "print(dict_[\"name\"])\n",
        "print(dict_.get(\"test\", 'ga ada'))\n",
        "print(dict_.get(\"nam\", \"kosong\"))\n",
        "print(dict_.keys())\n",
        "print(dict_.values())"
      ],
      "metadata": {
        "colab": {
          "base_uri": "https://localhost:8080/"
        },
        "id": "AuPoMUtB4L50",
        "outputId": "3c2ae359-d2ed-4b2b-abe8-24cc11ba976c"
      },
      "execution_count": null,
      "outputs": [
        {
          "output_type": "stream",
          "name": "stdout",
          "text": [
            "{'name': 'KB', 'type': 'A', 'year': 2022}\n",
            "KB\n",
            "ga ada\n",
            "kosong\n",
            "dict_keys(['name', 'type', 'year'])\n",
            "dict_values(['KB', 'A', 2022])\n"
          ]
        }
      ]
    },
    {
      "cell_type": "code",
      "source": [
        "dict_[\"year\"] = 2024\n",
        "dict_[\"name\"] = 'Aku'\n",
        "dict_"
      ],
      "metadata": {
        "colab": {
          "base_uri": "https://localhost:8080/"
        },
        "id": "9M9Rgh-g4Pr0",
        "outputId": "021878bd-df13-47f1-f0f7-a3f0f1445690"
      },
      "execution_count": null,
      "outputs": [
        {
          "output_type": "execute_result",
          "data": {
            "text/plain": [
              "{'name': 'Aku', 'type': 'A', 'year': 2024}"
            ]
          },
          "metadata": {},
          "execution_count": 53
        }
      ]
    },
    {
      "cell_type": "markdown",
      "source": [
        "# Conditionals"
      ],
      "metadata": {
        "id": "j9Hovc-W3RLC"
      }
    },
    {
      "cell_type": "markdown",
      "metadata": {
        "id": "axyauPKo3J0q"
      },
      "source": [
        "### if...else..."
      ]
    },
    {
      "cell_type": "markdown",
      "metadata": {
        "id": "aRmketfO3J0r"
      },
      "source": [
        "As we saw in the lecure, the `else` clause is optional, so let's start with a plain `if` statement first:"
      ]
    },
    {
      "cell_type": "code",
      "execution_count": null,
      "metadata": {
        "id": "nhxWpS9X3J0r",
        "outputId": "b7a54f11-3e24-430f-958c-b5b829e21bd1"
      },
      "outputs": [
        {
          "name": "stdout",
          "output_type": "stream",
          "text": [
            "1 is less than 2\n"
          ]
        }
      ],
      "source": [
        "if 1 < 2:\n",
        "    print('1 is less than 2')"
      ]
    },
    {
      "cell_type": "code",
      "execution_count": null,
      "metadata": {
        "id": "2COccsPF3J0s"
      },
      "outputs": [],
      "source": [
        "if 2 < 1:\n",
        "    print('2 is less than 1')"
      ]
    },
    {
      "cell_type": "markdown",
      "metadata": {
        "id": "YFcJQhXl3J0s"
      },
      "source": [
        "As you can see, the code block indented under the `if` statement is executed **if and only if** the conditional expression is `True`."
      ]
    },
    {
      "cell_type": "markdown",
      "metadata": {
        "id": "eJlwADDH3J0t"
      },
      "source": [
        "Be careful with code blocks - keep the code indented. If you unindent the code Python will treat this as outside the code block:"
      ]
    },
    {
      "cell_type": "code",
      "execution_count": null,
      "metadata": {
        "id": "Uwo9FsS93J0t",
        "outputId": "7cbe5072-d498-4338-a611-7fa08ffa91c3"
      },
      "outputs": [
        {
          "name": "stdout",
          "output_type": "stream",
          "text": [
            "block - line 1\n",
            "block - line 2\n",
            "block - line 3\n",
            "next line\n"
          ]
        }
      ],
      "source": [
        "if 1 < 2:\n",
        "    print('block - line 1')\n",
        "    print('block - line 2')\n",
        "    print('block - line 3')\n",
        "print('next line')"
      ]
    },
    {
      "cell_type": "markdown",
      "metadata": {
        "id": "h78Zb55l3J0t"
      },
      "source": [
        "As you can see all the `print` statement executed, but what actually happened is that `next line` would always execute because it is **not** in the `if` block"
      ]
    },
    {
      "cell_type": "code",
      "execution_count": null,
      "metadata": {
        "id": "OPUkk0BS3J0t",
        "outputId": "7a179812-3a6e-4ad1-999c-de3a43671ee3"
      },
      "outputs": [
        {
          "name": "stdout",
          "output_type": "stream",
          "text": [
            "next line\n"
          ]
        }
      ],
      "source": [
        "if 2 < 1:\n",
        "    print('block - line 1')\n",
        "    print('block - line 2')\n",
        "    print('block - line 3')\n",
        "print('next line')"
      ]
    },
    {
      "cell_type": "markdown",
      "metadata": {
        "id": "85ig6y8F3J0t"
      },
      "source": [
        "See, `next line` still printed. A code block is identified by indenting it one level more than the previous line of code, and is terminated by unindenting you next line of code. Most editors, including Jupyter allow you to use the `Tab` key to indent, and `Shift + Tab` to unindent."
      ]
    },
    {
      "cell_type": "markdown",
      "metadata": {
        "id": "yzdrMd_S3J0t"
      },
      "source": [
        "To make things clearer, we often add a blank line after the end of a block:"
      ]
    },
    {
      "cell_type": "code",
      "execution_count": null,
      "metadata": {
        "id": "QAgDsoqj3J0t",
        "outputId": "b4ce4f2b-9855-4a41-89f9-57ea8c65ca57"
      },
      "outputs": [
        {
          "name": "stdout",
          "output_type": "stream",
          "text": [
            "next line\n"
          ]
        }
      ],
      "source": [
        "if 2 < 1:\n",
        "    print('block - line 1')\n",
        "    print('block - line 2')\n",
        "    print('block - line 3')\n",
        "\n",
        "print('next line')"
      ]
    },
    {
      "cell_type": "markdown",
      "metadata": {
        "id": "yhuWEQA33J0t"
      },
      "source": [
        "This makes the code a bit easier to read (easier to sperate the code block from the next line)."
      ]
    },
    {
      "cell_type": "markdown",
      "metadata": {
        "id": "03LAE-Hg3J0t"
      },
      "source": [
        "Code blocks are used frequently throughout Python, so we'll see this many times over."
      ]
    },
    {
      "cell_type": "markdown",
      "metadata": {
        "id": "RQ_ahtHu3J0t"
      },
      "source": [
        "Next, let's look at the `else` clause.\n",
        "\n",
        "The code block under the `else` clause will execute **if and only if** the condition is `False` (in which case the `if` code block does not execute).\n",
        "\n",
        "In other words, the code blocks under the `if` and under the `else` are mutually exclusive - if one runs, the other does not, and vice versa."
      ]
    },
    {
      "cell_type": "code",
      "execution_count": null,
      "metadata": {
        "id": "vIF3B8mk3J0t",
        "outputId": "90f59e27-f8a5-4425-ebfa-98b7ee84c298",
        "colab": {
          "base_uri": "https://localhost:8080/"
        }
      },
      "outputs": [
        {
          "output_type": "stream",
          "name": "stdout",
          "text": [
            "1 is less than 2\n"
          ]
        }
      ],
      "source": [
        "if 1 < 2:\n",
        "    print('1 is less than 2')\n",
        "else:\n",
        "    print('1 is not less than 2')"
      ]
    },
    {
      "cell_type": "code",
      "execution_count": null,
      "metadata": {
        "id": "-XZM2Cuz3J0t",
        "outputId": "12317dfa-9d59-49be-96fd-2c9c502d4499"
      },
      "outputs": [
        {
          "name": "stdout",
          "output_type": "stream",
          "text": [
            "2 is not less than 1\n"
          ]
        }
      ],
      "source": [
        "if 2 < 1:\n",
        "    print('2 is less than 1')\n",
        "else:\n",
        "    print('2 is not less than 1')"
      ]
    },
    {
      "cell_type": "markdown",
      "metadata": {
        "id": "Aum3xfCt3J0u"
      },
      "source": [
        "Of course our conditional expression in the `if` statement can be more complex:"
      ]
    },
    {
      "cell_type": "code",
      "execution_count": null,
      "metadata": {
        "id": "hV4iga7Y3J0u",
        "outputId": "d7fcee95-a294-4be7-f513-022a67c791c4"
      },
      "outputs": [
        {
          "name": "stdout",
          "output_type": "stream",
          "text": [
            "withdrawal authorized\n"
          ]
        }
      ],
      "source": [
        "account_enabled = True\n",
        "balance = 1000\n",
        "withdraw = 100\n",
        "\n",
        "if account_enabled and withdraw <= balance:\n",
        "    print('withdrawal authorized')\n",
        "else:\n",
        "    print('withdrawal not authorized')"
      ]
    },
    {
      "cell_type": "code",
      "execution_count": null,
      "metadata": {
        "id": "_wL_6bbi3J0u",
        "outputId": "db020b36-661b-4ddd-dc09-fce5e397ba73"
      },
      "outputs": [
        {
          "name": "stdout",
          "output_type": "stream",
          "text": [
            "withdrawal not authorized\n"
          ]
        }
      ],
      "source": [
        "account_enabled = True\n",
        "balance = 1000\n",
        "withdraw = 10_000\n",
        "\n",
        "if account_enabled and withdraw <= balance:\n",
        "    print('withdrawal authorized')\n",
        "else:\n",
        "    print('withdrawal not authorized')"
      ]
    },
    {
      "cell_type": "code",
      "execution_count": null,
      "metadata": {
        "id": "GePdgDgC3J0u",
        "outputId": "bcd61b79-57b8-4d82-e163-0b1ff0aa28dc"
      },
      "outputs": [
        {
          "name": "stdout",
          "output_type": "stream",
          "text": [
            "withdrawal not authorized\n"
          ]
        }
      ],
      "source": [
        "account_enabled = False\n",
        "balance = 1000\n",
        "withdraw = 100\n",
        "\n",
        "if account_enabled and withdraw <= balance:\n",
        "    print('withdrawal authorized')\n",
        "else:\n",
        "    print('withdrawal not authorized')"
      ]
    },
    {
      "cell_type": "markdown",
      "metadata": {
        "id": "qsBRztz63J0u"
      },
      "source": [
        "Code blocks can contain any valid Python code.\n",
        "\n",
        "Amongst other things, they can contain other `if...else...` statements too!"
      ]
    },
    {
      "cell_type": "markdown",
      "metadata": {
        "id": "mkl_i8QV3J0u"
      },
      "source": [
        "For example, in the account example we did above, we may want to provide a better error message that is more specific - like \"account disabled\" or \"insufficient funds\"."
      ]
    },
    {
      "cell_type": "markdown",
      "metadata": {
        "id": "908t6d4S3J0u"
      },
      "source": [
        "We could do it this way:"
      ]
    },
    {
      "cell_type": "code",
      "execution_count": null,
      "metadata": {
        "id": "FmbRdKDR3J0u",
        "outputId": "4fab8231-fa15-49c7-a4d4-0f907a373a2c"
      },
      "outputs": [
        {
          "name": "stdout",
          "output_type": "stream",
          "text": [
            "account disabled\n"
          ]
        }
      ],
      "source": [
        "account_enabled = False\n",
        "balance = 1000\n",
        "withdraw = 100\n",
        "\n",
        "if account_enabled and withdraw <= balance:\n",
        "    print('withdrawal authorized')\n",
        "else:\n",
        "    # cannot withdraw for some reason\n",
        "    if not account_enabled:\n",
        "        print('account disabled')\n",
        "    else:\n",
        "        # must be insufficient funds\n",
        "        print('insufficient funds')"
      ]
    },
    {
      "cell_type": "code",
      "execution_count": null,
      "metadata": {
        "id": "pZu1Vpnr3J0u",
        "outputId": "14e2985b-fa9e-4811-c3af-397c73138e52"
      },
      "outputs": [
        {
          "name": "stdout",
          "output_type": "stream",
          "text": [
            "insufficient funds\n"
          ]
        }
      ],
      "source": [
        "account_enabled = True\n",
        "balance = 1000\n",
        "withdraw = 100_000\n",
        "\n",
        "if account_enabled and withdraw <= balance:\n",
        "    print('withdrawal authorized')\n",
        "else:\n",
        "    # cannot withdraw for some reason\n",
        "    if not account_enabled:\n",
        "        print('account disabled')\n",
        "    else:\n",
        "        # must be insufficient funds\n",
        "        print('insufficient funds')"
      ]
    },
    {
      "cell_type": "markdown",
      "metadata": {
        "id": "hUIfVYF-3J0u"
      },
      "source": [
        "Too many levels of nested code can make it harder to read - so try to avoid this if you can."
      ]
    },
    {
      "cell_type": "markdown",
      "metadata": {
        "id": "U8FtI74N3J0u"
      },
      "source": [
        "For example, suppose we need to assign a letter grade based on a range of numerical grades:\n",
        "```\n",
        ">= 90       --> A\n",
        ">= 80, < 90 --> B\n",
        ">= 70, < 80 --> C\n",
        ">= 60, < 70 --> D\n",
        "< 60        --> F\n",
        "```"
      ]
    },
    {
      "cell_type": "markdown",
      "metadata": {
        "id": "7WPGLW5Y3J0u"
      },
      "source": [
        "We could write it this way:"
      ]
    },
    {
      "cell_type": "code",
      "source": [
        "grade = 72\n",
        "\n",
        "if grade >= 90:\n",
        "    letter_grade = 'A'\n",
        "elif grade >= 80 and grade < 90:\n",
        "    letter_grade = 'B'\n",
        "elif grade >= 70 and grade < 80:\n",
        "    letter_grade = 'C'\n",
        "elif grade >= 60 and grade < 70:\n",
        "    letter_grade = 'D'\n",
        "else:\n",
        "   letter_grade = 'F'\n",
        "\n",
        "print(letter_grade)"
      ],
      "metadata": {
        "colab": {
          "base_uri": "https://localhost:8080/"
        },
        "id": "WLgqa6-FxPcs",
        "outputId": "4431de64-ad50-474c-fffb-3a787c209765"
      },
      "execution_count": null,
      "outputs": [
        {
          "output_type": "stream",
          "name": "stdout",
          "text": [
            "C\n"
          ]
        }
      ]
    },
    {
      "cell_type": "code",
      "execution_count": null,
      "metadata": {
        "id": "I3xmklq83J0u",
        "outputId": "ed9f4152-f36a-4312-b245-870acda9af68"
      },
      "outputs": [
        {
          "name": "stdout",
          "output_type": "stream",
          "text": [
            "C\n"
          ]
        }
      ],
      "source": [
        "grade = 72\n",
        "\n",
        "if grade >= 90:\n",
        "    letter_grade = 'A'\n",
        "else:\n",
        "    if grade >= 80:\n",
        "        letter_grade = 'B'\n",
        "    else:\n",
        "        if grade >= 70:\n",
        "            letter_grade = 'C'\n",
        "        else:\n",
        "            if grade >= 60:\n",
        "                letter_grade = 'D'\n",
        "            else:\n",
        "                letter_grade = 'F'\n",
        "\n",
        "print(letter_grade)"
      ]
    },
    {
      "cell_type": "markdown",
      "metadata": {
        "id": "5AaJprBe3J0u"
      },
      "source": [
        "This can get difficult to read.\n",
        "A slightly different approach could be as follows:"
      ]
    },
    {
      "cell_type": "code",
      "execution_count": null,
      "metadata": {
        "id": "51Cqb1aR3J0u",
        "outputId": "bbe80f52-a365-4496-ea80-a41c12036d28"
      },
      "outputs": [
        {
          "name": "stdout",
          "output_type": "stream",
          "text": [
            "C\n"
          ]
        }
      ],
      "source": [
        "grade = 72\n",
        "\n",
        "if grade >= 90:\n",
        "    letter_grade = 'A'\n",
        "\n",
        "if grade >= 80 and grade < 90:\n",
        "    letter_grade = 'B'\n",
        "\n",
        "if grade >= 70 and grade < 80:\n",
        "    letter_grade = 'C'\n",
        "\n",
        "if grade >= 60 and grade < 70:\n",
        "    letter_grade = 'D'\n",
        "\n",
        "if grade < 60:\n",
        "    letter_grade = 'F'\n",
        "\n",
        "print(letter_grade)"
      ]
    },
    {
      "cell_type": "markdown",
      "metadata": {
        "id": "_Rof-j-o3J0u"
      },
      "source": [
        "This works, but a lot of needless comparisons - that's not ideal either.\n",
        "\n",
        "Also there is a danger that all the `if` statement in our code do not account for all possible grades - they do in this case, but what if we had forgottn one interval, or gotten some of the intervals wrong?"
      ]
    },
    {
      "cell_type": "markdown",
      "metadata": {
        "id": "5OIcBnwv3J0v"
      },
      "source": [
        "We could try this approach too, where we assign a default grade as the lowest grade (so we are ensured we always have a grade), and that results in less comparisons:"
      ]
    },
    {
      "cell_type": "code",
      "execution_count": null,
      "metadata": {
        "id": "vbXOGW7G3J0v",
        "outputId": "1b647e81-1e14-43cf-cfb0-06a42307cb03"
      },
      "outputs": [
        {
          "name": "stdout",
          "output_type": "stream",
          "text": [
            "C\n"
          ]
        }
      ],
      "source": [
        "grade = 72\n",
        "\n",
        "letter_grade = 'F'\n",
        "\n",
        "if grade >= 60:\n",
        "    letter_grade = 'D'\n",
        "\n",
        "if grade >= 70:\n",
        "    letter_grade = 'C'\n",
        "\n",
        "if grade >= 80:\n",
        "    letter_grade = 'B'\n",
        "\n",
        "if grade >= 90:\n",
        "    letter_grade = 'A'\n",
        "\n",
        "print(letter_grade)"
      ]
    },
    {
      "cell_type": "markdown",
      "metadata": {
        "id": "AyPiR4u43J0v"
      },
      "source": [
        "So less comparisons, and we are at least guarantee for `letter_grade` to have a value (but maybe the wrong one if we missed an interval or forgot one altogether) - so that's a bit better than the last approach in those respects."
      ]
    },
    {
      "cell_type": "markdown",
      "metadata": {
        "id": "R9FHtnWZ3J0v"
      },
      "source": [
        "But we've also done a lot of unecessary work!\n",
        "\n",
        "To assign the grade `C` we:\n",
        "- first assigned 'F'\n",
        "- then assigned 'D'\n",
        "- then assigned 'C'\n",
        "- then performed the `grade >= 80` check but did not assign a new grade\n",
        "- then performed the `grade >= 90` check but did not assign a new grade"
      ]
    },
    {
      "cell_type": "markdown",
      "metadata": {
        "id": "K21cIlwX3J0v"
      },
      "source": [
        "So this is far from ideal either!"
      ]
    },
    {
      "cell_type": "markdown",
      "metadata": {
        "id": "ntRz-MGi3J0v"
      },
      "source": [
        "Fortunately Python provides us a cleaner solution for this type of problem - stay tuned for the next video!"
      ]
    },
    {
      "cell_type": "markdown",
      "source": [],
      "metadata": {
        "id": "tXUlDSIs3PuV"
      }
    },
    {
      "cell_type": "markdown",
      "metadata": {
        "id": "Z77E09np4jjz"
      },
      "source": [
        "### The `elif` Clause"
      ]
    },
    {
      "cell_type": "markdown",
      "metadata": {
        "id": "IXQy9w6Y4jj0"
      },
      "source": [
        "Let's recall the example we had with a lof of nested `if...else...` statements."
      ]
    },
    {
      "cell_type": "code",
      "execution_count": null,
      "metadata": {
        "id": "LADvTG6D4jj0",
        "outputId": "7cccb125-66f4-4c02-8957-8fc58959703f"
      },
      "outputs": [
        {
          "name": "stdout",
          "output_type": "stream",
          "text": [
            "C\n"
          ]
        }
      ],
      "source": [
        "grade = 72\n",
        "\n",
        "if grade >= 90:\n",
        "    letter_grade = 'A'\n",
        "else:\n",
        "    if grade >= 80:\n",
        "        letter_grade = 'B'\n",
        "    else:\n",
        "        if grade >= 70:\n",
        "            letter_grade = 'C'\n",
        "        else:\n",
        "            if grade >= 60:\n",
        "                letter_grade = 'D'\n",
        "            else:\n",
        "                letter_grade = 'F'\n",
        "\n",
        "print(letter_grade)"
      ]
    },
    {
      "cell_type": "markdown",
      "metadata": {
        "id": "d6OKZAFg4jj1"
      },
      "source": [
        "We tried several alternatives, but none were very satisfactory."
      ]
    },
    {
      "cell_type": "markdown",
      "metadata": {
        "id": "fL-lq9WJ4jj1"
      },
      "source": [
        "Instead, we can use the `elif` clause which basically is like doing a nested else...if... statement without actually having to do it, for example:"
      ]
    },
    {
      "cell_type": "code",
      "execution_count": null,
      "metadata": {
        "id": "12dampna4jj1",
        "outputId": "db792f0e-0c57-4184-da7a-db70a5e26529"
      },
      "outputs": [
        {
          "name": "stdout",
          "output_type": "stream",
          "text": [
            "Passed\n"
          ]
        }
      ],
      "source": [
        "grade = 72\n",
        "\n",
        "if grade >= 80:\n",
        "    print('Passed with distinction')\n",
        "else:\n",
        "    if grade >= 70:\n",
        "        print('Passed')\n",
        "    else:\n",
        "        print('Failed')"
      ]
    },
    {
      "cell_type": "markdown",
      "metadata": {
        "id": "kEhPTFyF4jj1"
      },
      "source": [
        "We can rewrite this using `elif` as follows:"
      ]
    },
    {
      "cell_type": "code",
      "execution_count": null,
      "metadata": {
        "id": "ZeT4BMVL4jj2",
        "outputId": "dea95647-1064-4b41-e4c4-0678c695fa06"
      },
      "outputs": [
        {
          "name": "stdout",
          "output_type": "stream",
          "text": [
            "Passed\n"
          ]
        }
      ],
      "source": [
        "grade = 72\n",
        "\n",
        "if grade >= 80:\n",
        "    print('Passed with distinction')\n",
        "elif grade >= 70:\n",
        "    print('Passed')\n",
        "else:\n",
        "    print('Failed')"
      ]
    },
    {
      "cell_type": "markdown",
      "metadata": {
        "id": "vpZkMePA4jj2"
      },
      "source": [
        "Note how the `else` clause is at the same level as the main `if` statement - that's because the `else` block only executes if none of the other `if` or `elif` blocks executed."
      ]
    },
    {
      "cell_type": "markdown",
      "metadata": {
        "id": "DXr4Np3S4jj2"
      },
      "source": [
        "So now, we can rewrite our grade letter assignment as follows:"
      ]
    },
    {
      "cell_type": "code",
      "execution_count": null,
      "metadata": {
        "id": "75DXBT_E4jj2",
        "outputId": "bc3e9ddf-71eb-4ac0-c406-a355ed5fa340"
      },
      "outputs": [
        {
          "name": "stdout",
          "output_type": "stream",
          "text": [
            "C\n"
          ]
        }
      ],
      "source": [
        "grade = 72\n",
        "\n",
        "if grade >= 90:\n",
        "    letter_grade = 'A'\n",
        "elif grade >= 80:\n",
        "    letter_grade = 'B'\n",
        "elif grade >= 70:\n",
        "    letter_grade = 'C'\n",
        "elif grade >= 60:\n",
        "    letter_grade = 'D'\n",
        "else:\n",
        "    letter_grade = 'F'\n",
        "\n",
        "print(letter_grade)"
      ]
    },
    {
      "cell_type": "markdown",
      "metadata": {
        "id": "wqVouD674jj2"
      },
      "source": [
        "Let's try this again with a previous example:"
      ]
    },
    {
      "cell_type": "code",
      "execution_count": null,
      "metadata": {
        "id": "q2zUxeTF4jj2",
        "outputId": "1e6d9fbd-733b-4743-a241-a07f7762cea7"
      },
      "outputs": [
        {
          "name": "stdout",
          "output_type": "stream",
          "text": [
            "insufficient funds\n"
          ]
        }
      ],
      "source": [
        "account_enabled = True\n",
        "balance = 1000\n",
        "withdraw = 100_000\n",
        "\n",
        "if account_enabled and withdraw <= balance:\n",
        "    print('withdrawal authorized')\n",
        "else:\n",
        "    # cannot withdraw for some reason\n",
        "    if not account_enabled:\n",
        "        print('account disabled')\n",
        "    else:\n",
        "        # must be insufficient funds\n",
        "        print('insufficient funds')"
      ]
    },
    {
      "cell_type": "markdown",
      "metadata": {
        "id": "IxNCF8GM4jj2"
      },
      "source": [
        "We can simplify this a bit, without even using `elif`:"
      ]
    },
    {
      "cell_type": "code",
      "execution_count": null,
      "metadata": {
        "id": "oglqF2YM4jj2",
        "outputId": "8e4ee246-fa4c-480b-a3d1-e9b3920054eb"
      },
      "outputs": [
        {
          "name": "stdout",
          "output_type": "stream",
          "text": [
            "insufficient funds\n"
          ]
        }
      ],
      "source": [
        "account_enabled = True\n",
        "balance = 1000\n",
        "withdraw = 100_000\n",
        "\n",
        "if not account_enabled:\n",
        "    print('account disabled')\n",
        "else:\n",
        "    # account is enabled\n",
        "    if withdraw > balance:\n",
        "        print('insufficient funds')\n",
        "    else:\n",
        "        print('withdrawal authorized')"
      ]
    },
    {
      "cell_type": "markdown",
      "metadata": {
        "id": "Jad9tE-04jj2"
      },
      "source": [
        "This is a bit of simpler because we do not test `account_enabled` twice like in the first attempt."
      ]
    },
    {
      "cell_type": "markdown",
      "metadata": {
        "id": "t_6wtnCJ4jj2"
      },
      "source": [
        "But let's use `elif` to remove some of that nested code:"
      ]
    },
    {
      "cell_type": "code",
      "execution_count": null,
      "metadata": {
        "id": "WodlurNn4jj2",
        "outputId": "02bd96e2-8fbd-4de9-c362-89707537d104"
      },
      "outputs": [
        {
          "name": "stdout",
          "output_type": "stream",
          "text": [
            "insufficient funds\n"
          ]
        }
      ],
      "source": [
        "account_enabled = True\n",
        "balance = 1000\n",
        "withdraw = 100_000\n",
        "\n",
        "if not account_enabled:\n",
        "    print('account disabled')\n",
        "elif withdraw > balance:\n",
        "    print('insufficient funds')\n",
        "else:\n",
        "    print('withdrawal authorized')"
      ]
    },
    {
      "cell_type": "markdown",
      "metadata": {
        "id": "u988ZpWb4jj2"
      },
      "source": [
        "Note: if you are coming from another programming language such as Java, C++, C#, etc you may be wondering about the `switch` statement.\n",
        "\n",
        "Python does not have one - `elif` is as close as you're going to get to a `switch` statement."
      ]
    },
    {
      "cell_type": "markdown",
      "source": [
        "# Looping"
      ],
      "metadata": {
        "id": "fHtqPaqx6BQI"
      }
    },
    {
      "cell_type": "markdown",
      "metadata": {
        "id": "pWXOfsPX7RGq"
      },
      "source": [
        "### Continue, Break and Else"
      ]
    },
    {
      "cell_type": "markdown",
      "metadata": {
        "id": "MMWPbgGR7RGr"
      },
      "source": [
        "Often, when we are in the middle of running a loop of some kind (`for` or `while`), we may want to exit the loop entirely or skip to the next iteration (if there is one)."
      ]
    },
    {
      "cell_type": "markdown",
      "metadata": {
        "id": "zLmVI9hp7RGr"
      },
      "source": [
        "Let's start by looking at the `break` statement, which we can use to break out of a loop entirely."
      ]
    },
    {
      "cell_type": "code",
      "execution_count": null,
      "metadata": {
        "id": "WhRe0Yxv7RGr",
        "colab": {
          "base_uri": "https://localhost:8080/"
        },
        "outputId": "ec856c36-c8b8-4eaa-9abe-de2f886dd2f0"
      },
      "outputs": [
        {
          "output_type": "stream",
          "name": "stdout",
          "text": [
            "0\n",
            "1\n",
            "2\n",
            "3\n",
            "4\n",
            "5\n",
            "breaking out of loop\n",
            "done\n"
          ]
        }
      ],
      "source": [
        "for i in range(100):\n",
        "    print(i)\n",
        "    if i >= 5:\n",
        "        print('breaking out of loop')\n",
        "        break\n",
        "print('done')"
      ]
    },
    {
      "cell_type": "markdown",
      "metadata": {
        "id": "iJ0wGmGg7RGs"
      },
      "source": [
        "Sometimes we just want to bypass the remaining code in an iteration without stopping the loop entirely:"
      ]
    },
    {
      "cell_type": "code",
      "execution_count": null,
      "metadata": {
        "id": "0Tw3wQmh7RGs",
        "colab": {
          "base_uri": "https://localhost:8080/"
        },
        "outputId": "664b3c73-59bf-41af-baf6-76cb74033e1d"
      },
      "outputs": [
        {
          "output_type": "stream",
          "name": "stdout",
          "text": [
            "2\n",
            "4\n",
            "6\n",
            "8\n",
            "10\n"
          ]
        }
      ],
      "source": [
        "for i in range(1, 11):\n",
        "    if i % 2 == 1:\n",
        "        # odd number - skip this\n",
        "        continue\n",
        "    print(i)"
      ]
    },
    {
      "cell_type": "markdown",
      "metadata": {
        "id": "fQXmyLVF7RGs"
      },
      "source": [
        "Now, often it is clearer to use a conditional instead of using `continue`:"
      ]
    },
    {
      "cell_type": "code",
      "execution_count": null,
      "metadata": {
        "id": "CXnCA4Iy7RGs",
        "colab": {
          "base_uri": "https://localhost:8080/"
        },
        "outputId": "6a6647f8-4a43-4a65-d046-ec302699744e"
      },
      "outputs": [
        {
          "output_type": "stream",
          "name": "stdout",
          "text": [
            "2\n",
            "4\n",
            "6\n",
            "8\n",
            "10\n"
          ]
        }
      ],
      "source": [
        "for i in range(1, 11):\n",
        "    if i % 2 == 0:\n",
        "        # even number\n",
        "        print(i)"
      ]
    },
    {
      "cell_type": "markdown",
      "metadata": {
        "id": "NerGP0vO7RGs"
      },
      "source": [
        "This achieved the same result, and I think the code is clearer than using `continue`. However, you might run into situations, where you have maybe multiple places where it might make sense to `continue` and where using conditionals would become too repetitive - assess your code as you are writing it and think which approach will be clearer.\n",
        "\n",
        "Readability matters!"
      ]
    },
    {
      "cell_type": "markdown",
      "metadata": {
        "id": "5tYehHQL7RGs"
      },
      "source": [
        "The other thing that we should understand is that `break` or `continue` operate on the loop they are directly contained in - this is specifically important when working with nested loops."
      ]
    },
    {
      "cell_type": "code",
      "execution_count": null,
      "metadata": {
        "id": "0QgW_n6q7RGs",
        "colab": {
          "base_uri": "https://localhost:8080/"
        },
        "outputId": "ab642bd5-faaf-4e09-ea9c-eefda4987a04"
      },
      "outputs": [
        {
          "output_type": "stream",
          "name": "stdout",
          "text": [
            "adding numbers: 1 + 1 = 2\n",
            "1 + 2 is odd, skipping\n",
            "adding numbers: 1 + 3 = 4\n",
            "1 + 4 is odd, skipping\n",
            "2 + 1 is odd, skipping\n",
            "adding numbers: 2 + 2 = 4\n",
            "2 + 3 is odd, skipping\n",
            "adding numbers: 2 + 4 = 6\n",
            "adding numbers: 3 + 1 = 4\n",
            "3 + 2 is odd, skipping\n",
            "adding numbers: 3 + 3 = 6\n",
            "3 + 4 is odd, skipping\n",
            "4 + 1 is odd, skipping\n",
            "adding numbers: 4 + 2 = 6\n",
            "4 + 3 is odd, skipping\n",
            "adding numbers: 4 + 4 = 8\n"
          ]
        }
      ],
      "source": [
        "for i in range(1, 5):\n",
        "    for j in range(1, 5):\n",
        "        if (i + j) % 2 == 1:\n",
        "            print(f'{i} + {j} is odd, skipping')\n",
        "            continue\n",
        "        print(f'adding numbers: {i} + {j} = {i + j}')"
      ]
    },
    {
      "cell_type": "markdown",
      "metadata": {
        "id": "kZUqWJd37RGs"
      },
      "source": [
        "As you can see, the `continue` applied to the innermost loop, since it was located in the innermost loop's code block."
      ]
    },
    {
      "cell_type": "markdown",
      "metadata": {
        "id": "l8t8e_tt7RGs"
      },
      "source": [
        "The same thing applies to `break` - it exits the loop it is currently in:"
      ]
    },
    {
      "cell_type": "code",
      "execution_count": null,
      "metadata": {
        "id": "fPbLbADD7RGt",
        "outputId": "a0d6fe28-210b-405d-c782-fce01723b113"
      },
      "outputs": [
        {
          "name": "stdout",
          "output_type": "stream",
          "text": [
            "1 1\n",
            "1 2\n",
            "2 1\n",
            "2 2\n",
            "3 1\n",
            "3 2\n"
          ]
        }
      ],
      "source": [
        "for i in range(1, 4):\n",
        "    for j in range(1, 4):\n",
        "        if j >= 3:\n",
        "            break\n",
        "        print(i, j)"
      ]
    },
    {
      "cell_type": "markdown",
      "metadata": {
        "id": "RalKMSkv7RGt"
      },
      "source": [
        "As you can see, the outermost loop ran to completion."
      ]
    },
    {
      "cell_type": "markdown",
      "metadata": {
        "id": "xxb9r-LK7RGt"
      },
      "source": [
        "These `break` and `continue` statements work the same with a `while` loop too:"
      ]
    },
    {
      "cell_type": "code",
      "execution_count": null,
      "metadata": {
        "id": "piE9xHrl7RGt",
        "outputId": "4d2c7a4d-dc34-4c65-a0c2-28de424d572a"
      },
      "outputs": [
        {
          "name": "stdout",
          "output_type": "stream",
          "text": [
            "1\n",
            "2\n",
            "3\n",
            "4\n",
            "5\n"
          ]
        }
      ],
      "source": [
        "i = 0\n",
        "\n",
        "while True:\n",
        "    i += 1\n",
        "    if i > 5:\n",
        "        break\n",
        "    print(i)"
      ]
    },
    {
      "cell_type": "markdown",
      "metadata": {
        "id": "Mkkr_-Zi7RGt"
      },
      "source": [
        "One thing that is often needed is to know whether a loop terminated \"normally\" - that is without encountering a `break`."
      ]
    },
    {
      "cell_type": "markdown",
      "metadata": {
        "id": "WCxBTk8G7RGt"
      },
      "source": [
        "Consider this example, where we are iterating over a list of integers, and we want to check that all values are positive:"
      ]
    },
    {
      "cell_type": "code",
      "execution_count": null,
      "metadata": {
        "id": "7ws29vtP7RGt"
      },
      "outputs": [],
      "source": [
        "data = [1, 2, 3, -4, 5, 6]\n",
        "\n",
        "all_positive = True\n",
        "\n",
        "for element in data:\n",
        "    if element <= 0:\n",
        "        all_positive = False\n",
        "        break\n",
        "\n",
        "if all_positive:\n",
        "    print('processing list of all positive elements')"
      ]
    },
    {
      "cell_type": "markdown",
      "metadata": {
        "id": "5XIUq37S7RGt"
      },
      "source": [
        "So we basically used a flag `all_positive`, initialized to `True`. We set it to `False` as soon as we encounter a negative value - we also `break` since we do not need to continue the iteration - we found one negative value, so that answers our question."
      ]
    },
    {
      "cell_type": "markdown",
      "metadata": {
        "id": "cpx_umvt7RGt"
      },
      "source": [
        "But there is a more expressive way of doing this in Python, using the `else` clause that can be applied to either `for` or `while` loops."
      ]
    },
    {
      "cell_type": "markdown",
      "metadata": {
        "id": "RvAUTJcl7RGt"
      },
      "source": [
        "The name `else` is a bit puzzling, but it essentially means \"no break encountered\":"
      ]
    },
    {
      "cell_type": "code",
      "execution_count": null,
      "metadata": {
        "id": "pzoeXxnN7RGt",
        "outputId": "be1a2484-9fe7-45c0-c025-46a5fae7e613"
      },
      "outputs": [
        {
          "name": "stdout",
          "output_type": "stream",
          "text": [
            "0\n",
            "1\n",
            "2\n",
            "3\n",
            "4\n",
            "loop terminated normally\n"
          ]
        }
      ],
      "source": [
        "for i in range(5):\n",
        "    print(i)\n",
        "else: # no break\n",
        "    print('loop terminated normally')"
      ]
    },
    {
      "cell_type": "code",
      "execution_count": null,
      "metadata": {
        "id": "dMKgm2oD7RGt",
        "outputId": "312d3732-b78d-4bbe-be24-6f98e1e09727",
        "colab": {
          "base_uri": "https://localhost:8080/"
        }
      },
      "outputs": [
        {
          "output_type": "stream",
          "name": "stdout",
          "text": [
            "0\n",
            "1\n",
            "2\n",
            "3\n",
            "4\n"
          ]
        }
      ],
      "source": [
        "for i in range(5):\n",
        "    print(i)\n",
        "    if i > 3:\n",
        "        break\n",
        "else: # no break\n",
        "    print('loop terminated normally')"
      ]
    },
    {
      "cell_type": "markdown",
      "metadata": {
        "id": "LCwtLvYS7RGu"
      },
      "source": [
        "So, we can actually apply this to our example - we don't need to use that flag, all we need to do is know whether `break` was encountered or not, so instead of this:"
      ]
    },
    {
      "cell_type": "code",
      "execution_count": null,
      "metadata": {
        "id": "ZAvxLvRu7RGu"
      },
      "outputs": [],
      "source": [
        "data = [1, 2, 3, -4, 5, 6]\n",
        "\n",
        "all_positive = True\n",
        "\n",
        "for element in data:\n",
        "    if element < 0:\n",
        "        all_positive = False\n",
        "        break\n",
        "\n",
        "if all_positive:\n",
        "    print('processing all positive elements')"
      ]
    },
    {
      "cell_type": "raw",
      "metadata": {
        "id": "QHWkl5oV7RGu"
      },
      "source": [
        "we can write this:"
      ]
    },
    {
      "cell_type": "code",
      "execution_count": null,
      "metadata": {
        "id": "3QBpdDaZ7RGu",
        "outputId": "92a990d6-d952-4a74-a031-8132d0b80738"
      },
      "outputs": [
        {
          "name": "stdout",
          "output_type": "stream",
          "text": [
            "processing all positive elements\n"
          ]
        }
      ],
      "source": [
        "data = [1, 2, 3, 4, 5, 6]\n",
        "\n",
        "for element in data:\n",
        "    if element < 0:\n",
        "        break\n",
        "else: # no break\n",
        "    print('processing all positive elements')"
      ]
    },
    {
      "cell_type": "markdown",
      "metadata": {
        "id": "EhstxJYE7RGu"
      },
      "source": [
        "### The `range` Function"
      ]
    },
    {
      "cell_type": "markdown",
      "metadata": {
        "id": "y2Cn79zP7RGu"
      },
      "source": [
        "The `range()` function is a built-in Python function that we can use to create ranges of integer values."
      ]
    },
    {
      "cell_type": "code",
      "execution_count": null,
      "metadata": {
        "id": "43j6IFms7RGu",
        "colab": {
          "base_uri": "https://localhost:8080/"
        },
        "outputId": "25d27406-55ac-42aa-8280-b99842682f36"
      },
      "outputs": [
        {
          "output_type": "execute_result",
          "data": {
            "text/plain": [
              "range(0, 10)"
            ]
          },
          "metadata": {},
          "execution_count": 72
        }
      ],
      "source": [
        "range(10)"
      ]
    },
    {
      "cell_type": "markdown",
      "metadata": {
        "id": "L46HTMpU7RGu"
      },
      "source": [
        "The return value is not a list or a tuple, it is a special `range` object:"
      ]
    },
    {
      "cell_type": "code",
      "execution_count": null,
      "metadata": {
        "id": "2wXxzkgQ7RGu",
        "colab": {
          "base_uri": "https://localhost:8080/"
        },
        "outputId": "40aa1d9c-adcf-4359-b2d1-03a1d9251216"
      },
      "outputs": [
        {
          "output_type": "execute_result",
          "data": {
            "text/plain": [
              "range"
            ]
          },
          "metadata": {},
          "execution_count": 73
        }
      ],
      "source": [
        "type(range(10))"
      ]
    },
    {
      "cell_type": "markdown",
      "metadata": {
        "id": "2PY4baw77RGu"
      },
      "source": [
        "This range object is **iterable** - i.e. we can iterate over it's elements, and we'll see how iteration works in this chapter."
      ]
    },
    {
      "cell_type": "markdown",
      "metadata": {
        "id": "DoE7QFHE7RGu"
      },
      "source": [
        "For now, we can see the integers that would be returned during iteration by converting that range object to a list or a tuple:"
      ]
    },
    {
      "cell_type": "code",
      "execution_count": null,
      "metadata": {
        "id": "E6gyW4YO7RGu",
        "colab": {
          "base_uri": "https://localhost:8080/"
        },
        "outputId": "46dc27e0-d814-4098-985c-d930f894cb1d"
      },
      "outputs": [
        {
          "output_type": "execute_result",
          "data": {
            "text/plain": [
              "(0, 1, 2, 3, 4, 5, 6, 7, 8, 9)"
            ]
          },
          "metadata": {},
          "execution_count": 74
        }
      ],
      "source": [
        "tuple(range(10))"
      ]
    },
    {
      "cell_type": "code",
      "execution_count": null,
      "metadata": {
        "id": "V1LZ01Gh7RGu",
        "colab": {
          "base_uri": "https://localhost:8080/"
        },
        "outputId": "25104d51-a715-4f18-c737-bff435ab09d8"
      },
      "outputs": [
        {
          "output_type": "execute_result",
          "data": {
            "text/plain": [
              "[0, 1, 2, 3, 4, 5, 6, 7, 8, 9]"
            ]
          },
          "metadata": {},
          "execution_count": 75
        }
      ],
      "source": [
        "list(range(10))"
      ]
    },
    {
      "cell_type": "markdown",
      "metadata": {
        "id": "MxIGieDR7RGu"
      },
      "source": [
        "Essentially the `list()` / `tuple()` functions iterated over the range object and made a list/tuple out of those integers."
      ]
    },
    {
      "cell_type": "markdown",
      "metadata": {
        "id": "xzItTnVw7RGv"
      },
      "source": [
        "The `range` function has three flavors."
      ]
    },
    {
      "cell_type": "markdown",
      "metadata": {
        "id": "rGU6oF367RGv"
      },
      "source": [
        "If we only specify a single argument, then Python takes it to mean the end (exclusive), starting with `0`:"
      ]
    },
    {
      "cell_type": "code",
      "execution_count": null,
      "metadata": {
        "id": "BaFj7eX57RGv",
        "colab": {
          "base_uri": "https://localhost:8080/"
        },
        "outputId": "bfacaa29-c530-4c7e-baa0-45136d52efaf"
      },
      "outputs": [
        {
          "output_type": "execute_result",
          "data": {
            "text/plain": [
              "[0, 1, 2, 3, 4]"
            ]
          },
          "metadata": {},
          "execution_count": 76
        }
      ],
      "source": [
        "list(range(5))"
      ]
    },
    {
      "cell_type": "markdown",
      "metadata": {
        "id": "qfspVzJR7RGv"
      },
      "source": [
        "If we specify two arguments, then Python interprets that as the `start` and `end` (exclusive) values:"
      ]
    },
    {
      "cell_type": "code",
      "execution_count": null,
      "metadata": {
        "id": "Gpa1KAP97RGv",
        "colab": {
          "base_uri": "https://localhost:8080/"
        },
        "outputId": "32e7b879-600c-4015-94fd-9e038ddab634"
      },
      "outputs": [
        {
          "output_type": "execute_result",
          "data": {
            "text/plain": [
              "[2, 3, 4, 5]"
            ]
          },
          "metadata": {},
          "execution_count": 77
        }
      ],
      "source": [
        "list(range(2, 6))"
      ]
    },
    {
      "cell_type": "markdown",
      "metadata": {
        "id": "euvgzhiz7RGv"
      },
      "source": [
        "You'll note that the length of the iterable is `end - start`:"
      ]
    },
    {
      "cell_type": "code",
      "execution_count": null,
      "metadata": {
        "id": "jXrSUa4x7RGv",
        "outputId": "9d357017-ef83-481f-a8bf-0855ac559eaf",
        "colab": {
          "base_uri": "https://localhost:8080/"
        }
      },
      "outputs": [
        {
          "output_type": "execute_result",
          "data": {
            "text/plain": [
              "8"
            ]
          },
          "metadata": {},
          "execution_count": 80
        }
      ],
      "source": [
        "len(range(100, 108))"
      ]
    },
    {
      "cell_type": "code",
      "execution_count": null,
      "metadata": {
        "id": "WgaCxaY_7RGv",
        "outputId": "369c68d1-773a-4521-95f2-7105c3a29cdc",
        "colab": {
          "base_uri": "https://localhost:8080/"
        }
      },
      "outputs": [
        {
          "output_type": "execute_result",
          "data": {
            "text/plain": [
              "5"
            ]
          },
          "metadata": {},
          "execution_count": 81
        }
      ],
      "source": [
        "len(range(5))"
      ]
    },
    {
      "cell_type": "markdown",
      "metadata": {
        "id": "VvG2pLNU7RGv"
      },
      "source": [
        "If we specify three values, then Python interprets that as the `start`, `end` and `step`."
      ]
    },
    {
      "cell_type": "markdown",
      "metadata": {
        "id": "HvaXrHD27RGv"
      },
      "source": [
        "For example, to create a range of even numbers starting at `2`, and ending at `10` (exclusive), we would do this:"
      ]
    },
    {
      "cell_type": "code",
      "execution_count": null,
      "metadata": {
        "id": "QuJwHodJ7RGv",
        "outputId": "c85962f0-26d4-44d7-8a59-d5692ef97a77"
      },
      "outputs": [
        {
          "data": {
            "text/plain": [
              "[2, 4, 6, 8]"
            ]
          },
          "metadata": {},
          "output_type": "display_data"
        }
      ],
      "source": [
        "list(range(2, 10, 2))"
      ]
    },
    {
      "cell_type": "markdown",
      "metadata": {
        "id": "43usUiGs7RGv"
      },
      "source": [
        "If we wanted to include `10`, we'd just have to remember to go `1` beyond the value `10`:"
      ]
    },
    {
      "cell_type": "code",
      "execution_count": null,
      "metadata": {
        "id": "F7uaa1dI7RGv",
        "outputId": "95d55917-3119-4346-9d3c-5f38356ca63e"
      },
      "outputs": [
        {
          "data": {
            "text/plain": [
              "[2, 4, 6, 8, 10]"
            ]
          },
          "metadata": {},
          "output_type": "display_data"
        }
      ],
      "source": [
        "list(range(2, 11, 2))"
      ]
    },
    {
      "cell_type": "markdown",
      "metadata": {
        "id": "5MrqbcJq7RGw"
      },
      "source": [
        "We can also specify negative step sizes, but in this case we have to make our start/end values appropriate (i.e. end <= start):"
      ]
    },
    {
      "cell_type": "code",
      "execution_count": null,
      "metadata": {
        "id": "xvSwvwPb7RGw",
        "outputId": "58ed2d4f-d92f-4444-e30c-9aed1c1eadf9"
      },
      "outputs": [
        {
          "data": {
            "text/plain": [
              "[10, 8, 6, 4]"
            ]
          },
          "metadata": {},
          "output_type": "display_data"
        }
      ],
      "source": [
        "list(range(10, 2, -2))"
      ]
    },
    {
      "cell_type": "markdown",
      "metadata": {
        "id": "S1p87vv87RGw"
      },
      "source": [
        "And again, the end value, `2` in this case, is exclusive."
      ]
    },
    {
      "cell_type": "markdown",
      "metadata": {
        "id": "GUGSl3Xu7RGw"
      },
      "source": [
        "The range function is extremely useful for repeating code a set number of times, and knowing at each iteration which iteration number we are in. We'll see this in the next videos."
      ]
    },
    {
      "cell_type": "markdown",
      "metadata": {
        "id": "qlwXqJ197RGw"
      },
      "source": [
        "### While Loops"
      ]
    },
    {
      "cell_type": "markdown",
      "metadata": {
        "id": "QIw1yDrS7RGw"
      },
      "source": [
        "The `while` loop is another way to repeat the same code multiple times."
      ]
    },
    {
      "cell_type": "markdown",
      "metadata": {
        "id": "YVz2ZT1J7RGw"
      },
      "source": [
        "Unlike the `for` loop which is used to iterate over an iterable, the `while` loop uses a conditional to run code as many times as some condition remains `True`."
      ]
    },
    {
      "cell_type": "markdown",
      "metadata": {
        "id": "hcDzGYZ77RGw"
      },
      "source": [
        "Let's look at a simple example first:"
      ]
    },
    {
      "cell_type": "code",
      "execution_count": null,
      "metadata": {
        "id": "Xbt6vbnX7RGw",
        "outputId": "c34243c1-5fab-4d6c-cb7e-7db158f3770e"
      },
      "outputs": [
        {
          "name": "stdout",
          "output_type": "stream",
          "text": [
            "price = 100 - waiting for price for come down...\n",
            "price = 99 - waiting for price for come down...\n",
            "price = 98 - waiting for price for come down...\n",
            "price = 97 - waiting for price for come down...\n",
            "price = 96 - waiting for price for come down...\n",
            "price = 95 - waiting for price for come down...\n",
            "price = 94 - waiting for price for come down...\n",
            "price = 93 - waiting for price for come down...\n",
            "price = 92 - waiting for price for come down...\n",
            "price = 91 - waiting for price for come down...\n",
            "buying at 90.\n"
          ]
        }
      ],
      "source": [
        "price = 100\n",
        "\n",
        "while price > 90:\n",
        "    print(f'price = {price} - waiting for price for come down...')\n",
        "    price = price -1  # or price -= 1\n",
        "print(f'buying at {price}.')"
      ]
    },
    {
      "cell_type": "markdown",
      "metadata": {
        "id": "W7EC9p5D7RGx"
      },
      "source": [
        "As you can see, the code block was repeated as long as the condition was true.\n",
        "\n",
        "When you write `while` loops, it is possible that the loop block **never** executes - that is something you should watch out for as it often can introduce bugs."
      ]
    },
    {
      "cell_type": "code",
      "execution_count": null,
      "metadata": {
        "id": "tA-QqOGE7RGx",
        "outputId": "93d12672-b106-491a-a0d5-c5ccf139304e",
        "colab": {
          "base_uri": "https://localhost:8080/",
          "height": 1000
        }
      },
      "outputs": [
        {
          "output_type": "stream",
          "name": "stdout",
          "text": [
            "\u001b[1;30;43mOutput streaming akan dipotong hingga 5000 baris terakhir.\u001b[0m\n",
            "price=77787\n",
            "price=77788\n",
            "price=77789\n",
            "price=77790\n",
            "price=77791\n",
            "price=77792\n",
            "price=77793\n",
            "price=77794\n",
            "price=77795\n",
            "price=77796\n",
            "price=77797\n",
            "price=77798\n",
            "price=77799\n",
            "price=77800\n",
            "price=77801\n",
            "price=77802\n",
            "price=77803\n",
            "price=77804\n",
            "price=77805\n",
            "price=77806\n",
            "price=77807\n",
            "price=77808\n",
            "price=77809\n",
            "price=77810\n",
            "price=77811\n",
            "price=77812\n",
            "price=77813\n",
            "price=77814\n",
            "price=77815\n",
            "price=77816\n",
            "price=77817\n",
            "price=77818\n",
            "price=77819\n",
            "price=77820\n",
            "price=77821\n",
            "price=77822\n",
            "price=77823\n",
            "price=77824\n",
            "price=77825\n",
            "price=77826\n",
            "price=77827\n",
            "price=77828\n",
            "price=77829\n",
            "price=77830\n",
            "price=77831\n",
            "price=77832\n",
            "price=77833\n",
            "price=77834\n",
            "price=77835\n",
            "price=77836\n",
            "price=77837\n",
            "price=77838\n",
            "price=77839\n",
            "price=77840\n",
            "price=77841\n",
            "price=77842\n",
            "price=77843\n",
            "price=77844\n",
            "price=77845\n",
            "price=77846\n",
            "price=77847\n",
            "price=77848\n",
            "price=77849\n",
            "price=77850\n",
            "price=77851\n",
            "price=77852\n",
            "price=77853\n",
            "price=77854\n",
            "price=77855\n",
            "price=77856\n",
            "price=77857\n",
            "price=77858\n",
            "price=77859\n",
            "price=77860\n",
            "price=77861\n",
            "price=77862\n",
            "price=77863\n",
            "price=77864\n",
            "price=77865\n",
            "price=77866\n",
            "price=77867\n",
            "price=77868\n",
            "price=77869\n",
            "price=77870\n",
            "price=77871\n",
            "price=77872\n",
            "price=77873\n",
            "price=77874\n",
            "price=77875\n",
            "price=77876\n",
            "price=77877\n",
            "price=77878\n",
            "price=77879\n",
            "price=77880\n",
            "price=77881\n",
            "price=77882\n",
            "price=77883\n",
            "price=77884\n",
            "price=77885\n",
            "price=77886\n",
            "price=77887\n",
            "price=77888\n",
            "price=77889\n",
            "price=77890\n",
            "price=77891\n",
            "price=77892\n",
            "price=77893\n",
            "price=77894\n",
            "price=77895\n",
            "price=77896\n",
            "price=77897\n",
            "price=77898\n",
            "price=77899\n",
            "price=77900\n",
            "price=77901\n",
            "price=77902\n",
            "price=77903\n",
            "price=77904\n",
            "price=77905\n",
            "price=77906\n",
            "price=77907\n",
            "price=77908\n",
            "price=77909\n",
            "price=77910\n",
            "price=77911\n",
            "price=77912\n",
            "price=77913\n",
            "price=77914\n",
            "price=77915\n",
            "price=77916\n",
            "price=77917\n",
            "price=77918\n",
            "price=77919\n",
            "price=77920\n",
            "price=77921\n",
            "price=77922\n",
            "price=77923\n",
            "price=77924\n",
            "price=77925\n",
            "price=77926\n",
            "price=77927\n",
            "price=77928\n",
            "price=77929\n",
            "price=77930\n",
            "price=77931\n",
            "price=77932\n",
            "price=77933\n",
            "price=77934\n",
            "price=77935\n",
            "price=77936\n",
            "price=77937\n",
            "price=77938\n",
            "price=77939\n",
            "price=77940\n",
            "price=77941\n",
            "price=77942\n",
            "price=77943\n",
            "price=77944\n",
            "price=77945\n",
            "price=77946\n",
            "price=77947\n",
            "price=77948\n",
            "price=77949\n",
            "price=77950\n",
            "price=77951\n",
            "price=77952\n",
            "price=77953\n",
            "price=77954\n",
            "price=77955\n",
            "price=77956\n",
            "price=77957\n",
            "price=77958\n",
            "price=77959\n",
            "price=77960\n",
            "price=77961\n",
            "price=77962\n",
            "price=77963\n",
            "price=77964\n",
            "price=77965\n",
            "price=77966\n",
            "price=77967\n",
            "price=77968\n",
            "price=77969\n",
            "price=77970\n",
            "price=77971\n",
            "price=77972\n",
            "price=77973\n",
            "price=77974\n",
            "price=77975\n",
            "price=77976\n",
            "price=77977\n",
            "price=77978\n",
            "price=77979\n",
            "price=77980\n",
            "price=77981\n",
            "price=77982\n",
            "price=77983\n",
            "price=77984\n",
            "price=77985\n",
            "price=77986\n",
            "price=77987\n",
            "price=77988\n",
            "price=77989\n",
            "price=77990\n",
            "price=77991\n",
            "price=77992\n",
            "price=77993\n",
            "price=77994\n",
            "price=77995\n",
            "price=77996\n",
            "price=77997\n",
            "price=77998\n",
            "price=77999\n",
            "price=78000\n",
            "price=78001\n",
            "price=78002\n",
            "price=78003\n",
            "price=78004\n",
            "price=78005\n",
            "price=78006\n",
            "price=78007\n",
            "price=78008\n",
            "price=78009\n",
            "price=78010\n",
            "price=78011\n",
            "price=78012\n",
            "price=78013\n",
            "price=78014\n",
            "price=78015\n",
            "price=78016\n",
            "price=78017\n",
            "price=78018\n",
            "price=78019\n",
            "price=78020\n",
            "price=78021\n",
            "price=78022\n",
            "price=78023\n",
            "price=78024\n",
            "price=78025\n",
            "price=78026\n",
            "price=78027\n",
            "price=78028\n",
            "price=78029\n",
            "price=78030\n",
            "price=78031\n",
            "price=78032\n",
            "price=78033\n",
            "price=78034\n",
            "price=78035\n",
            "price=78036\n",
            "price=78037\n",
            "price=78038\n",
            "price=78039\n",
            "price=78040\n",
            "price=78041\n",
            "price=78042\n",
            "price=78043\n",
            "price=78044\n",
            "price=78045\n",
            "price=78046\n",
            "price=78047\n",
            "price=78048\n",
            "price=78049\n",
            "price=78050\n",
            "price=78051\n",
            "price=78052\n",
            "price=78053\n",
            "price=78054\n",
            "price=78055\n",
            "price=78056\n",
            "price=78057\n",
            "price=78058\n",
            "price=78059\n",
            "price=78060\n",
            "price=78061\n",
            "price=78062\n",
            "price=78063\n",
            "price=78064\n",
            "price=78065\n",
            "price=78066\n",
            "price=78067\n",
            "price=78068\n",
            "price=78069\n",
            "price=78070\n",
            "price=78071\n",
            "price=78072\n",
            "price=78073\n",
            "price=78074\n",
            "price=78075\n",
            "price=78076\n",
            "price=78077\n",
            "price=78078\n",
            "price=78079\n",
            "price=78080\n",
            "price=78081\n",
            "price=78082\n",
            "price=78083\n",
            "price=78084\n",
            "price=78085\n",
            "price=78086\n",
            "price=78087\n",
            "price=78088\n",
            "price=78089\n",
            "price=78090\n",
            "price=78091\n",
            "price=78092\n",
            "price=78093\n",
            "price=78094\n",
            "price=78095\n",
            "price=78096\n",
            "price=78097\n",
            "price=78098\n",
            "price=78099\n",
            "price=78100\n",
            "price=78101\n",
            "price=78102\n",
            "price=78103\n",
            "price=78104\n",
            "price=78105\n",
            "price=78106\n",
            "price=78107\n",
            "price=78108\n",
            "price=78109\n",
            "price=78110\n",
            "price=78111\n",
            "price=78112\n",
            "price=78113\n",
            "price=78114\n",
            "price=78115\n",
            "price=78116\n",
            "price=78117\n",
            "price=78118\n",
            "price=78119\n",
            "price=78120\n",
            "price=78121\n",
            "price=78122\n",
            "price=78123\n",
            "price=78124\n",
            "price=78125\n",
            "price=78126\n",
            "price=78127\n",
            "price=78128\n",
            "price=78129\n",
            "price=78130\n",
            "price=78131\n",
            "price=78132\n",
            "price=78133\n",
            "price=78134\n",
            "price=78135\n",
            "price=78136\n",
            "price=78137\n",
            "price=78138\n",
            "price=78139\n",
            "price=78140\n",
            "price=78141\n",
            "price=78142\n",
            "price=78143\n",
            "price=78144\n",
            "price=78145\n",
            "price=78146\n",
            "price=78147\n",
            "price=78148\n",
            "price=78149\n",
            "price=78150\n",
            "price=78151\n",
            "price=78152\n",
            "price=78153\n",
            "price=78154\n",
            "price=78155\n",
            "price=78156\n",
            "price=78157\n",
            "price=78158\n",
            "price=78159\n",
            "price=78160\n",
            "price=78161\n",
            "price=78162\n",
            "price=78163\n",
            "price=78164\n",
            "price=78165\n",
            "price=78166\n",
            "price=78167\n",
            "price=78168\n",
            "price=78169\n",
            "price=78170\n",
            "price=78171\n",
            "price=78172\n",
            "price=78173\n",
            "price=78174\n",
            "price=78175\n",
            "price=78176\n",
            "price=78177\n",
            "price=78178\n",
            "price=78179\n",
            "price=78180\n",
            "price=78181\n",
            "price=78182\n",
            "price=78183\n",
            "price=78184\n",
            "price=78185\n",
            "price=78186\n",
            "price=78187\n",
            "price=78188\n",
            "price=78189\n",
            "price=78190\n",
            "price=78191\n",
            "price=78192\n",
            "price=78193\n",
            "price=78194\n",
            "price=78195\n",
            "price=78196\n",
            "price=78197\n",
            "price=78198\n",
            "price=78199\n",
            "price=78200\n",
            "price=78201\n",
            "price=78202\n",
            "price=78203\n",
            "price=78204\n",
            "price=78205\n",
            "price=78206\n",
            "price=78207\n",
            "price=78208\n",
            "price=78209\n",
            "price=78210\n",
            "price=78211\n",
            "price=78212\n",
            "price=78213\n",
            "price=78214\n",
            "price=78215\n",
            "price=78216\n",
            "price=78217\n",
            "price=78218\n",
            "price=78219\n",
            "price=78220\n",
            "price=78221\n",
            "price=78222\n",
            "price=78223\n",
            "price=78224\n",
            "price=78225\n",
            "price=78226\n",
            "price=78227\n",
            "price=78228\n",
            "price=78229\n",
            "price=78230\n",
            "price=78231\n",
            "price=78232\n",
            "price=78233\n",
            "price=78234\n",
            "price=78235\n",
            "price=78236\n",
            "price=78237\n",
            "price=78238\n",
            "price=78239\n",
            "price=78240\n",
            "price=78241\n",
            "price=78242\n",
            "price=78243\n",
            "price=78244\n",
            "price=78245\n",
            "price=78246\n",
            "price=78247\n",
            "price=78248\n",
            "price=78249\n",
            "price=78250\n",
            "price=78251\n",
            "price=78252\n",
            "price=78253\n",
            "price=78254\n",
            "price=78255\n",
            "price=78256\n",
            "price=78257\n",
            "price=78258\n",
            "price=78259\n",
            "price=78260\n",
            "price=78261\n",
            "price=78262\n",
            "price=78263\n",
            "price=78264\n",
            "price=78265\n",
            "price=78266\n",
            "price=78267\n",
            "price=78268\n",
            "price=78269\n",
            "price=78270\n",
            "price=78271\n",
            "price=78272\n",
            "price=78273\n",
            "price=78274\n",
            "price=78275\n",
            "price=78276\n",
            "price=78277\n",
            "price=78278\n",
            "price=78279\n",
            "price=78280\n",
            "price=78281\n",
            "price=78282\n",
            "price=78283\n",
            "price=78284\n",
            "price=78285\n",
            "price=78286\n",
            "price=78287\n",
            "price=78288\n",
            "price=78289\n",
            "price=78290\n",
            "price=78291\n",
            "price=78292\n",
            "price=78293\n",
            "price=78294\n",
            "price=78295\n",
            "price=78296\n",
            "price=78297\n",
            "price=78298\n",
            "price=78299\n",
            "price=78300\n",
            "price=78301\n",
            "price=78302\n",
            "price=78303\n",
            "price=78304\n",
            "price=78305\n",
            "price=78306\n",
            "price=78307\n",
            "price=78308\n",
            "price=78309\n",
            "price=78310\n",
            "price=78311\n",
            "price=78312\n",
            "price=78313\n",
            "price=78314\n",
            "price=78315\n",
            "price=78316\n",
            "price=78317\n",
            "price=78318\n",
            "price=78319\n",
            "price=78320\n",
            "price=78321\n",
            "price=78322\n",
            "price=78323\n",
            "price=78324\n",
            "price=78325\n",
            "price=78326\n",
            "price=78327\n",
            "price=78328\n",
            "price=78329\n",
            "price=78330\n",
            "price=78331\n",
            "price=78332\n",
            "price=78333\n",
            "price=78334\n",
            "price=78335\n",
            "price=78336\n",
            "price=78337\n",
            "price=78338\n",
            "price=78339\n",
            "price=78340\n",
            "price=78341\n",
            "price=78342\n",
            "price=78343\n",
            "price=78344\n",
            "price=78345\n",
            "price=78346\n",
            "price=78347\n",
            "price=78348\n",
            "price=78349\n",
            "price=78350\n",
            "price=78351\n",
            "price=78352\n",
            "price=78353\n",
            "price=78354\n",
            "price=78355\n",
            "price=78356\n",
            "price=78357\n",
            "price=78358\n",
            "price=78359\n",
            "price=78360\n",
            "price=78361\n",
            "price=78362\n",
            "price=78363\n",
            "price=78364\n",
            "price=78365\n",
            "price=78366\n",
            "price=78367\n",
            "price=78368\n",
            "price=78369\n",
            "price=78370\n",
            "price=78371\n",
            "price=78372\n",
            "price=78373\n",
            "price=78374\n",
            "price=78375\n",
            "price=78376\n",
            "price=78377\n",
            "price=78378\n",
            "price=78379\n",
            "price=78380\n",
            "price=78381\n",
            "price=78382\n",
            "price=78383\n",
            "price=78384\n",
            "price=78385\n",
            "price=78386\n",
            "price=78387\n",
            "price=78388\n",
            "price=78389\n",
            "price=78390\n",
            "price=78391\n",
            "price=78392\n",
            "price=78393\n",
            "price=78394\n",
            "price=78395\n",
            "price=78396\n",
            "price=78397\n",
            "price=78398\n",
            "price=78399\n",
            "price=78400\n",
            "price=78401\n",
            "price=78402\n",
            "price=78403\n",
            "price=78404\n",
            "price=78405\n",
            "price=78406\n",
            "price=78407\n",
            "price=78408\n",
            "price=78409\n",
            "price=78410\n",
            "price=78411\n",
            "price=78412\n",
            "price=78413\n",
            "price=78414\n",
            "price=78415\n",
            "price=78416\n",
            "price=78417\n",
            "price=78418\n",
            "price=78419\n",
            "price=78420\n",
            "price=78421\n",
            "price=78422\n",
            "price=78423\n",
            "price=78424\n",
            "price=78425\n",
            "price=78426\n",
            "price=78427\n",
            "price=78428\n",
            "price=78429\n",
            "price=78430\n",
            "price=78431\n",
            "price=78432\n",
            "price=78433\n",
            "price=78434\n",
            "price=78435\n",
            "price=78436\n",
            "price=78437\n",
            "price=78438\n",
            "price=78439\n",
            "price=78440\n",
            "price=78441\n",
            "price=78442\n",
            "price=78443\n",
            "price=78444\n",
            "price=78445\n",
            "price=78446\n",
            "price=78447\n",
            "price=78448\n",
            "price=78449\n",
            "price=78450\n",
            "price=78451\n",
            "price=78452\n",
            "price=78453\n",
            "price=78454\n",
            "price=78455\n",
            "price=78456\n",
            "price=78457\n",
            "price=78458\n",
            "price=78459\n",
            "price=78460\n",
            "price=78461\n",
            "price=78462\n",
            "price=78463\n",
            "price=78464\n",
            "price=78465\n",
            "price=78466\n",
            "price=78467\n",
            "price=78468\n",
            "price=78469\n",
            "price=78470\n",
            "price=78471\n",
            "price=78472\n",
            "price=78473\n",
            "price=78474\n",
            "price=78475\n",
            "price=78476\n",
            "price=78477\n",
            "price=78478\n",
            "price=78479\n",
            "price=78480\n",
            "price=78481\n",
            "price=78482\n",
            "price=78483\n",
            "price=78484\n",
            "price=78485\n",
            "price=78486\n",
            "price=78487\n",
            "price=78488\n",
            "price=78489\n",
            "price=78490\n",
            "price=78491\n",
            "price=78492\n",
            "price=78493\n",
            "price=78494\n",
            "price=78495\n",
            "price=78496\n",
            "price=78497\n",
            "price=78498\n",
            "price=78499\n",
            "price=78500\n",
            "price=78501\n",
            "price=78502\n",
            "price=78503\n",
            "price=78504\n",
            "price=78505\n",
            "price=78506\n",
            "price=78507\n",
            "price=78508\n",
            "price=78509\n",
            "price=78510\n",
            "price=78511\n",
            "price=78512\n",
            "price=78513\n",
            "price=78514\n",
            "price=78515\n",
            "price=78516\n",
            "price=78517\n",
            "price=78518\n",
            "price=78519\n",
            "price=78520\n",
            "price=78521\n",
            "price=78522\n",
            "price=78523\n",
            "price=78524\n",
            "price=78525\n",
            "price=78526\n",
            "price=78527\n",
            "price=78528\n",
            "price=78529\n",
            "price=78530\n",
            "price=78531\n",
            "price=78532\n",
            "price=78533\n",
            "price=78534\n",
            "price=78535\n",
            "price=78536\n",
            "price=78537\n",
            "price=78538\n",
            "price=78539\n",
            "price=78540\n",
            "price=78541\n",
            "price=78542\n",
            "price=78543\n",
            "price=78544\n",
            "price=78545\n",
            "price=78546\n",
            "price=78547\n",
            "price=78548\n",
            "price=78549\n",
            "price=78550\n",
            "price=78551\n",
            "price=78552\n",
            "price=78553\n",
            "price=78554\n",
            "price=78555\n",
            "price=78556\n",
            "price=78557\n",
            "price=78558\n",
            "price=78559\n",
            "price=78560\n",
            "price=78561\n",
            "price=78562\n",
            "price=78563\n",
            "price=78564\n",
            "price=78565\n",
            "price=78566\n",
            "price=78567\n",
            "price=78568\n",
            "price=78569\n",
            "price=78570\n",
            "price=78571\n",
            "price=78572\n",
            "price=78573\n",
            "price=78574\n",
            "price=78575\n",
            "price=78576\n",
            "price=78577\n",
            "price=78578\n",
            "price=78579\n",
            "price=78580\n",
            "price=78581\n",
            "price=78582\n",
            "price=78583\n",
            "price=78584\n",
            "price=78585\n",
            "price=78586\n",
            "price=78587\n",
            "price=78588\n",
            "price=78589\n",
            "price=78590\n",
            "price=78591\n",
            "price=78592\n",
            "price=78593\n",
            "price=78594\n",
            "price=78595\n",
            "price=78596\n",
            "price=78597\n",
            "price=78598\n",
            "price=78599\n",
            "price=78600\n",
            "price=78601\n",
            "price=78602\n",
            "price=78603\n",
            "price=78604\n",
            "price=78605\n",
            "price=78606\n",
            "price=78607\n",
            "price=78608\n",
            "price=78609\n",
            "price=78610\n",
            "price=78611\n",
            "price=78612\n",
            "price=78613\n",
            "price=78614\n",
            "price=78615\n",
            "price=78616\n",
            "price=78617\n",
            "price=78618\n",
            "price=78619\n",
            "price=78620\n",
            "price=78621\n",
            "price=78622\n",
            "price=78623\n",
            "price=78624\n",
            "price=78625\n",
            "price=78626\n",
            "price=78627\n",
            "price=78628\n",
            "price=78629\n",
            "price=78630\n",
            "price=78631\n",
            "price=78632\n",
            "price=78633\n",
            "price=78634\n",
            "price=78635\n",
            "price=78636\n",
            "price=78637\n",
            "price=78638\n",
            "price=78639\n",
            "price=78640\n",
            "price=78641\n",
            "price=78642\n",
            "price=78643\n",
            "price=78644\n",
            "price=78645\n",
            "price=78646\n",
            "price=78647\n",
            "price=78648\n",
            "price=78649\n",
            "price=78650\n",
            "price=78651\n",
            "price=78652\n",
            "price=78653\n",
            "price=78654\n",
            "price=78655\n",
            "price=78656\n",
            "price=78657\n",
            "price=78658\n",
            "price=78659\n",
            "price=78660\n",
            "price=78661\n",
            "price=78662\n",
            "price=78663\n",
            "price=78664\n",
            "price=78665\n",
            "price=78666\n",
            "price=78667\n",
            "price=78668\n",
            "price=78669\n",
            "price=78670\n",
            "price=78671\n",
            "price=78672\n",
            "price=78673\n",
            "price=78674\n",
            "price=78675\n",
            "price=78676\n",
            "price=78677\n",
            "price=78678\n",
            "price=78679\n",
            "price=78680\n",
            "price=78681\n",
            "price=78682\n",
            "price=78683\n",
            "price=78684\n",
            "price=78685\n",
            "price=78686\n",
            "price=78687\n",
            "price=78688\n",
            "price=78689\n",
            "price=78690\n",
            "price=78691\n",
            "price=78692\n",
            "price=78693\n",
            "price=78694\n",
            "price=78695\n",
            "price=78696\n",
            "price=78697\n",
            "price=78698\n",
            "price=78699\n",
            "price=78700\n",
            "price=78701\n",
            "price=78702\n",
            "price=78703\n",
            "price=78704\n",
            "price=78705\n",
            "price=78706\n",
            "price=78707\n",
            "price=78708\n",
            "price=78709\n",
            "price=78710\n",
            "price=78711\n",
            "price=78712\n",
            "price=78713\n",
            "price=78714\n",
            "price=78715\n",
            "price=78716\n",
            "price=78717\n",
            "price=78718\n",
            "price=78719\n",
            "price=78720\n",
            "price=78721\n",
            "price=78722\n",
            "price=78723\n",
            "price=78724\n",
            "price=78725\n",
            "price=78726\n",
            "price=78727\n",
            "price=78728\n",
            "price=78729\n",
            "price=78730\n",
            "price=78731\n",
            "price=78732\n",
            "price=78733\n",
            "price=78734\n",
            "price=78735\n",
            "price=78736\n",
            "price=78737\n",
            "price=78738\n",
            "price=78739\n",
            "price=78740\n",
            "price=78741\n",
            "price=78742\n",
            "price=78743\n",
            "price=78744\n",
            "price=78745\n",
            "price=78746\n",
            "price=78747\n",
            "price=78748\n",
            "price=78749\n",
            "price=78750\n",
            "price=78751\n",
            "price=78752\n",
            "price=78753\n",
            "price=78754\n",
            "price=78755\n",
            "price=78756\n",
            "price=78757\n",
            "price=78758\n",
            "price=78759\n",
            "price=78760\n",
            "price=78761\n",
            "price=78762\n",
            "price=78763\n",
            "price=78764\n",
            "price=78765\n",
            "price=78766\n",
            "price=78767\n",
            "price=78768\n",
            "price=78769\n",
            "price=78770\n",
            "price=78771\n",
            "price=78772\n",
            "price=78773\n",
            "price=78774\n",
            "price=78775\n",
            "price=78776\n",
            "price=78777\n",
            "price=78778\n",
            "price=78779\n",
            "price=78780\n",
            "price=78781\n",
            "price=78782\n",
            "price=78783\n",
            "price=78784\n",
            "price=78785\n",
            "price=78786\n",
            "price=78787\n",
            "price=78788\n",
            "price=78789\n",
            "price=78790\n",
            "price=78791\n",
            "price=78792\n",
            "price=78793\n",
            "price=78794\n",
            "price=78795\n",
            "price=78796\n",
            "price=78797\n",
            "price=78798\n",
            "price=78799\n",
            "price=78800\n",
            "price=78801\n",
            "price=78802\n",
            "price=78803\n",
            "price=78804\n",
            "price=78805\n",
            "price=78806\n",
            "price=78807\n",
            "price=78808\n",
            "price=78809\n",
            "price=78810\n",
            "price=78811\n",
            "price=78812\n",
            "price=78813\n",
            "price=78814\n",
            "price=78815\n",
            "price=78816\n",
            "price=78817\n",
            "price=78818\n",
            "price=78819\n",
            "price=78820\n",
            "price=78821\n",
            "price=78822\n",
            "price=78823\n",
            "price=78824\n",
            "price=78825\n",
            "price=78826\n",
            "price=78827\n",
            "price=78828\n",
            "price=78829\n",
            "price=78830\n",
            "price=78831\n",
            "price=78832\n",
            "price=78833\n",
            "price=78834\n",
            "price=78835\n",
            "price=78836\n",
            "price=78837\n",
            "price=78838\n",
            "price=78839\n",
            "price=78840\n",
            "price=78841\n",
            "price=78842\n",
            "price=78843\n",
            "price=78844\n",
            "price=78845\n",
            "price=78846\n",
            "price=78847\n",
            "price=78848\n",
            "price=78849\n",
            "price=78850\n",
            "price=78851\n",
            "price=78852\n",
            "price=78853\n",
            "price=78854\n",
            "price=78855\n",
            "price=78856\n",
            "price=78857\n",
            "price=78858\n",
            "price=78859\n",
            "price=78860\n",
            "price=78861\n",
            "price=78862\n",
            "price=78863\n",
            "price=78864\n",
            "price=78865\n",
            "price=78866\n",
            "price=78867\n",
            "price=78868\n",
            "price=78869\n",
            "price=78870\n",
            "price=78871\n",
            "price=78872\n",
            "price=78873\n",
            "price=78874\n",
            "price=78875\n",
            "price=78876\n",
            "price=78877\n",
            "price=78878\n",
            "price=78879\n",
            "price=78880\n",
            "price=78881\n",
            "price=78882\n",
            "price=78883\n",
            "price=78884\n",
            "price=78885\n",
            "price=78886\n",
            "price=78887\n",
            "price=78888\n",
            "price=78889\n",
            "price=78890\n",
            "price=78891\n",
            "price=78892\n",
            "price=78893\n",
            "price=78894\n",
            "price=78895\n",
            "price=78896\n",
            "price=78897\n",
            "price=78898\n",
            "price=78899\n",
            "price=78900\n",
            "price=78901\n",
            "price=78902\n",
            "price=78903\n",
            "price=78904\n",
            "price=78905\n",
            "price=78906\n",
            "price=78907\n",
            "price=78908\n",
            "price=78909\n",
            "price=78910\n",
            "price=78911\n",
            "price=78912\n",
            "price=78913\n",
            "price=78914\n",
            "price=78915\n",
            "price=78916\n",
            "price=78917\n",
            "price=78918\n",
            "price=78919\n",
            "price=78920\n",
            "price=78921\n",
            "price=78922\n",
            "price=78923\n",
            "price=78924\n",
            "price=78925\n",
            "price=78926\n",
            "price=78927\n",
            "price=78928\n",
            "price=78929\n",
            "price=78930\n",
            "price=78931\n",
            "price=78932\n",
            "price=78933\n",
            "price=78934\n",
            "price=78935\n",
            "price=78936\n",
            "price=78937\n",
            "price=78938\n",
            "price=78939\n",
            "price=78940\n",
            "price=78941\n",
            "price=78942\n",
            "price=78943\n",
            "price=78944\n",
            "price=78945\n",
            "price=78946\n",
            "price=78947\n",
            "price=78948\n",
            "price=78949\n",
            "price=78950\n",
            "price=78951\n",
            "price=78952\n",
            "price=78953\n",
            "price=78954\n",
            "price=78955\n",
            "price=78956\n",
            "price=78957\n",
            "price=78958\n",
            "price=78959\n",
            "price=78960\n",
            "price=78961\n",
            "price=78962\n",
            "price=78963\n",
            "price=78964\n",
            "price=78965\n",
            "price=78966\n",
            "price=78967\n",
            "price=78968\n",
            "price=78969\n",
            "price=78970\n",
            "price=78971\n",
            "price=78972\n",
            "price=78973\n",
            "price=78974\n",
            "price=78975\n",
            "price=78976\n",
            "price=78977\n",
            "price=78978\n",
            "price=78979\n",
            "price=78980\n",
            "price=78981\n",
            "price=78982\n",
            "price=78983\n",
            "price=78984\n",
            "price=78985\n",
            "price=78986\n",
            "price=78987\n",
            "price=78988\n",
            "price=78989\n",
            "price=78990\n",
            "price=78991\n",
            "price=78992\n",
            "price=78993\n",
            "price=78994\n",
            "price=78995\n",
            "price=78996\n",
            "price=78997\n",
            "price=78998\n",
            "price=78999\n",
            "price=79000\n",
            "price=79001\n",
            "price=79002\n",
            "price=79003\n",
            "price=79004\n",
            "price=79005\n",
            "price=79006\n",
            "price=79007\n",
            "price=79008\n",
            "price=79009\n",
            "price=79010\n",
            "price=79011\n",
            "price=79012\n",
            "price=79013\n",
            "price=79014\n",
            "price=79015\n",
            "price=79016\n",
            "price=79017\n",
            "price=79018\n",
            "price=79019\n",
            "price=79020\n",
            "price=79021\n",
            "price=79022\n",
            "price=79023\n",
            "price=79024\n",
            "price=79025\n",
            "price=79026\n",
            "price=79027\n",
            "price=79028\n",
            "price=79029\n",
            "price=79030\n",
            "price=79031\n",
            "price=79032\n",
            "price=79033\n",
            "price=79034\n",
            "price=79035\n",
            "price=79036\n",
            "price=79037\n",
            "price=79038\n",
            "price=79039\n",
            "price=79040\n",
            "price=79041\n",
            "price=79042\n",
            "price=79043\n",
            "price=79044\n",
            "price=79045\n",
            "price=79046\n",
            "price=79047\n",
            "price=79048\n",
            "price=79049\n",
            "price=79050\n",
            "price=79051\n",
            "price=79052\n",
            "price=79053\n",
            "price=79054\n",
            "price=79055\n",
            "price=79056\n",
            "price=79057\n",
            "price=79058\n",
            "price=79059\n",
            "price=79060\n",
            "price=79061\n",
            "price=79062\n",
            "price=79063\n",
            "price=79064\n",
            "price=79065\n",
            "price=79066\n",
            "price=79067\n",
            "price=79068\n",
            "price=79069\n",
            "price=79070\n",
            "price=79071\n",
            "price=79072\n",
            "price=79073\n",
            "price=79074\n",
            "price=79075\n",
            "price=79076\n",
            "price=79077\n",
            "price=79078\n",
            "price=79079\n",
            "price=79080\n",
            "price=79081\n",
            "price=79082\n",
            "price=79083\n",
            "price=79084\n",
            "price=79085\n",
            "price=79086\n",
            "price=79087\n",
            "price=79088\n",
            "price=79089\n",
            "price=79090\n",
            "price=79091\n",
            "price=79092\n",
            "price=79093\n",
            "price=79094\n",
            "price=79095\n",
            "price=79096\n",
            "price=79097\n",
            "price=79098\n",
            "price=79099\n",
            "price=79100\n",
            "price=79101\n",
            "price=79102\n",
            "price=79103\n",
            "price=79104\n",
            "price=79105\n",
            "price=79106\n",
            "price=79107\n",
            "price=79108\n",
            "price=79109\n",
            "price=79110\n",
            "price=79111\n",
            "price=79112\n",
            "price=79113\n",
            "price=79114\n",
            "price=79115\n",
            "price=79116\n",
            "price=79117\n",
            "price=79118\n",
            "price=79119\n",
            "price=79120\n",
            "price=79121\n",
            "price=79122\n",
            "price=79123\n",
            "price=79124\n",
            "price=79125\n",
            "price=79126\n",
            "price=79127\n",
            "price=79128\n",
            "price=79129\n",
            "price=79130\n",
            "price=79131\n",
            "price=79132\n",
            "price=79133\n",
            "price=79134\n",
            "price=79135\n",
            "price=79136\n",
            "price=79137\n",
            "price=79138\n",
            "price=79139\n",
            "price=79140\n",
            "price=79141\n",
            "price=79142\n",
            "price=79143\n",
            "price=79144\n",
            "price=79145\n",
            "price=79146\n",
            "price=79147\n",
            "price=79148\n",
            "price=79149\n",
            "price=79150\n",
            "price=79151\n",
            "price=79152\n",
            "price=79153\n",
            "price=79154\n",
            "price=79155\n",
            "price=79156\n",
            "price=79157\n",
            "price=79158\n",
            "price=79159\n",
            "price=79160\n",
            "price=79161\n",
            "price=79162\n",
            "price=79163\n",
            "price=79164\n",
            "price=79165\n",
            "price=79166\n",
            "price=79167\n",
            "price=79168\n",
            "price=79169\n",
            "price=79170\n",
            "price=79171\n",
            "price=79172\n",
            "price=79173\n",
            "price=79174\n",
            "price=79175\n",
            "price=79176\n",
            "price=79177\n",
            "price=79178\n",
            "price=79179\n",
            "price=79180\n",
            "price=79181\n",
            "price=79182\n",
            "price=79183\n",
            "price=79184\n",
            "price=79185\n",
            "price=79186\n",
            "price=79187\n",
            "price=79188\n",
            "price=79189\n",
            "price=79190\n",
            "price=79191\n",
            "price=79192\n",
            "price=79193\n",
            "price=79194\n",
            "price=79195\n",
            "price=79196\n",
            "price=79197\n",
            "price=79198\n",
            "price=79199\n",
            "price=79200\n",
            "price=79201\n",
            "price=79202\n",
            "price=79203\n",
            "price=79204\n",
            "price=79205\n",
            "price=79206\n",
            "price=79207\n",
            "price=79208\n",
            "price=79209\n",
            "price=79210\n",
            "price=79211\n",
            "price=79212\n",
            "price=79213\n",
            "price=79214\n",
            "price=79215\n",
            "price=79216\n",
            "price=79217\n",
            "price=79218\n",
            "price=79219\n",
            "price=79220\n",
            "price=79221\n",
            "price=79222\n",
            "price=79223\n",
            "price=79224\n",
            "price=79225\n",
            "price=79226\n",
            "price=79227\n",
            "price=79228\n",
            "price=79229\n",
            "price=79230\n",
            "price=79231\n",
            "price=79232\n",
            "price=79233\n",
            "price=79234\n",
            "price=79235\n",
            "price=79236\n",
            "price=79237\n",
            "price=79238\n",
            "price=79239\n",
            "price=79240\n",
            "price=79241\n",
            "price=79242\n",
            "price=79243\n",
            "price=79244\n",
            "price=79245\n",
            "price=79246\n",
            "price=79247\n",
            "price=79248\n",
            "price=79249\n",
            "price=79250\n",
            "price=79251\n",
            "price=79252\n",
            "price=79253\n",
            "price=79254\n",
            "price=79255\n",
            "price=79256\n",
            "price=79257\n",
            "price=79258\n",
            "price=79259\n",
            "price=79260\n",
            "price=79261\n",
            "price=79262\n",
            "price=79263\n",
            "price=79264\n",
            "price=79265\n",
            "price=79266\n",
            "price=79267\n",
            "price=79268\n",
            "price=79269\n",
            "price=79270\n",
            "price=79271\n",
            "price=79272\n",
            "price=79273\n",
            "price=79274\n",
            "price=79275\n",
            "price=79276\n",
            "price=79277\n",
            "price=79278\n",
            "price=79279\n",
            "price=79280\n",
            "price=79281\n",
            "price=79282\n",
            "price=79283\n",
            "price=79284\n",
            "price=79285\n",
            "price=79286\n",
            "price=79287\n",
            "price=79288\n",
            "price=79289\n",
            "price=79290\n",
            "price=79291\n",
            "price=79292\n",
            "price=79293\n",
            "price=79294\n",
            "price=79295\n",
            "price=79296\n",
            "price=79297\n",
            "price=79298\n",
            "price=79299\n",
            "price=79300\n",
            "price=79301\n",
            "price=79302\n",
            "price=79303\n",
            "price=79304\n",
            "price=79305\n",
            "price=79306\n",
            "price=79307\n",
            "price=79308\n",
            "price=79309\n",
            "price=79310\n",
            "price=79311\n",
            "price=79312\n",
            "price=79313\n",
            "price=79314\n",
            "price=79315\n",
            "price=79316\n",
            "price=79317\n",
            "price=79318\n",
            "price=79319\n",
            "price=79320\n",
            "price=79321\n",
            "price=79322\n",
            "price=79323\n",
            "price=79324\n",
            "price=79325\n",
            "price=79326\n",
            "price=79327\n",
            "price=79328\n",
            "price=79329\n",
            "price=79330\n",
            "price=79331\n",
            "price=79332\n",
            "price=79333\n",
            "price=79334\n",
            "price=79335\n",
            "price=79336\n",
            "price=79337\n",
            "price=79338\n",
            "price=79339\n",
            "price=79340\n",
            "price=79341\n",
            "price=79342\n",
            "price=79343\n",
            "price=79344\n",
            "price=79345\n",
            "price=79346\n",
            "price=79347\n",
            "price=79348\n",
            "price=79349\n",
            "price=79350\n",
            "price=79351\n",
            "price=79352\n",
            "price=79353\n",
            "price=79354\n",
            "price=79355\n",
            "price=79356\n",
            "price=79357\n",
            "price=79358\n",
            "price=79359\n",
            "price=79360\n",
            "price=79361\n",
            "price=79362\n",
            "price=79363\n",
            "price=79364\n",
            "price=79365\n",
            "price=79366\n",
            "price=79367\n",
            "price=79368\n",
            "price=79369\n",
            "price=79370\n",
            "price=79371\n",
            "price=79372\n",
            "price=79373\n",
            "price=79374\n",
            "price=79375\n",
            "price=79376\n",
            "price=79377\n",
            "price=79378\n",
            "price=79379\n",
            "price=79380\n",
            "price=79381\n",
            "price=79382\n",
            "price=79383\n",
            "price=79384\n",
            "price=79385\n",
            "price=79386\n",
            "price=79387\n",
            "price=79388\n",
            "price=79389\n",
            "price=79390\n",
            "price=79391\n",
            "price=79392\n",
            "price=79393\n",
            "price=79394\n",
            "price=79395\n",
            "price=79396\n",
            "price=79397\n",
            "price=79398\n",
            "price=79399\n",
            "price=79400\n",
            "price=79401\n",
            "price=79402\n",
            "price=79403\n",
            "price=79404\n",
            "price=79405\n",
            "price=79406\n",
            "price=79407\n",
            "price=79408\n",
            "price=79409\n",
            "price=79410\n",
            "price=79411\n",
            "price=79412\n",
            "price=79413\n",
            "price=79414\n",
            "price=79415\n",
            "price=79416\n",
            "price=79417\n",
            "price=79418\n",
            "price=79419\n",
            "price=79420\n",
            "price=79421\n",
            "price=79422\n",
            "price=79423\n",
            "price=79424\n",
            "price=79425\n",
            "price=79426\n",
            "price=79427\n",
            "price=79428\n",
            "price=79429\n",
            "price=79430\n",
            "price=79431\n",
            "price=79432\n",
            "price=79433\n",
            "price=79434\n",
            "price=79435\n",
            "price=79436\n",
            "price=79437\n",
            "price=79438\n",
            "price=79439\n",
            "price=79440\n",
            "price=79441\n",
            "price=79442\n",
            "price=79443\n",
            "price=79444\n",
            "price=79445\n",
            "price=79446\n",
            "price=79447\n",
            "price=79448\n",
            "price=79449\n",
            "price=79450\n",
            "price=79451\n",
            "price=79452\n",
            "price=79453\n",
            "price=79454\n",
            "price=79455\n",
            "price=79456\n",
            "price=79457\n",
            "price=79458\n",
            "price=79459\n",
            "price=79460\n",
            "price=79461\n",
            "price=79462\n",
            "price=79463\n",
            "price=79464\n",
            "price=79465\n",
            "price=79466\n",
            "price=79467\n",
            "price=79468\n",
            "price=79469\n",
            "price=79470\n",
            "price=79471\n",
            "price=79472\n",
            "price=79473\n",
            "price=79474\n",
            "price=79475\n",
            "price=79476\n",
            "price=79477\n",
            "price=79478\n",
            "price=79479\n",
            "price=79480\n",
            "price=79481\n",
            "price=79482\n",
            "price=79483\n",
            "price=79484\n",
            "price=79485\n",
            "price=79486\n",
            "price=79487\n",
            "price=79488\n",
            "price=79489\n",
            "price=79490\n",
            "price=79491\n",
            "price=79492\n",
            "price=79493\n",
            "price=79494\n",
            "price=79495\n",
            "price=79496\n",
            "price=79497\n",
            "price=79498\n",
            "price=79499\n",
            "price=79500\n",
            "price=79501\n",
            "price=79502\n",
            "price=79503\n",
            "price=79504\n",
            "price=79505\n",
            "price=79506\n",
            "price=79507\n",
            "price=79508\n",
            "price=79509\n",
            "price=79510\n",
            "price=79511\n",
            "price=79512\n",
            "price=79513\n",
            "price=79514\n",
            "price=79515\n",
            "price=79516\n",
            "price=79517\n",
            "price=79518\n",
            "price=79519\n",
            "price=79520\n",
            "price=79521\n",
            "price=79522\n",
            "price=79523\n",
            "price=79524\n",
            "price=79525\n",
            "price=79526\n",
            "price=79527\n",
            "price=79528\n",
            "price=79529\n",
            "price=79530\n",
            "price=79531\n",
            "price=79532\n",
            "price=79533\n",
            "price=79534\n",
            "price=79535\n",
            "price=79536\n",
            "price=79537\n",
            "price=79538\n",
            "price=79539\n",
            "price=79540\n",
            "price=79541\n",
            "price=79542\n",
            "price=79543\n",
            "price=79544\n",
            "price=79545\n",
            "price=79546\n",
            "price=79547\n",
            "price=79548\n",
            "price=79549\n",
            "price=79550\n",
            "price=79551\n",
            "price=79552\n",
            "price=79553\n",
            "price=79554\n",
            "price=79555\n",
            "price=79556\n",
            "price=79557\n",
            "price=79558\n",
            "price=79559\n",
            "price=79560\n",
            "price=79561\n",
            "price=79562\n",
            "price=79563\n",
            "price=79564\n",
            "price=79565\n",
            "price=79566\n",
            "price=79567\n",
            "price=79568\n",
            "price=79569\n",
            "price=79570\n",
            "price=79571\n",
            "price=79572\n",
            "price=79573\n",
            "price=79574\n",
            "price=79575\n",
            "price=79576\n",
            "price=79577\n",
            "price=79578\n",
            "price=79579\n",
            "price=79580\n",
            "price=79581\n",
            "price=79582\n",
            "price=79583\n",
            "price=79584\n",
            "price=79585\n",
            "price=79586\n",
            "price=79587\n",
            "price=79588\n",
            "price=79589\n",
            "price=79590\n",
            "price=79591\n",
            "price=79592\n",
            "price=79593\n",
            "price=79594\n",
            "price=79595\n",
            "price=79596\n",
            "price=79597\n",
            "price=79598\n",
            "price=79599\n",
            "price=79600\n",
            "price=79601\n",
            "price=79602\n",
            "price=79603\n",
            "price=79604\n",
            "price=79605\n",
            "price=79606\n",
            "price=79607\n",
            "price=79608\n",
            "price=79609\n",
            "price=79610\n",
            "price=79611\n",
            "price=79612\n",
            "price=79613\n",
            "price=79614\n",
            "price=79615\n",
            "price=79616\n",
            "price=79617\n",
            "price=79618\n",
            "price=79619\n",
            "price=79620\n",
            "price=79621\n",
            "price=79622\n",
            "price=79623\n",
            "price=79624\n",
            "price=79625\n",
            "price=79626\n",
            "price=79627\n",
            "price=79628\n",
            "price=79629\n",
            "price=79630\n",
            "price=79631\n",
            "price=79632\n",
            "price=79633\n",
            "price=79634\n",
            "price=79635\n",
            "price=79636\n",
            "price=79637\n",
            "price=79638\n",
            "price=79639\n",
            "price=79640\n",
            "price=79641\n",
            "price=79642\n",
            "price=79643\n",
            "price=79644\n",
            "price=79645\n",
            "price=79646\n",
            "price=79647\n",
            "price=79648\n",
            "price=79649\n",
            "price=79650\n",
            "price=79651\n",
            "price=79652\n",
            "price=79653\n",
            "price=79654\n",
            "price=79655\n",
            "price=79656\n",
            "price=79657\n",
            "price=79658\n",
            "price=79659\n",
            "price=79660\n",
            "price=79661\n",
            "price=79662\n",
            "price=79663\n",
            "price=79664\n",
            "price=79665\n",
            "price=79666\n",
            "price=79667\n",
            "price=79668\n",
            "price=79669\n",
            "price=79670\n",
            "price=79671\n",
            "price=79672\n",
            "price=79673\n",
            "price=79674\n",
            "price=79675\n",
            "price=79676\n",
            "price=79677\n",
            "price=79678\n",
            "price=79679\n",
            "price=79680\n",
            "price=79681\n",
            "price=79682\n",
            "price=79683\n",
            "price=79684\n",
            "price=79685\n",
            "price=79686\n",
            "price=79687\n",
            "price=79688\n",
            "price=79689\n",
            "price=79690\n",
            "price=79691\n",
            "price=79692\n",
            "price=79693\n",
            "price=79694\n",
            "price=79695\n",
            "price=79696\n",
            "price=79697\n",
            "price=79698\n",
            "price=79699\n",
            "price=79700\n",
            "price=79701\n",
            "price=79702\n",
            "price=79703\n",
            "price=79704\n",
            "price=79705\n",
            "price=79706\n",
            "price=79707\n",
            "price=79708\n",
            "price=79709\n",
            "price=79710\n",
            "price=79711\n",
            "price=79712\n",
            "price=79713\n",
            "price=79714\n",
            "price=79715\n",
            "price=79716\n",
            "price=79717\n",
            "price=79718\n",
            "price=79719\n",
            "price=79720\n",
            "price=79721\n",
            "price=79722\n",
            "price=79723\n",
            "price=79724\n",
            "price=79725\n",
            "price=79726\n",
            "price=79727\n",
            "price=79728\n",
            "price=79729\n",
            "price=79730\n",
            "price=79731\n",
            "price=79732\n",
            "price=79733\n",
            "price=79734\n",
            "price=79735\n",
            "price=79736\n",
            "price=79737\n",
            "price=79738\n",
            "price=79739\n",
            "price=79740\n",
            "price=79741\n",
            "price=79742\n",
            "price=79743\n",
            "price=79744\n",
            "price=79745\n",
            "price=79746\n",
            "price=79747\n",
            "price=79748\n",
            "price=79749\n",
            "price=79750\n",
            "price=79751\n",
            "price=79752\n",
            "price=79753\n",
            "price=79754\n",
            "price=79755\n",
            "price=79756\n",
            "price=79757\n",
            "price=79758\n",
            "price=79759\n",
            "price=79760\n",
            "price=79761\n",
            "price=79762\n",
            "price=79763\n",
            "price=79764\n",
            "price=79765\n",
            "price=79766\n",
            "price=79767\n",
            "price=79768\n",
            "price=79769\n",
            "price=79770\n",
            "price=79771\n",
            "price=79772\n",
            "price=79773\n",
            "price=79774\n",
            "price=79775\n",
            "price=79776\n",
            "price=79777\n",
            "price=79778\n",
            "price=79779\n",
            "price=79780\n",
            "price=79781\n",
            "price=79782\n",
            "price=79783\n",
            "price=79784\n",
            "price=79785\n",
            "price=79786\n",
            "price=79787\n",
            "price=79788\n",
            "price=79789\n",
            "price=79790\n",
            "price=79791\n",
            "price=79792\n",
            "price=79793\n",
            "price=79794\n",
            "price=79795\n",
            "price=79796\n",
            "price=79797\n",
            "price=79798\n",
            "price=79799\n",
            "price=79800\n",
            "price=79801\n",
            "price=79802\n",
            "price=79803\n",
            "price=79804\n",
            "price=79805\n",
            "price=79806\n",
            "price=79807\n",
            "price=79808\n",
            "price=79809\n",
            "price=79810\n",
            "price=79811\n",
            "price=79812\n",
            "price=79813\n",
            "price=79814\n",
            "price=79815\n",
            "price=79816\n",
            "price=79817\n",
            "price=79818\n",
            "price=79819\n",
            "price=79820\n",
            "price=79821\n",
            "price=79822\n",
            "price=79823\n",
            "price=79824\n",
            "price=79825\n",
            "price=79826\n",
            "price=79827\n",
            "price=79828\n",
            "price=79829\n",
            "price=79830\n",
            "price=79831\n",
            "price=79832\n",
            "price=79833\n",
            "price=79834\n",
            "price=79835\n",
            "price=79836\n",
            "price=79837\n",
            "price=79838\n",
            "price=79839\n",
            "price=79840\n",
            "price=79841\n",
            "price=79842\n",
            "price=79843\n",
            "price=79844\n",
            "price=79845\n",
            "price=79846\n",
            "price=79847\n",
            "price=79848\n",
            "price=79849\n",
            "price=79850\n",
            "price=79851\n",
            "price=79852\n",
            "price=79853\n",
            "price=79854\n",
            "price=79855\n",
            "price=79856\n",
            "price=79857\n",
            "price=79858\n",
            "price=79859\n",
            "price=79860\n",
            "price=79861\n",
            "price=79862\n",
            "price=79863\n",
            "price=79864\n",
            "price=79865\n",
            "price=79866\n",
            "price=79867\n",
            "price=79868\n",
            "price=79869\n",
            "price=79870\n",
            "price=79871\n",
            "price=79872\n",
            "price=79873\n",
            "price=79874\n",
            "price=79875\n",
            "price=79876\n",
            "price=79877\n",
            "price=79878\n",
            "price=79879\n",
            "price=79880\n",
            "price=79881\n",
            "price=79882\n",
            "price=79883\n",
            "price=79884\n",
            "price=79885\n",
            "price=79886\n",
            "price=79887\n",
            "price=79888\n",
            "price=79889\n",
            "price=79890\n",
            "price=79891\n",
            "price=79892\n",
            "price=79893\n",
            "price=79894\n",
            "price=79895\n",
            "price=79896\n",
            "price=79897\n",
            "price=79898\n",
            "price=79899\n",
            "price=79900\n",
            "price=79901\n",
            "price=79902\n",
            "price=79903\n",
            "price=79904\n",
            "price=79905\n",
            "price=79906\n",
            "price=79907\n",
            "price=79908\n",
            "price=79909\n",
            "price=79910\n",
            "price=79911\n",
            "price=79912\n",
            "price=79913\n",
            "price=79914\n",
            "price=79915\n",
            "price=79916\n",
            "price=79917\n",
            "price=79918\n",
            "price=79919\n",
            "price=79920\n",
            "price=79921\n",
            "price=79922\n",
            "price=79923\n",
            "price=79924\n",
            "price=79925\n",
            "price=79926\n",
            "price=79927\n",
            "price=79928\n",
            "price=79929\n",
            "price=79930\n",
            "price=79931\n",
            "price=79932\n",
            "price=79933\n",
            "price=79934\n",
            "price=79935\n",
            "price=79936\n",
            "price=79937\n",
            "price=79938\n",
            "price=79939\n",
            "price=79940\n",
            "price=79941\n",
            "price=79942\n",
            "price=79943\n",
            "price=79944\n",
            "price=79945\n",
            "price=79946\n",
            "price=79947\n",
            "price=79948\n",
            "price=79949\n",
            "price=79950\n",
            "price=79951\n",
            "price=79952\n",
            "price=79953\n",
            "price=79954\n",
            "price=79955\n",
            "price=79956\n",
            "price=79957\n",
            "price=79958\n",
            "price=79959\n",
            "price=79960\n",
            "price=79961\n",
            "price=79962\n",
            "price=79963\n",
            "price=79964\n",
            "price=79965\n",
            "price=79966\n",
            "price=79967\n",
            "price=79968\n",
            "price=79969\n",
            "price=79970\n",
            "price=79971\n",
            "price=79972\n",
            "price=79973\n",
            "price=79974\n",
            "price=79975\n",
            "price=79976\n",
            "price=79977\n",
            "price=79978\n",
            "price=79979\n",
            "price=79980\n",
            "price=79981\n",
            "price=79982\n",
            "price=79983\n",
            "price=79984\n",
            "price=79985\n",
            "price=79986\n",
            "price=79987\n",
            "price=79988\n",
            "price=79989\n",
            "price=79990\n",
            "price=79991\n",
            "price=79992\n",
            "price=79993\n",
            "price=79994\n",
            "price=79995\n",
            "price=79996\n",
            "price=79997\n",
            "price=79998\n",
            "price=79999\n",
            "price=80000\n",
            "price=80001\n",
            "price=80002\n",
            "price=80003\n",
            "price=80004\n",
            "price=80005\n",
            "price=80006\n",
            "price=80007\n",
            "price=80008\n",
            "price=80009\n",
            "price=80010\n",
            "price=80011\n",
            "price=80012\n",
            "price=80013\n",
            "price=80014\n",
            "price=80015\n",
            "price=80016\n",
            "price=80017\n",
            "price=80018\n",
            "price=80019\n",
            "price=80020\n",
            "price=80021\n",
            "price=80022\n",
            "price=80023\n",
            "price=80024\n",
            "price=80025\n",
            "price=80026\n",
            "price=80027\n",
            "price=80028\n",
            "price=80029\n",
            "price=80030\n",
            "price=80031\n",
            "price=80032\n",
            "price=80033\n",
            "price=80034\n",
            "price=80035\n",
            "price=80036\n",
            "price=80037\n",
            "price=80038\n",
            "price=80039\n",
            "price=80040\n",
            "price=80041\n",
            "price=80042\n",
            "price=80043\n",
            "price=80044\n",
            "price=80045\n",
            "price=80046\n",
            "price=80047\n",
            "price=80048\n",
            "price=80049\n",
            "price=80050\n",
            "price=80051\n",
            "price=80052\n",
            "price=80053\n",
            "price=80054\n",
            "price=80055\n",
            "price=80056\n",
            "price=80057\n",
            "price=80058\n",
            "price=80059\n",
            "price=80060\n",
            "price=80061\n",
            "price=80062\n",
            "price=80063\n",
            "price=80064\n",
            "price=80065\n",
            "price=80066\n",
            "price=80067\n",
            "price=80068\n",
            "price=80069\n",
            "price=80070\n",
            "price=80071\n",
            "price=80072\n",
            "price=80073\n",
            "price=80074\n",
            "price=80075\n",
            "price=80076\n",
            "price=80077\n",
            "price=80078\n",
            "price=80079\n",
            "price=80080\n",
            "price=80081\n",
            "price=80082\n",
            "price=80083\n",
            "price=80084\n",
            "price=80085\n",
            "price=80086\n",
            "price=80087\n",
            "price=80088\n",
            "price=80089\n",
            "price=80090\n",
            "price=80091\n",
            "price=80092\n",
            "price=80093\n",
            "price=80094\n",
            "price=80095\n",
            "price=80096\n",
            "price=80097\n",
            "price=80098\n",
            "price=80099\n",
            "price=80100\n",
            "price=80101\n",
            "price=80102\n",
            "price=80103\n",
            "price=80104\n",
            "price=80105\n",
            "price=80106\n",
            "price=80107\n",
            "price=80108\n",
            "price=80109\n",
            "price=80110\n",
            "price=80111\n",
            "price=80112\n",
            "price=80113\n",
            "price=80114\n",
            "price=80115\n",
            "price=80116\n",
            "price=80117\n",
            "price=80118\n",
            "price=80119\n",
            "price=80120\n",
            "price=80121\n",
            "price=80122\n",
            "price=80123\n",
            "price=80124\n",
            "price=80125\n",
            "price=80126\n",
            "price=80127\n",
            "price=80128\n",
            "price=80129\n",
            "price=80130\n",
            "price=80131\n",
            "price=80132\n",
            "price=80133\n",
            "price=80134\n",
            "price=80135\n",
            "price=80136\n",
            "price=80137\n",
            "price=80138\n",
            "price=80139\n",
            "price=80140\n",
            "price=80141\n",
            "price=80142\n",
            "price=80143\n",
            "price=80144\n",
            "price=80145\n",
            "price=80146\n",
            "price=80147\n",
            "price=80148\n",
            "price=80149\n",
            "price=80150\n",
            "price=80151\n",
            "price=80152\n",
            "price=80153\n",
            "price=80154\n",
            "price=80155\n",
            "price=80156\n",
            "price=80157\n",
            "price=80158\n",
            "price=80159\n",
            "price=80160\n",
            "price=80161\n",
            "price=80162\n",
            "price=80163\n",
            "price=80164\n",
            "price=80165\n",
            "price=80166\n",
            "price=80167\n",
            "price=80168\n",
            "price=80169\n",
            "price=80170\n",
            "price=80171\n",
            "price=80172\n",
            "price=80173\n",
            "price=80174\n",
            "price=80175\n",
            "price=80176\n",
            "price=80177\n",
            "price=80178\n",
            "price=80179\n",
            "price=80180\n",
            "price=80181\n",
            "price=80182\n",
            "price=80183\n",
            "price=80184\n",
            "price=80185\n",
            "price=80186\n",
            "price=80187\n",
            "price=80188\n",
            "price=80189\n",
            "price=80190\n",
            "price=80191\n",
            "price=80192\n",
            "price=80193\n",
            "price=80194\n",
            "price=80195\n",
            "price=80196\n",
            "price=80197\n",
            "price=80198\n",
            "price=80199\n",
            "price=80200\n",
            "price=80201\n",
            "price=80202\n",
            "price=80203\n",
            "price=80204\n",
            "price=80205\n",
            "price=80206\n",
            "price=80207\n",
            "price=80208\n",
            "price=80209\n",
            "price=80210\n",
            "price=80211\n",
            "price=80212\n",
            "price=80213\n",
            "price=80214\n",
            "price=80215\n",
            "price=80216\n",
            "price=80217\n",
            "price=80218\n",
            "price=80219\n",
            "price=80220\n",
            "price=80221\n",
            "price=80222\n",
            "price=80223\n",
            "price=80224\n",
            "price=80225\n",
            "price=80226\n",
            "price=80227\n",
            "price=80228\n",
            "price=80229\n",
            "price=80230\n",
            "price=80231\n",
            "price=80232\n",
            "price=80233\n",
            "price=80234\n",
            "price=80235\n",
            "price=80236\n",
            "price=80237\n",
            "price=80238\n",
            "price=80239\n",
            "price=80240\n",
            "price=80241\n",
            "price=80242\n",
            "price=80243\n",
            "price=80244\n",
            "price=80245\n",
            "price=80246\n",
            "price=80247\n",
            "price=80248\n",
            "price=80249\n",
            "price=80250\n",
            "price=80251\n",
            "price=80252\n",
            "price=80253\n",
            "price=80254\n",
            "price=80255\n",
            "price=80256\n",
            "price=80257\n",
            "price=80258\n",
            "price=80259\n",
            "price=80260\n",
            "price=80261\n",
            "price=80262\n",
            "price=80263\n",
            "price=80264\n",
            "price=80265\n",
            "price=80266\n",
            "price=80267\n",
            "price=80268\n",
            "price=80269\n",
            "price=80270\n",
            "price=80271\n",
            "price=80272\n",
            "price=80273\n",
            "price=80274\n",
            "price=80275\n",
            "price=80276\n",
            "price=80277\n",
            "price=80278\n",
            "price=80279\n",
            "price=80280\n",
            "price=80281\n",
            "price=80282\n",
            "price=80283\n",
            "price=80284\n",
            "price=80285\n",
            "price=80286\n",
            "price=80287\n",
            "price=80288\n",
            "price=80289\n",
            "price=80290\n",
            "price=80291\n",
            "price=80292\n",
            "price=80293\n",
            "price=80294\n",
            "price=80295\n",
            "price=80296\n",
            "price=80297\n",
            "price=80298\n",
            "price=80299\n",
            "price=80300\n",
            "price=80301\n",
            "price=80302\n",
            "price=80303\n",
            "price=80304\n",
            "price=80305\n",
            "price=80306\n",
            "price=80307\n",
            "price=80308\n",
            "price=80309\n",
            "price=80310\n",
            "price=80311\n",
            "price=80312\n",
            "price=80313\n",
            "price=80314\n",
            "price=80315\n",
            "price=80316\n",
            "price=80317\n",
            "price=80318\n",
            "price=80319\n",
            "price=80320\n",
            "price=80321\n",
            "price=80322\n",
            "price=80323\n",
            "price=80324\n",
            "price=80325\n",
            "price=80326\n",
            "price=80327\n",
            "price=80328\n",
            "price=80329\n",
            "price=80330\n",
            "price=80331\n",
            "price=80332\n",
            "price=80333\n",
            "price=80334\n",
            "price=80335\n",
            "price=80336\n",
            "price=80337\n",
            "price=80338\n",
            "price=80339\n",
            "price=80340\n",
            "price=80341\n",
            "price=80342\n",
            "price=80343\n",
            "price=80344\n",
            "price=80345\n",
            "price=80346\n",
            "price=80347\n",
            "price=80348\n",
            "price=80349\n",
            "price=80350\n",
            "price=80351\n",
            "price=80352\n",
            "price=80353\n",
            "price=80354\n",
            "price=80355\n",
            "price=80356\n",
            "price=80357\n",
            "price=80358\n",
            "price=80359\n",
            "price=80360\n",
            "price=80361\n",
            "price=80362\n",
            "price=80363\n",
            "price=80364\n",
            "price=80365\n",
            "price=80366\n",
            "price=80367\n",
            "price=80368\n",
            "price=80369\n",
            "price=80370\n",
            "price=80371\n",
            "price=80372\n",
            "price=80373\n",
            "price=80374\n",
            "price=80375\n",
            "price=80376\n",
            "price=80377\n",
            "price=80378\n",
            "price=80379\n",
            "price=80380\n",
            "price=80381\n",
            "price=80382\n",
            "price=80383\n",
            "price=80384\n",
            "price=80385\n",
            "price=80386\n",
            "price=80387\n",
            "price=80388\n",
            "price=80389\n",
            "price=80390\n",
            "price=80391\n",
            "price=80392\n",
            "price=80393\n",
            "price=80394\n",
            "price=80395\n",
            "price=80396\n",
            "price=80397\n",
            "price=80398\n",
            "price=80399\n",
            "price=80400\n",
            "price=80401\n",
            "price=80402\n",
            "price=80403\n",
            "price=80404\n",
            "price=80405\n",
            "price=80406\n",
            "price=80407\n",
            "price=80408\n",
            "price=80409\n",
            "price=80410\n",
            "price=80411\n",
            "price=80412\n",
            "price=80413\n",
            "price=80414\n",
            "price=80415\n",
            "price=80416\n",
            "price=80417\n",
            "price=80418\n",
            "price=80419\n",
            "price=80420\n",
            "price=80421\n",
            "price=80422\n",
            "price=80423\n",
            "price=80424\n",
            "price=80425\n",
            "price=80426\n",
            "price=80427\n",
            "price=80428\n",
            "price=80429\n",
            "price=80430\n",
            "price=80431\n",
            "price=80432\n",
            "price=80433\n",
            "price=80434\n",
            "price=80435\n",
            "price=80436\n",
            "price=80437\n",
            "price=80438\n",
            "price=80439\n",
            "price=80440\n",
            "price=80441\n",
            "price=80442\n",
            "price=80443\n",
            "price=80444\n",
            "price=80445\n",
            "price=80446\n",
            "price=80447\n",
            "price=80448\n",
            "price=80449\n",
            "price=80450\n",
            "price=80451\n",
            "price=80452\n",
            "price=80453\n",
            "price=80454\n",
            "price=80455\n",
            "price=80456\n",
            "price=80457\n",
            "price=80458\n",
            "price=80459\n",
            "price=80460\n",
            "price=80461\n",
            "price=80462\n",
            "price=80463\n",
            "price=80464\n",
            "price=80465\n",
            "price=80466\n",
            "price=80467\n",
            "price=80468\n",
            "price=80469\n",
            "price=80470\n",
            "price=80471\n",
            "price=80472\n",
            "price=80473\n",
            "price=80474\n",
            "price=80475\n",
            "price=80476\n",
            "price=80477\n",
            "price=80478\n",
            "price=80479\n",
            "price=80480\n",
            "price=80481\n",
            "price=80482\n",
            "price=80483\n",
            "price=80484\n",
            "price=80485\n",
            "price=80486\n",
            "price=80487\n",
            "price=80488\n",
            "price=80489\n",
            "price=80490\n",
            "price=80491\n",
            "price=80492\n",
            "price=80493\n",
            "price=80494\n",
            "price=80495\n",
            "price=80496\n",
            "price=80497\n",
            "price=80498\n",
            "price=80499\n",
            "price=80500\n",
            "price=80501\n",
            "price=80502\n",
            "price=80503\n",
            "price=80504\n",
            "price=80505\n",
            "price=80506\n",
            "price=80507\n",
            "price=80508\n",
            "price=80509\n",
            "price=80510\n",
            "price=80511\n",
            "price=80512\n",
            "price=80513\n",
            "price=80514\n",
            "price=80515\n",
            "price=80516\n",
            "price=80517\n",
            "price=80518\n",
            "price=80519\n",
            "price=80520\n",
            "price=80521\n",
            "price=80522\n",
            "price=80523\n",
            "price=80524\n",
            "price=80525\n",
            "price=80526\n",
            "price=80527\n",
            "price=80528\n",
            "price=80529\n",
            "price=80530\n",
            "price=80531\n",
            "price=80532\n",
            "price=80533\n",
            "price=80534\n",
            "price=80535\n",
            "price=80536\n",
            "price=80537\n",
            "price=80538\n",
            "price=80539\n",
            "price=80540\n",
            "price=80541\n",
            "price=80542\n",
            "price=80543\n",
            "price=80544\n",
            "price=80545\n",
            "price=80546\n",
            "price=80547\n",
            "price=80548\n",
            "price=80549\n",
            "price=80550\n",
            "price=80551\n",
            "price=80552\n",
            "price=80553\n",
            "price=80554\n",
            "price=80555\n",
            "price=80556\n",
            "price=80557\n",
            "price=80558\n",
            "price=80559\n",
            "price=80560\n",
            "price=80561\n",
            "price=80562\n",
            "price=80563\n",
            "price=80564\n",
            "price=80565\n",
            "price=80566\n",
            "price=80567\n",
            "price=80568\n",
            "price=80569\n",
            "price=80570\n",
            "price=80571\n",
            "price=80572\n",
            "price=80573\n",
            "price=80574\n",
            "price=80575\n",
            "price=80576\n",
            "price=80577\n",
            "price=80578\n",
            "price=80579\n",
            "price=80580\n",
            "price=80581\n",
            "price=80582\n",
            "price=80583\n",
            "price=80584\n",
            "price=80585\n",
            "price=80586\n",
            "price=80587\n",
            "price=80588\n",
            "price=80589\n",
            "price=80590\n",
            "price=80591\n",
            "price=80592\n",
            "price=80593\n",
            "price=80594\n",
            "price=80595\n",
            "price=80596\n",
            "price=80597\n",
            "price=80598\n",
            "price=80599\n",
            "price=80600\n",
            "price=80601\n",
            "price=80602\n",
            "price=80603\n",
            "price=80604\n",
            "price=80605\n",
            "price=80606\n",
            "price=80607\n",
            "price=80608\n",
            "price=80609\n",
            "price=80610\n",
            "price=80611\n",
            "price=80612\n",
            "price=80613\n",
            "price=80614\n",
            "price=80615\n",
            "price=80616\n",
            "price=80617\n",
            "price=80618\n",
            "price=80619\n",
            "price=80620\n",
            "price=80621\n",
            "price=80622\n",
            "price=80623\n",
            "price=80624\n",
            "price=80625\n",
            "price=80626\n",
            "price=80627\n",
            "price=80628\n",
            "price=80629\n",
            "price=80630\n",
            "price=80631\n",
            "price=80632\n",
            "price=80633\n",
            "price=80634\n",
            "price=80635\n",
            "price=80636\n",
            "price=80637\n",
            "price=80638\n",
            "price=80639\n",
            "price=80640\n",
            "price=80641\n",
            "price=80642\n",
            "price=80643\n",
            "price=80644\n",
            "price=80645\n",
            "price=80646\n",
            "price=80647\n",
            "price=80648\n",
            "price=80649\n",
            "price=80650\n",
            "price=80651\n",
            "price=80652\n",
            "price=80653\n",
            "price=80654\n",
            "price=80655\n",
            "price=80656\n",
            "price=80657\n",
            "price=80658\n",
            "price=80659\n",
            "price=80660\n",
            "price=80661\n",
            "price=80662\n",
            "price=80663\n",
            "price=80664\n",
            "price=80665\n",
            "price=80666\n",
            "price=80667\n",
            "price=80668\n",
            "price=80669\n",
            "price=80670\n",
            "price=80671\n",
            "price=80672\n",
            "price=80673\n",
            "price=80674\n",
            "price=80675\n",
            "price=80676\n",
            "price=80677\n",
            "price=80678\n",
            "price=80679\n",
            "price=80680\n",
            "price=80681\n",
            "price=80682\n",
            "price=80683\n",
            "price=80684\n",
            "price=80685\n",
            "price=80686\n",
            "price=80687\n",
            "price=80688\n",
            "price=80689\n",
            "price=80690\n",
            "price=80691\n",
            "price=80692\n",
            "price=80693\n",
            "price=80694\n",
            "price=80695\n",
            "price=80696\n",
            "price=80697\n",
            "price=80698\n",
            "price=80699\n",
            "price=80700\n",
            "price=80701\n",
            "price=80702\n",
            "price=80703\n",
            "price=80704\n",
            "price=80705\n",
            "price=80706\n",
            "price=80707\n",
            "price=80708\n",
            "price=80709\n",
            "price=80710\n",
            "price=80711\n",
            "price=80712\n",
            "price=80713\n",
            "price=80714\n",
            "price=80715\n",
            "price=80716\n",
            "price=80717\n",
            "price=80718\n",
            "price=80719\n",
            "price=80720\n",
            "price=80721\n",
            "price=80722\n",
            "price=80723\n",
            "price=80724\n",
            "price=80725\n",
            "price=80726\n",
            "price=80727\n",
            "price=80728\n",
            "price=80729\n",
            "price=80730\n",
            "price=80731\n",
            "price=80732\n",
            "price=80733\n",
            "price=80734\n",
            "price=80735\n",
            "price=80736\n",
            "price=80737\n",
            "price=80738\n",
            "price=80739\n",
            "price=80740\n",
            "price=80741\n",
            "price=80742\n",
            "price=80743\n",
            "price=80744\n",
            "price=80745\n",
            "price=80746\n",
            "price=80747\n",
            "price=80748\n",
            "price=80749\n",
            "price=80750\n",
            "price=80751\n",
            "price=80752\n",
            "price=80753\n",
            "price=80754\n",
            "price=80755\n",
            "price=80756\n",
            "price=80757\n",
            "price=80758\n",
            "price=80759\n",
            "price=80760\n",
            "price=80761\n",
            "price=80762\n",
            "price=80763\n",
            "price=80764\n",
            "price=80765\n",
            "price=80766\n",
            "price=80767\n",
            "price=80768\n",
            "price=80769\n",
            "price=80770\n",
            "price=80771\n",
            "price=80772\n",
            "price=80773\n",
            "price=80774\n",
            "price=80775\n",
            "price=80776\n",
            "price=80777\n",
            "price=80778\n",
            "price=80779\n",
            "price=80780\n",
            "price=80781\n",
            "price=80782\n",
            "price=80783\n",
            "price=80784\n",
            "price=80785\n",
            "price=80786\n",
            "price=80787\n",
            "price=80788\n",
            "price=80789\n",
            "price=80790\n",
            "price=80791\n",
            "price=80792\n",
            "price=80793\n",
            "price=80794\n",
            "price=80795\n",
            "price=80796\n",
            "price=80797\n",
            "price=80798\n",
            "price=80799\n",
            "price=80800\n",
            "price=80801\n",
            "price=80802\n",
            "price=80803\n",
            "price=80804\n",
            "price=80805\n",
            "price=80806\n",
            "price=80807\n",
            "price=80808\n",
            "price=80809\n",
            "price=80810\n",
            "price=80811\n",
            "price=80812\n",
            "price=80813\n",
            "price=80814\n",
            "price=80815\n",
            "price=80816\n",
            "price=80817\n",
            "price=80818\n",
            "price=80819\n",
            "price=80820\n",
            "price=80821\n",
            "price=80822\n",
            "price=80823\n",
            "price=80824\n",
            "price=80825\n",
            "price=80826\n",
            "price=80827\n",
            "price=80828\n",
            "price=80829\n",
            "price=80830\n",
            "price=80831\n",
            "price=80832\n",
            "price=80833\n",
            "price=80834\n",
            "price=80835\n",
            "price=80836\n",
            "price=80837\n",
            "price=80838\n",
            "price=80839\n",
            "price=80840\n",
            "price=80841\n",
            "price=80842\n",
            "price=80843\n",
            "price=80844\n",
            "price=80845\n",
            "price=80846\n",
            "price=80847\n",
            "price=80848\n",
            "price=80849\n",
            "price=80850\n",
            "price=80851\n",
            "price=80852\n",
            "price=80853\n",
            "price=80854\n",
            "price=80855\n",
            "price=80856\n",
            "price=80857\n",
            "price=80858\n",
            "price=80859\n",
            "price=80860\n",
            "price=80861\n",
            "price=80862\n",
            "price=80863\n",
            "price=80864\n",
            "price=80865\n",
            "price=80866\n",
            "price=80867\n",
            "price=80868\n",
            "price=80869\n",
            "price=80870\n",
            "price=80871\n",
            "price=80872\n",
            "price=80873\n",
            "price=80874\n",
            "price=80875\n",
            "price=80876\n",
            "price=80877\n",
            "price=80878\n",
            "price=80879\n",
            "price=80880\n",
            "price=80881\n",
            "price=80882\n",
            "price=80883\n",
            "price=80884\n",
            "price=80885\n",
            "price=80886\n",
            "price=80887\n",
            "price=80888\n",
            "price=80889\n",
            "price=80890\n",
            "price=80891\n",
            "price=80892\n",
            "price=80893\n",
            "price=80894\n",
            "price=80895\n",
            "price=80896\n",
            "price=80897\n",
            "price=80898\n",
            "price=80899\n",
            "price=80900\n",
            "price=80901\n",
            "price=80902\n",
            "price=80903\n",
            "price=80904\n",
            "price=80905\n",
            "price=80906\n",
            "price=80907\n",
            "price=80908\n",
            "price=80909\n",
            "price=80910\n",
            "price=80911\n",
            "price=80912\n",
            "price=80913\n",
            "price=80914\n",
            "price=80915\n",
            "price=80916\n",
            "price=80917\n",
            "price=80918\n",
            "price=80919\n",
            "price=80920\n",
            "price=80921\n",
            "price=80922\n",
            "price=80923\n",
            "price=80924\n",
            "price=80925\n",
            "price=80926\n",
            "price=80927\n",
            "price=80928\n",
            "price=80929\n",
            "price=80930\n",
            "price=80931\n",
            "price=80932\n",
            "price=80933\n",
            "price=80934\n",
            "price=80935\n",
            "price=80936\n",
            "price=80937\n",
            "price=80938\n",
            "price=80939\n",
            "price=80940\n",
            "price=80941\n",
            "price=80942\n",
            "price=80943\n",
            "price=80944\n",
            "price=80945\n",
            "price=80946\n",
            "price=80947\n",
            "price=80948\n",
            "price=80949\n",
            "price=80950\n",
            "price=80951\n",
            "price=80952\n",
            "price=80953\n",
            "price=80954\n",
            "price=80955\n",
            "price=80956\n",
            "price=80957\n",
            "price=80958\n",
            "price=80959\n",
            "price=80960\n",
            "price=80961\n",
            "price=80962\n",
            "price=80963\n",
            "price=80964\n",
            "price=80965\n",
            "price=80966\n",
            "price=80967\n",
            "price=80968\n",
            "price=80969\n",
            "price=80970\n",
            "price=80971\n",
            "price=80972\n",
            "price=80973\n",
            "price=80974\n",
            "price=80975\n",
            "price=80976\n",
            "price=80977\n",
            "price=80978\n",
            "price=80979\n",
            "price=80980\n",
            "price=80981\n",
            "price=80982\n",
            "price=80983\n",
            "price=80984\n",
            "price=80985\n",
            "price=80986\n",
            "price=80987\n",
            "price=80988\n",
            "price=80989\n",
            "price=80990\n",
            "price=80991\n",
            "price=80992\n",
            "price=80993\n",
            "price=80994\n",
            "price=80995\n",
            "price=80996\n",
            "price=80997\n",
            "price=80998\n",
            "price=80999\n",
            "price=81000\n",
            "price=81001\n",
            "price=81002\n",
            "price=81003\n",
            "price=81004\n",
            "price=81005\n",
            "price=81006\n",
            "price=81007\n",
            "price=81008\n",
            "price=81009\n",
            "price=81010\n",
            "price=81011\n",
            "price=81012\n",
            "price=81013\n",
            "price=81014\n",
            "price=81015\n",
            "price=81016\n",
            "price=81017\n",
            "price=81018\n",
            "price=81019\n",
            "price=81020\n",
            "price=81021\n",
            "price=81022\n",
            "price=81023\n",
            "price=81024\n",
            "price=81025\n",
            "price=81026\n",
            "price=81027\n",
            "price=81028\n",
            "price=81029\n",
            "price=81030\n",
            "price=81031\n",
            "price=81032\n",
            "price=81033\n",
            "price=81034\n",
            "price=81035\n",
            "price=81036\n",
            "price=81037\n",
            "price=81038\n",
            "price=81039\n",
            "price=81040\n",
            "price=81041\n",
            "price=81042\n",
            "price=81043\n",
            "price=81044\n",
            "price=81045\n",
            "price=81046\n",
            "price=81047\n",
            "price=81048\n",
            "price=81049\n",
            "price=81050\n",
            "price=81051\n",
            "price=81052\n",
            "price=81053\n",
            "price=81054\n",
            "price=81055\n",
            "price=81056\n",
            "price=81057\n",
            "price=81058\n",
            "price=81059\n",
            "price=81060\n",
            "price=81061\n",
            "price=81062\n",
            "price=81063\n",
            "price=81064\n",
            "price=81065\n",
            "price=81066\n",
            "price=81067\n",
            "price=81068\n",
            "price=81069\n",
            "price=81070\n",
            "price=81071\n",
            "price=81072\n",
            "price=81073\n",
            "price=81074\n",
            "price=81075\n",
            "price=81076\n",
            "price=81077\n",
            "price=81078\n",
            "price=81079\n",
            "price=81080\n",
            "price=81081\n",
            "price=81082\n",
            "price=81083\n",
            "price=81084\n",
            "price=81085\n",
            "price=81086\n",
            "price=81087\n",
            "price=81088\n",
            "price=81089\n",
            "price=81090\n",
            "price=81091\n",
            "price=81092\n",
            "price=81093\n",
            "price=81094\n",
            "price=81095\n",
            "price=81096\n",
            "price=81097\n",
            "price=81098\n",
            "price=81099\n",
            "price=81100\n",
            "price=81101\n",
            "price=81102\n",
            "price=81103\n",
            "price=81104\n",
            "price=81105\n",
            "price=81106\n",
            "price=81107\n",
            "price=81108\n",
            "price=81109\n",
            "price=81110\n",
            "price=81111\n",
            "price=81112\n",
            "price=81113\n",
            "price=81114\n",
            "price=81115\n",
            "price=81116\n",
            "price=81117\n",
            "price=81118\n",
            "price=81119\n",
            "price=81120\n",
            "price=81121\n",
            "price=81122\n",
            "price=81123\n",
            "price=81124\n",
            "price=81125\n",
            "price=81126\n",
            "price=81127\n",
            "price=81128\n",
            "price=81129\n",
            "price=81130\n",
            "price=81131\n",
            "price=81132\n",
            "price=81133\n",
            "price=81134\n",
            "price=81135\n",
            "price=81136\n",
            "price=81137\n",
            "price=81138\n",
            "price=81139\n",
            "price=81140\n",
            "price=81141\n",
            "price=81142\n",
            "price=81143\n",
            "price=81144\n",
            "price=81145\n",
            "price=81146\n",
            "price=81147\n",
            "price=81148\n",
            "price=81149\n",
            "price=81150\n",
            "price=81151\n",
            "price=81152\n",
            "price=81153\n",
            "price=81154\n",
            "price=81155\n",
            "price=81156\n",
            "price=81157\n",
            "price=81158\n",
            "price=81159\n",
            "price=81160\n",
            "price=81161\n",
            "price=81162\n",
            "price=81163\n",
            "price=81164\n",
            "price=81165\n",
            "price=81166\n",
            "price=81167\n",
            "price=81168\n",
            "price=81169\n",
            "price=81170\n",
            "price=81171\n",
            "price=81172\n",
            "price=81173\n",
            "price=81174\n",
            "price=81175\n",
            "price=81176\n",
            "price=81177\n",
            "price=81178\n",
            "price=81179\n",
            "price=81180\n",
            "price=81181\n",
            "price=81182\n",
            "price=81183\n",
            "price=81184\n",
            "price=81185\n",
            "price=81186\n",
            "price=81187\n",
            "price=81188\n",
            "price=81189\n",
            "price=81190\n",
            "price=81191\n",
            "price=81192\n",
            "price=81193\n",
            "price=81194\n",
            "price=81195\n",
            "price=81196\n",
            "price=81197\n",
            "price=81198\n",
            "price=81199\n",
            "price=81200\n",
            "price=81201\n",
            "price=81202\n",
            "price=81203\n",
            "price=81204\n",
            "price=81205\n",
            "price=81206\n",
            "price=81207\n",
            "price=81208\n",
            "price=81209\n",
            "price=81210\n",
            "price=81211\n",
            "price=81212\n",
            "price=81213\n",
            "price=81214\n",
            "price=81215\n",
            "price=81216\n",
            "price=81217\n",
            "price=81218\n",
            "price=81219\n",
            "price=81220\n",
            "price=81221\n",
            "price=81222\n",
            "price=81223\n",
            "price=81224\n",
            "price=81225\n",
            "price=81226\n",
            "price=81227\n",
            "price=81228\n",
            "price=81229\n",
            "price=81230\n",
            "price=81231\n",
            "price=81232\n",
            "price=81233\n",
            "price=81234\n",
            "price=81235\n",
            "price=81236\n",
            "price=81237\n",
            "price=81238\n",
            "price=81239\n",
            "price=81240\n",
            "price=81241\n",
            "price=81242\n",
            "price=81243\n",
            "price=81244\n",
            "price=81245\n",
            "price=81246\n",
            "price=81247\n",
            "price=81248\n",
            "price=81249\n",
            "price=81250\n",
            "price=81251\n",
            "price=81252\n",
            "price=81253\n",
            "price=81254\n",
            "price=81255\n",
            "price=81256\n",
            "price=81257\n",
            "price=81258\n",
            "price=81259\n",
            "price=81260\n",
            "price=81261\n",
            "price=81262\n",
            "price=81263\n",
            "price=81264\n",
            "price=81265\n",
            "price=81266\n",
            "price=81267\n",
            "price=81268\n",
            "price=81269\n",
            "price=81270\n",
            "price=81271\n",
            "price=81272\n",
            "price=81273\n",
            "price=81274\n",
            "price=81275\n",
            "price=81276\n",
            "price=81277\n",
            "price=81278\n",
            "price=81279\n",
            "price=81280\n",
            "price=81281\n",
            "price=81282\n",
            "price=81283\n",
            "price=81284\n",
            "price=81285\n",
            "price=81286\n",
            "price=81287\n",
            "price=81288\n",
            "price=81289\n",
            "price=81290\n",
            "price=81291\n",
            "price=81292\n",
            "price=81293\n",
            "price=81294\n",
            "price=81295\n",
            "price=81296\n",
            "price=81297\n",
            "price=81298\n",
            "price=81299\n",
            "price=81300\n",
            "price=81301\n",
            "price=81302\n",
            "price=81303\n",
            "price=81304\n",
            "price=81305\n",
            "price=81306\n",
            "price=81307\n",
            "price=81308\n",
            "price=81309\n",
            "price=81310\n",
            "price=81311\n",
            "price=81312\n",
            "price=81313\n",
            "price=81314\n",
            "price=81315\n",
            "price=81316\n",
            "price=81317\n",
            "price=81318\n",
            "price=81319\n",
            "price=81320\n",
            "price=81321\n",
            "price=81322\n",
            "price=81323\n",
            "price=81324\n",
            "price=81325\n",
            "price=81326\n",
            "price=81327\n",
            "price=81328\n",
            "price=81329\n",
            "price=81330\n",
            "price=81331\n",
            "price=81332\n",
            "price=81333\n",
            "price=81334\n",
            "price=81335\n",
            "price=81336\n",
            "price=81337\n",
            "price=81338\n",
            "price=81339\n",
            "price=81340\n",
            "price=81341\n",
            "price=81342\n",
            "price=81343\n",
            "price=81344\n",
            "price=81345\n",
            "price=81346\n",
            "price=81347\n",
            "price=81348\n",
            "price=81349\n",
            "price=81350\n",
            "price=81351\n",
            "price=81352\n",
            "price=81353\n",
            "price=81354\n",
            "price=81355\n",
            "price=81356\n",
            "price=81357\n",
            "price=81358\n",
            "price=81359\n",
            "price=81360\n",
            "price=81361\n",
            "price=81362\n",
            "price=81363\n",
            "price=81364\n",
            "price=81365\n",
            "price=81366\n",
            "price=81367\n",
            "price=81368\n",
            "price=81369\n",
            "price=81370\n",
            "price=81371\n",
            "price=81372\n",
            "price=81373\n",
            "price=81374\n",
            "price=81375\n",
            "price=81376\n",
            "price=81377\n",
            "price=81378\n",
            "price=81379\n",
            "price=81380\n",
            "price=81381\n",
            "price=81382\n",
            "price=81383\n",
            "price=81384\n",
            "price=81385\n",
            "price=81386\n",
            "price=81387\n",
            "price=81388\n",
            "price=81389\n",
            "price=81390\n",
            "price=81391\n",
            "price=81392\n",
            "price=81393\n",
            "price=81394\n",
            "price=81395\n",
            "price=81396\n",
            "price=81397\n",
            "price=81398\n",
            "price=81399\n",
            "price=81400\n",
            "price=81401\n",
            "price=81402\n",
            "price=81403\n",
            "price=81404\n",
            "price=81405\n",
            "price=81406\n",
            "price=81407\n",
            "price=81408\n",
            "price=81409\n",
            "price=81410\n",
            "price=81411\n",
            "price=81412\n",
            "price=81413\n",
            "price=81414\n",
            "price=81415\n",
            "price=81416\n",
            "price=81417\n",
            "price=81418\n",
            "price=81419\n",
            "price=81420\n",
            "price=81421\n",
            "price=81422\n",
            "price=81423\n",
            "price=81424\n",
            "price=81425\n",
            "price=81426\n",
            "price=81427\n",
            "price=81428\n",
            "price=81429\n",
            "price=81430\n",
            "price=81431\n",
            "price=81432\n",
            "price=81433\n",
            "price=81434\n",
            "price=81435\n",
            "price=81436\n",
            "price=81437\n",
            "price=81438\n",
            "price=81439\n",
            "price=81440\n",
            "price=81441\n",
            "price=81442\n",
            "price=81443\n",
            "price=81444\n",
            "price=81445\n",
            "price=81446\n",
            "price=81447\n",
            "price=81448\n",
            "price=81449\n",
            "price=81450\n",
            "price=81451\n",
            "price=81452\n",
            "price=81453\n",
            "price=81454\n",
            "price=81455\n",
            "price=81456\n",
            "price=81457\n",
            "price=81458\n",
            "price=81459\n",
            "price=81460\n",
            "price=81461\n",
            "price=81462\n",
            "price=81463\n",
            "price=81464\n",
            "price=81465\n",
            "price=81466\n",
            "price=81467\n",
            "price=81468\n",
            "price=81469\n",
            "price=81470\n",
            "price=81471\n",
            "price=81472\n",
            "price=81473\n",
            "price=81474\n",
            "price=81475\n",
            "price=81476\n",
            "price=81477\n",
            "price=81478\n",
            "price=81479\n",
            "price=81480\n",
            "price=81481\n",
            "price=81482\n",
            "price=81483\n",
            "price=81484\n",
            "price=81485\n",
            "price=81486\n",
            "price=81487\n",
            "price=81488\n",
            "price=81489\n",
            "price=81490\n",
            "price=81491\n",
            "price=81492\n",
            "price=81493\n",
            "price=81494\n",
            "price=81495\n",
            "price=81496\n",
            "price=81497\n",
            "price=81498\n",
            "price=81499\n",
            "price=81500\n",
            "price=81501\n",
            "price=81502\n",
            "price=81503\n",
            "price=81504\n",
            "price=81505\n",
            "price=81506\n",
            "price=81507\n",
            "price=81508\n",
            "price=81509\n",
            "price=81510\n",
            "price=81511\n",
            "price=81512\n",
            "price=81513\n",
            "price=81514\n",
            "price=81515\n",
            "price=81516\n",
            "price=81517\n",
            "price=81518\n",
            "price=81519\n",
            "price=81520\n",
            "price=81521\n",
            "price=81522\n",
            "price=81523\n",
            "price=81524\n",
            "price=81525\n",
            "price=81526\n",
            "price=81527\n",
            "price=81528\n",
            "price=81529\n",
            "price=81530\n",
            "price=81531\n",
            "price=81532\n",
            "price=81533\n",
            "price=81534\n",
            "price=81535\n",
            "price=81536\n",
            "price=81537\n",
            "price=81538\n",
            "price=81539\n",
            "price=81540\n",
            "price=81541\n",
            "price=81542\n",
            "price=81543\n",
            "price=81544\n",
            "price=81545\n",
            "price=81546\n",
            "price=81547\n",
            "price=81548\n",
            "price=81549\n",
            "price=81550\n",
            "price=81551\n",
            "price=81552\n",
            "price=81553\n",
            "price=81554\n",
            "price=81555\n",
            "price=81556\n",
            "price=81557\n",
            "price=81558\n",
            "price=81559\n",
            "price=81560\n",
            "price=81561\n",
            "price=81562\n",
            "price=81563\n",
            "price=81564\n",
            "price=81565\n",
            "price=81566\n",
            "price=81567\n",
            "price=81568\n",
            "price=81569\n",
            "price=81570\n",
            "price=81571\n",
            "price=81572\n",
            "price=81573\n",
            "price=81574\n",
            "price=81575\n",
            "price=81576\n",
            "price=81577\n",
            "price=81578\n",
            "price=81579\n",
            "price=81580\n",
            "price=81581\n",
            "price=81582\n",
            "price=81583\n",
            "price=81584\n",
            "price=81585\n",
            "price=81586\n",
            "price=81587\n",
            "price=81588\n",
            "price=81589\n",
            "price=81590\n",
            "price=81591\n",
            "price=81592\n",
            "price=81593\n",
            "price=81594\n",
            "price=81595\n",
            "price=81596\n",
            "price=81597\n",
            "price=81598\n",
            "price=81599\n",
            "price=81600\n",
            "price=81601\n",
            "price=81602\n",
            "price=81603\n",
            "price=81604\n",
            "price=81605\n",
            "price=81606\n",
            "price=81607\n",
            "price=81608\n",
            "price=81609\n",
            "price=81610\n",
            "price=81611\n",
            "price=81612\n",
            "price=81613\n",
            "price=81614\n",
            "price=81615\n",
            "price=81616\n",
            "price=81617\n",
            "price=81618\n",
            "price=81619\n",
            "price=81620\n",
            "price=81621\n",
            "price=81622\n",
            "price=81623\n",
            "price=81624\n",
            "price=81625\n",
            "price=81626\n",
            "price=81627\n",
            "price=81628\n",
            "price=81629\n",
            "price=81630\n",
            "price=81631\n",
            "price=81632\n",
            "price=81633\n",
            "price=81634\n",
            "price=81635\n",
            "price=81636\n",
            "price=81637\n",
            "price=81638\n",
            "price=81639\n",
            "price=81640\n",
            "price=81641\n",
            "price=81642\n",
            "price=81643\n",
            "price=81644\n",
            "price=81645\n",
            "price=81646\n",
            "price=81647\n",
            "price=81648\n",
            "price=81649\n",
            "price=81650\n",
            "price=81651\n",
            "price=81652\n",
            "price=81653\n",
            "price=81654\n",
            "price=81655\n",
            "price=81656\n",
            "price=81657\n",
            "price=81658\n",
            "price=81659\n",
            "price=81660\n",
            "price=81661\n",
            "price=81662\n",
            "price=81663\n",
            "price=81664\n",
            "price=81665\n",
            "price=81666\n",
            "price=81667\n",
            "price=81668\n",
            "price=81669\n",
            "price=81670\n",
            "price=81671\n",
            "price=81672\n",
            "price=81673\n",
            "price=81674\n",
            "price=81675\n",
            "price=81676\n",
            "price=81677\n",
            "price=81678\n",
            "price=81679\n",
            "price=81680\n",
            "price=81681\n",
            "price=81682\n",
            "price=81683\n",
            "price=81684\n",
            "price=81685\n",
            "price=81686\n",
            "price=81687\n",
            "price=81688\n",
            "price=81689\n",
            "price=81690\n",
            "price=81691\n",
            "price=81692\n",
            "price=81693\n",
            "price=81694\n",
            "price=81695\n",
            "price=81696\n",
            "price=81697\n",
            "price=81698\n",
            "price=81699\n",
            "price=81700\n",
            "price=81701\n",
            "price=81702\n",
            "price=81703\n",
            "price=81704\n",
            "price=81705\n",
            "price=81706\n",
            "price=81707\n",
            "price=81708\n",
            "price=81709\n",
            "price=81710\n",
            "price=81711\n",
            "price=81712\n",
            "price=81713\n",
            "price=81714\n",
            "price=81715\n",
            "price=81716\n",
            "price=81717\n",
            "price=81718\n",
            "price=81719\n",
            "price=81720\n",
            "price=81721\n",
            "price=81722\n",
            "price=81723\n",
            "price=81724\n",
            "price=81725\n",
            "price=81726\n",
            "price=81727\n",
            "price=81728\n",
            "price=81729\n",
            "price=81730\n",
            "price=81731\n",
            "price=81732\n",
            "price=81733\n",
            "price=81734\n",
            "price=81735\n",
            "price=81736\n",
            "price=81737\n",
            "price=81738\n",
            "price=81739\n",
            "price=81740\n",
            "price=81741\n",
            "price=81742\n",
            "price=81743\n",
            "price=81744\n",
            "price=81745\n",
            "price=81746\n",
            "price=81747\n",
            "price=81748\n",
            "price=81749\n",
            "price=81750\n",
            "price=81751\n",
            "price=81752\n",
            "price=81753\n",
            "price=81754\n",
            "price=81755\n",
            "price=81756\n",
            "price=81757\n",
            "price=81758\n",
            "price=81759\n",
            "price=81760\n",
            "price=81761\n",
            "price=81762\n",
            "price=81763\n",
            "price=81764\n",
            "price=81765\n",
            "price=81766\n",
            "price=81767\n",
            "price=81768\n",
            "price=81769\n",
            "price=81770\n",
            "price=81771\n",
            "price=81772\n",
            "price=81773\n",
            "price=81774\n",
            "price=81775\n",
            "price=81776\n",
            "price=81777\n",
            "price=81778\n",
            "price=81779\n",
            "price=81780\n",
            "price=81781\n",
            "price=81782\n",
            "price=81783\n",
            "price=81784\n",
            "price=81785\n",
            "price=81786\n",
            "price=81787\n",
            "price=81788\n",
            "price=81789\n",
            "price=81790\n",
            "price=81791\n",
            "price=81792\n",
            "price=81793\n",
            "price=81794\n",
            "price=81795\n",
            "price=81796\n",
            "price=81797\n",
            "price=81798\n",
            "price=81799\n",
            "price=81800\n",
            "price=81801\n",
            "price=81802\n",
            "price=81803\n",
            "price=81804\n",
            "price=81805\n",
            "price=81806\n",
            "price=81807\n",
            "price=81808\n",
            "price=81809\n",
            "price=81810\n",
            "price=81811\n",
            "price=81812\n",
            "price=81813\n",
            "price=81814\n",
            "price=81815\n",
            "price=81816\n",
            "price=81817\n",
            "price=81818\n",
            "price=81819\n",
            "price=81820\n",
            "price=81821\n",
            "price=81822\n",
            "price=81823\n",
            "price=81824\n",
            "price=81825\n",
            "price=81826\n",
            "price=81827\n",
            "price=81828\n",
            "price=81829\n",
            "price=81830\n",
            "price=81831\n",
            "price=81832\n",
            "price=81833\n",
            "price=81834\n",
            "price=81835\n",
            "price=81836\n",
            "price=81837\n",
            "price=81838\n",
            "price=81839\n",
            "price=81840\n",
            "price=81841\n",
            "price=81842\n",
            "price=81843\n",
            "price=81844\n",
            "price=81845\n",
            "price=81846\n",
            "price=81847\n",
            "price=81848\n",
            "price=81849\n",
            "price=81850\n",
            "price=81851\n",
            "price=81852\n",
            "price=81853\n",
            "price=81854\n",
            "price=81855\n",
            "price=81856\n",
            "price=81857\n",
            "price=81858\n",
            "price=81859\n",
            "price=81860\n",
            "price=81861\n",
            "price=81862\n",
            "price=81863\n",
            "price=81864\n",
            "price=81865\n",
            "price=81866\n",
            "price=81867\n",
            "price=81868\n",
            "price=81869\n",
            "price=81870\n",
            "price=81871\n",
            "price=81872\n",
            "price=81873\n",
            "price=81874\n",
            "price=81875\n",
            "price=81876\n",
            "price=81877\n",
            "price=81878\n",
            "price=81879\n",
            "price=81880\n",
            "price=81881\n",
            "price=81882\n",
            "price=81883\n",
            "price=81884\n",
            "price=81885\n",
            "price=81886\n",
            "price=81887\n",
            "price=81888\n",
            "price=81889\n",
            "price=81890\n",
            "price=81891\n",
            "price=81892\n",
            "price=81893\n",
            "price=81894\n",
            "price=81895\n",
            "price=81896\n",
            "price=81897\n",
            "price=81898\n",
            "price=81899\n",
            "price=81900\n",
            "price=81901\n",
            "price=81902\n",
            "price=81903\n",
            "price=81904\n",
            "price=81905\n",
            "price=81906\n",
            "price=81907\n",
            "price=81908\n",
            "price=81909\n",
            "price=81910\n",
            "price=81911\n",
            "price=81912\n",
            "price=81913\n",
            "price=81914\n",
            "price=81915\n",
            "price=81916\n",
            "price=81917\n",
            "price=81918\n",
            "price=81919\n",
            "price=81920\n",
            "price=81921\n",
            "price=81922\n",
            "price=81923\n",
            "price=81924\n",
            "price=81925\n",
            "price=81926\n",
            "price=81927\n",
            "price=81928\n",
            "price=81929\n",
            "price=81930\n",
            "price=81931\n",
            "price=81932\n",
            "price=81933\n",
            "price=81934\n",
            "price=81935\n",
            "price=81936\n",
            "price=81937\n",
            "price=81938\n",
            "price=81939\n",
            "price=81940\n",
            "price=81941\n",
            "price=81942\n",
            "price=81943\n",
            "price=81944\n",
            "price=81945\n",
            "price=81946\n",
            "price=81947\n",
            "price=81948\n",
            "price=81949\n",
            "price=81950\n",
            "price=81951\n",
            "price=81952\n",
            "price=81953\n",
            "price=81954\n",
            "price=81955\n",
            "price=81956\n",
            "price=81957\n",
            "price=81958\n",
            "price=81959\n",
            "price=81960\n",
            "price=81961\n",
            "price=81962\n",
            "price=81963\n",
            "price=81964\n",
            "price=81965\n",
            "price=81966\n",
            "price=81967\n",
            "price=81968\n",
            "price=81969\n",
            "price=81970\n",
            "price=81971\n",
            "price=81972\n",
            "price=81973\n",
            "price=81974\n",
            "price=81975\n",
            "price=81976\n",
            "price=81977\n",
            "price=81978\n",
            "price=81979\n",
            "price=81980\n",
            "price=81981\n",
            "price=81982\n",
            "price=81983\n",
            "price=81984\n",
            "price=81985\n",
            "price=81986\n",
            "price=81987\n",
            "price=81988\n",
            "price=81989\n",
            "price=81990\n",
            "price=81991\n",
            "price=81992\n",
            "price=81993\n",
            "price=81994\n",
            "price=81995\n",
            "price=81996\n",
            "price=81997\n",
            "price=81998\n",
            "price=81999\n",
            "price=82000\n",
            "price=82001\n",
            "price=82002\n",
            "price=82003\n",
            "price=82004\n",
            "price=82005\n",
            "price=82006\n",
            "price=82007\n",
            "price=82008\n",
            "price=82009\n",
            "price=82010\n",
            "price=82011\n",
            "price=82012\n",
            "price=82013\n",
            "price=82014\n",
            "price=82015\n",
            "price=82016\n",
            "price=82017\n",
            "price=82018\n",
            "price=82019\n",
            "price=82020\n",
            "price=82021\n",
            "price=82022\n",
            "price=82023\n",
            "price=82024\n",
            "price=82025\n",
            "price=82026\n",
            "price=82027\n",
            "price=82028\n",
            "price=82029\n",
            "price=82030\n",
            "price=82031\n",
            "price=82032\n",
            "price=82033\n",
            "price=82034\n",
            "price=82035\n",
            "price=82036\n",
            "price=82037\n",
            "price=82038\n",
            "price=82039\n",
            "price=82040\n",
            "price=82041\n",
            "price=82042\n",
            "price=82043\n",
            "price=82044\n",
            "price=82045\n",
            "price=82046\n",
            "price=82047\n",
            "price=82048\n",
            "price=82049\n",
            "price=82050\n",
            "price=82051\n",
            "price=82052\n",
            "price=82053\n",
            "price=82054\n",
            "price=82055\n",
            "price=82056\n",
            "price=82057\n",
            "price=82058\n",
            "price=82059\n",
            "price=82060\n",
            "price=82061\n",
            "price=82062\n",
            "price=82063\n",
            "price=82064\n",
            "price=82065\n",
            "price=82066\n",
            "price=82067\n",
            "price=82068\n",
            "price=82069\n",
            "price=82070\n",
            "price=82071\n",
            "price=82072\n",
            "price=82073\n",
            "price=82074\n",
            "price=82075\n",
            "price=82076\n",
            "price=82077\n",
            "price=82078\n",
            "price=82079\n",
            "price=82080\n",
            "price=82081\n",
            "price=82082\n",
            "price=82083\n",
            "price=82084\n",
            "price=82085\n",
            "price=82086\n",
            "price=82087\n",
            "price=82088\n",
            "price=82089\n",
            "price=82090\n",
            "price=82091\n",
            "price=82092\n",
            "price=82093\n",
            "price=82094\n",
            "price=82095\n",
            "price=82096\n",
            "price=82097\n",
            "price=82098\n",
            "price=82099\n",
            "price=82100\n",
            "price=82101\n",
            "price=82102\n",
            "price=82103\n",
            "price=82104\n",
            "price=82105\n",
            "price=82106\n",
            "price=82107\n",
            "price=82108\n",
            "price=82109\n",
            "price=82110\n",
            "price=82111\n",
            "price=82112\n",
            "price=82113\n",
            "price=82114\n",
            "price=82115\n",
            "price=82116\n",
            "price=82117\n",
            "price=82118\n",
            "price=82119\n",
            "price=82120\n",
            "price=82121\n",
            "price=82122\n",
            "price=82123\n",
            "price=82124\n",
            "price=82125\n",
            "price=82126\n",
            "price=82127\n",
            "price=82128\n",
            "price=82129\n",
            "price=82130\n",
            "price=82131\n",
            "price=82132\n",
            "price=82133\n",
            "price=82134\n",
            "price=82135\n",
            "price=82136\n",
            "price=82137\n",
            "price=82138\n",
            "price=82139\n",
            "price=82140\n",
            "price=82141\n",
            "price=82142\n",
            "price=82143\n",
            "price=82144\n",
            "price=82145\n",
            "price=82146\n",
            "price=82147\n",
            "price=82148\n",
            "price=82149\n",
            "price=82150\n",
            "price=82151\n",
            "price=82152\n",
            "price=82153\n",
            "price=82154\n",
            "price=82155\n",
            "price=82156\n",
            "price=82157\n",
            "price=82158\n",
            "price=82159\n",
            "price=82160\n",
            "price=82161\n",
            "price=82162\n",
            "price=82163\n",
            "price=82164\n",
            "price=82165\n",
            "price=82166\n",
            "price=82167\n",
            "price=82168\n",
            "price=82169\n",
            "price=82170\n",
            "price=82171\n",
            "price=82172\n",
            "price=82173\n",
            "price=82174\n",
            "price=82175\n",
            "price=82176\n",
            "price=82177\n",
            "price=82178\n",
            "price=82179\n",
            "price=82180\n",
            "price=82181\n",
            "price=82182\n",
            "price=82183\n",
            "price=82184\n",
            "price=82185\n",
            "price=82186\n",
            "price=82187\n",
            "price=82188\n",
            "price=82189\n",
            "price=82190\n",
            "price=82191\n",
            "price=82192\n",
            "price=82193\n",
            "price=82194\n",
            "price=82195\n",
            "price=82196\n",
            "price=82197\n",
            "price=82198\n",
            "price=82199\n",
            "price=82200\n",
            "price=82201\n",
            "price=82202\n",
            "price=82203\n",
            "price=82204\n",
            "price=82205\n",
            "price=82206\n",
            "price=82207\n",
            "price=82208\n",
            "price=82209\n",
            "price=82210\n",
            "price=82211\n",
            "price=82212\n",
            "price=82213\n",
            "price=82214\n",
            "price=82215\n",
            "price=82216\n",
            "price=82217\n",
            "price=82218\n",
            "price=82219\n",
            "price=82220\n",
            "price=82221\n",
            "price=82222\n",
            "price=82223\n",
            "price=82224\n",
            "price=82225\n",
            "price=82226\n",
            "price=82227\n",
            "price=82228\n",
            "price=82229\n",
            "price=82230\n",
            "price=82231\n",
            "price=82232\n",
            "price=82233\n",
            "price=82234\n",
            "price=82235\n",
            "price=82236\n",
            "price=82237\n",
            "price=82238\n",
            "price=82239\n",
            "price=82240\n",
            "price=82241\n",
            "price=82242\n",
            "price=82243\n",
            "price=82244\n",
            "price=82245\n",
            "price=82246\n",
            "price=82247\n",
            "price=82248\n",
            "price=82249\n",
            "price=82250\n",
            "price=82251\n",
            "price=82252\n",
            "price=82253\n",
            "price=82254\n",
            "price=82255\n",
            "price=82256\n",
            "price=82257\n",
            "price=82258\n",
            "price=82259\n",
            "price=82260\n",
            "price=82261\n",
            "price=82262\n",
            "price=82263\n",
            "price=82264\n",
            "price=82265\n",
            "price=82266\n",
            "price=82267\n",
            "price=82268\n",
            "price=82269\n",
            "price=82270\n",
            "price=82271\n",
            "price=82272\n",
            "price=82273\n",
            "price=82274\n",
            "price=82275\n",
            "price=82276\n",
            "price=82277\n",
            "price=82278\n",
            "price=82279\n",
            "price=82280\n",
            "price=82281\n",
            "price=82282\n",
            "price=82283\n",
            "price=82284\n",
            "price=82285\n",
            "price=82286\n",
            "price=82287\n",
            "price=82288\n",
            "price=82289\n",
            "price=82290\n",
            "price=82291\n",
            "price=82292\n",
            "price=82293\n",
            "price=82294\n",
            "price=82295\n",
            "price=82296\n",
            "price=82297\n",
            "price=82298\n",
            "price=82299\n",
            "price=82300\n",
            "price=82301\n",
            "price=82302\n",
            "price=82303\n",
            "price=82304\n",
            "price=82305\n",
            "price=82306\n",
            "price=82307\n",
            "price=82308\n",
            "price=82309\n",
            "price=82310\n",
            "price=82311\n",
            "price=82312\n",
            "price=82313\n",
            "price=82314\n",
            "price=82315\n",
            "price=82316\n",
            "price=82317\n",
            "price=82318\n",
            "price=82319\n",
            "price=82320\n",
            "price=82321\n",
            "price=82322\n",
            "price=82323\n",
            "price=82324\n",
            "price=82325\n",
            "price=82326\n",
            "price=82327\n",
            "price=82328\n",
            "price=82329\n",
            "price=82330\n",
            "price=82331\n",
            "price=82332\n",
            "price=82333\n",
            "price=82334\n",
            "price=82335\n",
            "price=82336\n",
            "price=82337\n",
            "price=82338\n",
            "price=82339\n",
            "price=82340\n",
            "price=82341\n",
            "price=82342\n",
            "price=82343\n",
            "price=82344\n",
            "price=82345\n",
            "price=82346\n",
            "price=82347\n",
            "price=82348\n",
            "price=82349\n",
            "price=82350\n",
            "price=82351\n",
            "price=82352\n",
            "price=82353\n",
            "price=82354\n",
            "price=82355\n",
            "price=82356\n",
            "price=82357\n",
            "price=82358\n",
            "price=82359\n",
            "price=82360\n",
            "price=82361\n",
            "price=82362\n",
            "price=82363\n",
            "price=82364\n",
            "price=82365\n",
            "price=82366\n",
            "price=82367\n",
            "price=82368\n",
            "price=82369\n",
            "price=82370\n",
            "price=82371\n",
            "price=82372\n",
            "price=82373\n",
            "price=82374\n",
            "price=82375\n",
            "price=82376\n",
            "price=82377\n",
            "price=82378\n",
            "price=82379\n",
            "price=82380\n",
            "price=82381\n",
            "price=82382\n",
            "price=82383\n",
            "price=82384\n",
            "price=82385\n",
            "price=82386\n",
            "price=82387\n",
            "price=82388\n",
            "price=82389\n",
            "price=82390\n",
            "price=82391\n",
            "price=82392\n",
            "price=82393\n",
            "price=82394\n",
            "price=82395\n",
            "price=82396\n",
            "price=82397\n",
            "price=82398\n",
            "price=82399\n",
            "price=82400\n",
            "price=82401\n",
            "price=82402\n",
            "price=82403\n",
            "price=82404\n",
            "price=82405\n",
            "price=82406\n",
            "price=82407\n",
            "price=82408\n",
            "price=82409\n",
            "price=82410\n",
            "price=82411\n",
            "price=82412\n",
            "price=82413\n",
            "price=82414\n",
            "price=82415\n",
            "price=82416\n",
            "price=82417\n",
            "price=82418\n",
            "price=82419\n",
            "price=82420\n",
            "price=82421\n",
            "price=82422\n",
            "price=82423\n",
            "price=82424\n",
            "price=82425\n",
            "price=82426\n",
            "price=82427\n",
            "price=82428\n",
            "price=82429\n",
            "price=82430\n",
            "price=82431\n",
            "price=82432\n",
            "price=82433\n",
            "price=82434\n",
            "price=82435\n",
            "price=82436\n",
            "price=82437\n",
            "price=82438\n",
            "price=82439\n",
            "price=82440\n",
            "price=82441\n",
            "price=82442\n",
            "price=82443\n",
            "price=82444\n",
            "price=82445\n",
            "price=82446\n",
            "price=82447\n",
            "price=82448\n",
            "price=82449\n",
            "price=82450\n",
            "price=82451\n",
            "price=82452\n",
            "price=82453\n",
            "price=82454\n",
            "price=82455\n",
            "price=82456\n",
            "price=82457\n",
            "price=82458\n",
            "price=82459\n",
            "price=82460\n",
            "price=82461\n",
            "price=82462\n",
            "price=82463\n",
            "price=82464\n",
            "price=82465\n",
            "price=82466\n",
            "price=82467\n",
            "price=82468\n",
            "price=82469\n",
            "price=82470\n",
            "price=82471\n",
            "price=82472\n",
            "price=82473\n",
            "price=82474\n",
            "price=82475\n",
            "price=82476\n",
            "price=82477\n",
            "price=82478\n",
            "price=82479\n",
            "price=82480\n",
            "price=82481\n",
            "price=82482\n",
            "price=82483\n",
            "price=82484\n",
            "price=82485\n",
            "price=82486\n",
            "price=82487\n",
            "price=82488\n",
            "price=82489\n",
            "price=82490\n",
            "price=82491\n",
            "price=82492\n",
            "price=82493\n",
            "price=82494\n",
            "price=82495\n",
            "price=82496\n",
            "price=82497\n",
            "price=82498\n",
            "price=82499\n",
            "price=82500\n",
            "price=82501\n",
            "price=82502\n",
            "price=82503\n",
            "price=82504\n",
            "price=82505\n",
            "price=82506\n",
            "price=82507\n",
            "price=82508\n",
            "price=82509\n",
            "price=82510\n",
            "price=82511\n",
            "price=82512\n",
            "price=82513\n",
            "price=82514\n",
            "price=82515\n",
            "price=82516\n",
            "price=82517\n",
            "price=82518\n",
            "price=82519\n",
            "price=82520\n",
            "price=82521\n",
            "price=82522\n",
            "price=82523\n",
            "price=82524\n",
            "price=82525\n",
            "price=82526\n",
            "price=82527\n",
            "price=82528\n",
            "price=82529\n",
            "price=82530\n",
            "price=82531\n",
            "price=82532\n",
            "price=82533\n",
            "price=82534\n",
            "price=82535\n",
            "price=82536\n",
            "price=82537\n",
            "price=82538\n",
            "price=82539\n",
            "price=82540\n",
            "price=82541\n",
            "price=82542\n",
            "price=82543\n",
            "price=82544\n",
            "price=82545\n",
            "price=82546\n",
            "price=82547\n",
            "price=82548\n",
            "price=82549\n",
            "price=82550\n",
            "price=82551\n",
            "price=82552\n",
            "price=82553\n",
            "price=82554\n",
            "price=82555\n",
            "price=82556\n",
            "price=82557\n",
            "price=82558\n",
            "price=82559\n",
            "price=82560\n",
            "price=82561\n",
            "price=82562\n",
            "price=82563\n",
            "price=82564\n",
            "price=82565\n",
            "price=82566\n",
            "price=82567\n",
            "price=82568\n",
            "price=82569\n",
            "price=82570\n",
            "price=82571\n",
            "price=82572\n",
            "price=82573\n",
            "price=82574\n",
            "price=82575\n",
            "price=82576\n",
            "price=82577\n",
            "price=82578\n",
            "price=82579\n",
            "price=82580\n",
            "price=82581\n",
            "price=82582\n",
            "price=82583\n",
            "price=82584\n",
            "price=82585\n",
            "price=82586\n",
            "price=82587\n",
            "price=82588\n",
            "price=82589\n",
            "price=82590\n",
            "price=82591\n",
            "price=82592\n",
            "price=82593\n",
            "price=82594\n",
            "price=82595\n",
            "price=82596\n",
            "price=82597\n",
            "price=82598\n",
            "price=82599\n",
            "price=82600\n",
            "price=82601\n",
            "price=82602\n",
            "price=82603\n",
            "price=82604\n",
            "price=82605\n",
            "price=82606\n",
            "price=82607\n",
            "price=82608\n",
            "price=82609\n",
            "price=82610\n",
            "price=82611\n",
            "price=82612\n",
            "price=82613\n",
            "price=82614\n",
            "price=82615\n",
            "price=82616\n",
            "price=82617\n",
            "price=82618\n",
            "price=82619\n",
            "price=82620\n",
            "price=82621\n",
            "price=82622\n",
            "price=82623\n",
            "price=82624\n",
            "price=82625\n",
            "price=82626\n",
            "price=82627\n",
            "price=82628\n",
            "price=82629\n",
            "price=82630\n",
            "price=82631\n",
            "price=82632\n",
            "price=82633\n",
            "price=82634\n",
            "price=82635\n",
            "price=82636\n",
            "price=82637\n",
            "price=82638\n",
            "price=82639\n",
            "price=82640\n",
            "price=82641\n",
            "price=82642\n",
            "price=82643\n",
            "price=82644\n",
            "price=82645\n",
            "price=82646\n",
            "price=82647\n",
            "price=82648\n",
            "price=82649\n",
            "price=82650\n",
            "price=82651\n",
            "price=82652\n",
            "price=82653\n",
            "price=82654\n",
            "price=82655\n",
            "price=82656\n",
            "price=82657\n",
            "price=82658\n",
            "price=82659\n",
            "price=82660\n",
            "price=82661\n",
            "price=82662\n",
            "price=82663\n",
            "price=82664\n",
            "price=82665\n",
            "price=82666\n",
            "price=82667\n",
            "price=82668\n",
            "price=82669\n",
            "price=82670\n",
            "price=82671\n",
            "price=82672\n",
            "price=82673\n",
            "price=82674\n",
            "price=82675\n",
            "price=82676\n",
            "price=82677\n",
            "price=82678\n",
            "price=82679\n",
            "price=82680\n",
            "price=82681\n",
            "price=82682\n",
            "price=82683\n",
            "price=82684\n",
            "price=82685\n",
            "price=82686\n",
            "price=82687\n",
            "price=82688\n",
            "price=82689\n",
            "price=82690\n",
            "price=82691\n",
            "price=82692\n",
            "price=82693\n",
            "price=82694\n",
            "price=82695\n",
            "price=82696\n",
            "price=82697\n",
            "price=82698\n",
            "price=82699\n",
            "price=82700\n",
            "price=82701\n",
            "price=82702\n",
            "price=82703\n",
            "price=82704\n",
            "price=82705\n",
            "price=82706\n",
            "price=82707\n",
            "price=82708\n",
            "price=82709\n",
            "price=82710\n",
            "price=82711\n",
            "price=82712\n",
            "price=82713\n",
            "price=82714\n",
            "price=82715\n",
            "price=82716\n",
            "price=82717\n",
            "price=82718\n",
            "price=82719\n",
            "price=82720\n",
            "price=82721\n",
            "price=82722\n",
            "price=82723\n",
            "price=82724\n",
            "price=82725\n",
            "price=82726\n",
            "price=82727\n",
            "price=82728\n",
            "price=82729\n",
            "price=82730\n",
            "price=82731\n",
            "price=82732\n",
            "price=82733\n",
            "price=82734\n",
            "price=82735\n",
            "price=82736\n",
            "price=82737\n",
            "price=82738\n",
            "price=82739\n",
            "price=82740\n",
            "price=82741\n",
            "price=82742\n",
            "price=82743\n",
            "price=82744\n",
            "price=82745\n",
            "price=82746\n",
            "price=82747\n",
            "price=82748\n",
            "price=82749\n",
            "price=82750\n",
            "price=82751\n",
            "price=82752\n",
            "price=82753\n",
            "price=82754\n",
            "price=82755\n",
            "price=82756\n",
            "price=82757\n",
            "price=82758\n",
            "price=82759\n",
            "price=82760\n",
            "price=82761\n",
            "price=82762\n",
            "price=82763\n",
            "price=82764\n",
            "price=82765\n",
            "price=82766\n",
            "price=82767\n",
            "price=82768\n",
            "price=82769\n",
            "price=82770\n",
            "price=82771\n",
            "price=82772\n",
            "price=82773\n",
            "price=82774\n",
            "price=82775\n",
            "price=82776\n",
            "price=82777\n",
            "price=82778\n",
            "price=82779\n",
            "price=82780\n",
            "price=82781\n",
            "price=82782\n",
            "price=82783\n",
            "price=82784\n",
            "price=82785\n",
            "price=82786\n"
          ]
        },
        {
          "output_type": "error",
          "ename": "KeyboardInterrupt",
          "evalue": "",
          "traceback": [
            "\u001b[0;31m---------------------------------------------------------------------------\u001b[0m",
            "\u001b[0;31mKeyboardInterrupt\u001b[0m                         Traceback (most recent call last)",
            "\u001b[0;32m<ipython-input-82-5e7563d6ebb2>\u001b[0m in \u001b[0;36m<cell line: 7>\u001b[0;34m()\u001b[0m\n\u001b[1;32m      6\u001b[0m \u001b[0mprice\u001b[0m \u001b[0;34m=\u001b[0m \u001b[0;36m100\u001b[0m\u001b[0;34m\u001b[0m\u001b[0;34m\u001b[0m\u001b[0m\n\u001b[1;32m      7\u001b[0m \u001b[0;32mwhile\u001b[0m \u001b[0mprice\u001b[0m \u001b[0;34m>\u001b[0m \u001b[0;36m90\u001b[0m\u001b[0;34m:\u001b[0m\u001b[0;34m\u001b[0m\u001b[0;34m\u001b[0m\u001b[0m\n\u001b[0;32m----> 8\u001b[0;31m     \u001b[0mprint\u001b[0m\u001b[0;34m(\u001b[0m\u001b[0;34mf'price={price}'\u001b[0m\u001b[0;34m)\u001b[0m\u001b[0;34m\u001b[0m\u001b[0;34m\u001b[0m\u001b[0m\n\u001b[0m\u001b[1;32m      9\u001b[0m     \u001b[0mprice\u001b[0m \u001b[0;34m+=\u001b[0m \u001b[0;36m1\u001b[0m\u001b[0;34m\u001b[0m\u001b[0;34m\u001b[0m\u001b[0m\n",
            "\u001b[0;32m/usr/local/lib/python3.10/dist-packages/ipykernel/iostream.py\u001b[0m in \u001b[0;36mwrite\u001b[0;34m(self, string)\u001b[0m\n\u001b[1;32m    400\u001b[0m             \u001b[0mis_child\u001b[0m \u001b[0;34m=\u001b[0m \u001b[0;34m(\u001b[0m\u001b[0;32mnot\u001b[0m \u001b[0mself\u001b[0m\u001b[0;34m.\u001b[0m\u001b[0m_is_master_process\u001b[0m\u001b[0;34m(\u001b[0m\u001b[0;34m)\u001b[0m\u001b[0;34m)\u001b[0m\u001b[0;34m\u001b[0m\u001b[0;34m\u001b[0m\u001b[0m\n\u001b[1;32m    401\u001b[0m             \u001b[0;31m# only touch the buffer in the IO thread to avoid races\u001b[0m\u001b[0;34m\u001b[0m\u001b[0;34m\u001b[0m\u001b[0m\n\u001b[0;32m--> 402\u001b[0;31m             \u001b[0mself\u001b[0m\u001b[0;34m.\u001b[0m\u001b[0mpub_thread\u001b[0m\u001b[0;34m.\u001b[0m\u001b[0mschedule\u001b[0m\u001b[0;34m(\u001b[0m\u001b[0;32mlambda\u001b[0m \u001b[0;34m:\u001b[0m \u001b[0mself\u001b[0m\u001b[0;34m.\u001b[0m\u001b[0m_buffer\u001b[0m\u001b[0;34m.\u001b[0m\u001b[0mwrite\u001b[0m\u001b[0;34m(\u001b[0m\u001b[0mstring\u001b[0m\u001b[0;34m)\u001b[0m\u001b[0;34m)\u001b[0m\u001b[0;34m\u001b[0m\u001b[0;34m\u001b[0m\u001b[0m\n\u001b[0m\u001b[1;32m    403\u001b[0m             \u001b[0;32mif\u001b[0m \u001b[0mis_child\u001b[0m\u001b[0;34m:\u001b[0m\u001b[0;34m\u001b[0m\u001b[0;34m\u001b[0m\u001b[0m\n\u001b[1;32m    404\u001b[0m                 \u001b[0;31m# mp.Pool cannot be trusted to flush promptly (or ever),\u001b[0m\u001b[0;34m\u001b[0m\u001b[0;34m\u001b[0m\u001b[0m\n",
            "\u001b[0;32m/usr/local/lib/python3.10/dist-packages/ipykernel/iostream.py\u001b[0m in \u001b[0;36mschedule\u001b[0;34m(self, f)\u001b[0m\n\u001b[1;32m    201\u001b[0m             \u001b[0mself\u001b[0m\u001b[0;34m.\u001b[0m\u001b[0m_events\u001b[0m\u001b[0;34m.\u001b[0m\u001b[0mappend\u001b[0m\u001b[0;34m(\u001b[0m\u001b[0mf\u001b[0m\u001b[0;34m)\u001b[0m\u001b[0;34m\u001b[0m\u001b[0;34m\u001b[0m\u001b[0m\n\u001b[1;32m    202\u001b[0m             \u001b[0;31m# wake event thread (message content is ignored)\u001b[0m\u001b[0;34m\u001b[0m\u001b[0;34m\u001b[0m\u001b[0m\n\u001b[0;32m--> 203\u001b[0;31m             \u001b[0mself\u001b[0m\u001b[0;34m.\u001b[0m\u001b[0m_event_pipe\u001b[0m\u001b[0;34m.\u001b[0m\u001b[0msend\u001b[0m\u001b[0;34m(\u001b[0m\u001b[0;34mb''\u001b[0m\u001b[0;34m)\u001b[0m\u001b[0;34m\u001b[0m\u001b[0;34m\u001b[0m\u001b[0m\n\u001b[0m\u001b[1;32m    204\u001b[0m         \u001b[0;32melse\u001b[0m\u001b[0;34m:\u001b[0m\u001b[0;34m\u001b[0m\u001b[0;34m\u001b[0m\u001b[0m\n\u001b[1;32m    205\u001b[0m             \u001b[0mf\u001b[0m\u001b[0;34m(\u001b[0m\u001b[0;34m)\u001b[0m\u001b[0;34m\u001b[0m\u001b[0;34m\u001b[0m\u001b[0m\n",
            "\u001b[0;32m/usr/local/lib/python3.10/dist-packages/zmq/sugar/socket.py\u001b[0m in \u001b[0;36msend\u001b[0;34m(self, data, flags, copy, track, routing_id, group)\u001b[0m\n\u001b[1;32m    618\u001b[0m                 )\n\u001b[1;32m    619\u001b[0m             \u001b[0mdata\u001b[0m\u001b[0;34m.\u001b[0m\u001b[0mgroup\u001b[0m \u001b[0;34m=\u001b[0m \u001b[0mgroup\u001b[0m\u001b[0;34m\u001b[0m\u001b[0;34m\u001b[0m\u001b[0m\n\u001b[0;32m--> 620\u001b[0;31m         \u001b[0;32mreturn\u001b[0m \u001b[0msuper\u001b[0m\u001b[0;34m(\u001b[0m\u001b[0;34m)\u001b[0m\u001b[0;34m.\u001b[0m\u001b[0msend\u001b[0m\u001b[0;34m(\u001b[0m\u001b[0mdata\u001b[0m\u001b[0;34m,\u001b[0m \u001b[0mflags\u001b[0m\u001b[0;34m=\u001b[0m\u001b[0mflags\u001b[0m\u001b[0;34m,\u001b[0m \u001b[0mcopy\u001b[0m\u001b[0;34m=\u001b[0m\u001b[0mcopy\u001b[0m\u001b[0;34m,\u001b[0m \u001b[0mtrack\u001b[0m\u001b[0;34m=\u001b[0m\u001b[0mtrack\u001b[0m\u001b[0;34m)\u001b[0m\u001b[0;34m\u001b[0m\u001b[0;34m\u001b[0m\u001b[0m\n\u001b[0m\u001b[1;32m    621\u001b[0m \u001b[0;34m\u001b[0m\u001b[0m\n\u001b[1;32m    622\u001b[0m     def send_multipart(\n",
            "\u001b[0;32mzmq/backend/cython/socket.pyx\u001b[0m in \u001b[0;36mzmq.backend.cython.socket.Socket.send\u001b[0;34m()\u001b[0m\n",
            "\u001b[0;32mzmq/backend/cython/socket.pyx\u001b[0m in \u001b[0;36mzmq.backend.cython.socket.Socket.send\u001b[0;34m()\u001b[0m\n",
            "\u001b[0;32mzmq/backend/cython/socket.pyx\u001b[0m in \u001b[0;36mzmq.backend.cython.socket._send_copy\u001b[0;34m()\u001b[0m\n",
            "\u001b[0;32m/usr/local/lib/python3.10/dist-packages/zmq/backend/cython/checkrc.pxd\u001b[0m in \u001b[0;36mzmq.backend.cython.checkrc._check_rc\u001b[0;34m()\u001b[0m\n",
            "\u001b[0;31mKeyboardInterrupt\u001b[0m: "
          ]
        }
      ],
      "source": [
        "# price = 100\n",
        "# while price < 50:\n",
        "#     print(f'price={price}')\n",
        "# print('done')\n",
        "\n",
        "price = 100\n",
        "while price > 90:\n",
        "    print(f'price={price}')\n",
        "    price += 1"
      ]
    },
    {
      "cell_type": "markdown",
      "metadata": {
        "id": "BlXHMcau7RGx"
      },
      "source": [
        "The other thing is to watch out for infinite loops!\n",
        "(Don't run this code - otherwise you'll have to interrupt the kernel (from the `Kernel` menu)"
      ]
    },
    {
      "cell_type": "markdown",
      "metadata": {
        "id": "YaRVHACb7RGx"
      },
      "source": [
        "```\n",
        "price = 100\n",
        "while price > 90:\n",
        "    print(f'price={price}')\n",
        "    price += 1\n",
        "```"
      ]
    },
    {
      "cell_type": "markdown",
      "metadata": {
        "id": "QS8m2B_L7RGx"
      },
      "source": [
        "As you can see, this loop executes indefinitely."
      ]
    },
    {
      "cell_type": "markdown",
      "metadata": {
        "id": "9oBQBfw-7RGx"
      },
      "source": [
        "`while` loops are actually quite useful for modifying iterables as we are iterating over them."
      ]
    },
    {
      "cell_type": "markdown",
      "metadata": {
        "id": "tI2-F48O7RGx"
      },
      "source": [
        "For example, suppose we have a list of data that we have to process and remove from the list once we have procesed it, repeating this until the list is empty."
      ]
    },
    {
      "cell_type": "code",
      "execution_count": null,
      "metadata": {
        "id": "TyUwwgLg7RGx"
      },
      "outputs": [],
      "source": [
        "data = [100, 200, 300, 400, 500]"
      ]
    },
    {
      "cell_type": "code",
      "execution_count": null,
      "metadata": {
        "id": "A2XslbR67RGx",
        "outputId": "69882e77-e063-4579-f960-3d0892d85e66"
      },
      "outputs": [
        {
          "name": "stdout",
          "output_type": "stream",
          "text": [
            "processing element: 500\n",
            "processing element: 400\n",
            "processing element: 300\n",
            "processing element: 200\n",
            "processing element: 100\n"
          ]
        }
      ],
      "source": [
        "while len(data) > 0:\n",
        "    last_element = data.pop()  # retrieves and removes last list element\n",
        "    print(f'processing element: {last_element}')"
      ]
    },
    {
      "cell_type": "markdown",
      "metadata": {
        "id": "oJq3SUSr7RGx"
      },
      "source": [
        "On the other hand, trying to do the same using a `for` loop is not recommended!"
      ]
    },
    {
      "cell_type": "code",
      "execution_count": null,
      "metadata": {
        "id": "X5usRDOx7RGx"
      },
      "outputs": [],
      "source": [
        "data = [100, 200, 300, 400, 500]"
      ]
    },
    {
      "cell_type": "code",
      "execution_count": null,
      "metadata": {
        "id": "QcYvDtV27RGx",
        "outputId": "57e7a9a7-7a67-4ae9-a44a-b0cfc2f987e1"
      },
      "outputs": [
        {
          "name": "stdout",
          "output_type": "stream",
          "text": [
            "processing element: 100\n",
            "processing element: 300\n",
            "processing element: 500\n"
          ]
        },
        {
          "ename": "IndexError",
          "evalue": "pop index out of range",
          "output_type": "error",
          "traceback": [
            "\u001b[0;31m---------------------------------------------------------------------------\u001b[0m\n",
            "\u001b[0;31mIndexError\u001b[0m                                Traceback (most recent call last)\n",
            "\u001b[0;32m<ipython-input-6-4b0613da5bf2>\u001b[0m in \u001b[0;36m<module>\u001b[0;34m\u001b[0m\n",
            "\u001b[1;32m      1\u001b[0m \u001b[0;32mfor\u001b[0m \u001b[0mi\u001b[0m \u001b[0;32min\u001b[0m \u001b[0mrange\u001b[0m\u001b[0;34m(\u001b[0m\u001b[0mlen\u001b[0m\u001b[0;34m(\u001b[0m\u001b[0mdata\u001b[0m\u001b[0;34m)\u001b[0m\u001b[0;34m)\u001b[0m\u001b[0;34m:\u001b[0m\u001b[0;34m\u001b[0m\u001b[0;34m\u001b[0m\u001b[0m\n",
            "\u001b[0;32m----> 2\u001b[0;31m     \u001b[0melement\u001b[0m \u001b[0;34m=\u001b[0m \u001b[0mdata\u001b[0m\u001b[0;34m.\u001b[0m\u001b[0mpop\u001b[0m\u001b[0;34m(\u001b[0m\u001b[0mi\u001b[0m\u001b[0;34m)\u001b[0m  \u001b[0;31m# remove element at index i\u001b[0m\u001b[0;34m\u001b[0m\u001b[0;34m\u001b[0m\u001b[0m\n",
            "\u001b[0m\u001b[1;32m      3\u001b[0m     \u001b[0mprint\u001b[0m\u001b[0;34m(\u001b[0m\u001b[0;34mf'processing element: {element}'\u001b[0m\u001b[0;34m)\u001b[0m\u001b[0;34m\u001b[0m\u001b[0;34m\u001b[0m\u001b[0m\n",
            "\u001b[1;32m      4\u001b[0m \u001b[0;34m\u001b[0m\u001b[0m\n",
            "\n",
            "\u001b[0;31mIndexError\u001b[0m: pop index out of range"
          ]
        }
      ],
      "source": [
        "for i in range(len(data)):\n",
        "    element = data.pop(i)  # remove element at index i\n",
        "    print(f'processing element: {element}')\n"
      ]
    },
    {
      "cell_type": "markdown",
      "metadata": {
        "id": "UrMO8I2G7RGx"
      },
      "source": [
        "So, a number of things happened here.\n",
        "\n",
        "First, notice that the elements processed were `100`, followed by `300`, and then `500`.\n",
        "\n",
        "What happened to `200` and `400`?"
      ]
    },
    {
      "cell_type": "markdown",
      "metadata": {
        "id": "fsxCw-wM7RGx"
      },
      "source": [
        "Then we got an `IndexError` indicating we were trying to retrieve an element using an out of bounds index."
      ]
    },
    {
      "cell_type": "markdown",
      "metadata": {
        "id": "Clw6YKWi7RGx"
      },
      "source": [
        "Let's modify the code a bit and see what happened:"
      ]
    },
    {
      "cell_type": "code",
      "execution_count": null,
      "metadata": {
        "id": "GI6WEB247RGx"
      },
      "outputs": [],
      "source": [
        "data = [100, 200, 300, 400, 500]"
      ]
    },
    {
      "cell_type": "markdown",
      "metadata": {
        "id": "qk4454Kk7RGy"
      },
      "source": [
        "First, `len(data)` is calculate at the start of the loop, so the number is:"
      ]
    },
    {
      "cell_type": "code",
      "execution_count": null,
      "metadata": {
        "id": "d-f6NdJo7RGy",
        "outputId": "3fc301c0-a45e-45ea-bea3-d3f5971c39d6"
      },
      "outputs": [
        {
          "data": {
            "text/plain": [
              "5"
            ]
          },
          "metadata": {},
          "output_type": "display_data"
        }
      ],
      "source": [
        "len(data)"
      ]
    },
    {
      "cell_type": "markdown",
      "metadata": {
        "id": "LGfETQ1c7RGy"
      },
      "source": [
        "So, we could re-write our code this way, and at the same time we'll print what `data` looks like in each iteration:"
      ]
    },
    {
      "cell_type": "code",
      "execution_count": null,
      "metadata": {
        "id": "1AOGbzc87RGy",
        "outputId": "46ec154e-816b-4cfb-98e4-3c37684de7a6"
      },
      "outputs": [
        {
          "name": "stdout",
          "output_type": "stream",
          "text": [
            "i = 0\n",
            "before removing element: data = [100, 200, 300, 400, 500]\n",
            "processing element: 100\n",
            "after removing element: data = [200, 300, 400, 500]\n",
            "----------\n",
            "i = 1\n",
            "before removing element: data = [200, 300, 400, 500]\n",
            "processing element: 300\n",
            "after removing element: data = [200, 400, 500]\n",
            "----------\n",
            "i = 2\n",
            "before removing element: data = [200, 400, 500]\n",
            "processing element: 500\n",
            "after removing element: data = [200, 400]\n",
            "----------\n",
            "i = 3\n",
            "before removing element: data = [200, 400]\n"
          ]
        },
        {
          "ename": "IndexError",
          "evalue": "pop index out of range",
          "output_type": "error",
          "traceback": [
            "\u001b[0;31m---------------------------------------------------------------------------\u001b[0m\n",
            "\u001b[0;31mIndexError\u001b[0m                                Traceback (most recent call last)\n",
            "\u001b[0;32m<ipython-input-9-9cddb68804e6>\u001b[0m in \u001b[0;36m<module>\u001b[0;34m\u001b[0m\n",
            "\u001b[1;32m      2\u001b[0m     \u001b[0mprint\u001b[0m\u001b[0;34m(\u001b[0m\u001b[0;34mf'i = {i}'\u001b[0m\u001b[0;34m)\u001b[0m\u001b[0;34m\u001b[0m\u001b[0;34m\u001b[0m\u001b[0m\n",
            "\u001b[1;32m      3\u001b[0m     \u001b[0mprint\u001b[0m\u001b[0;34m(\u001b[0m\u001b[0;34mf'before removing element: data = {data}'\u001b[0m\u001b[0;34m)\u001b[0m\u001b[0;34m\u001b[0m\u001b[0;34m\u001b[0m\u001b[0m\n",
            "\u001b[0;32m----> 4\u001b[0;31m     \u001b[0melement\u001b[0m \u001b[0;34m=\u001b[0m \u001b[0mdata\u001b[0m\u001b[0;34m.\u001b[0m\u001b[0mpop\u001b[0m\u001b[0;34m(\u001b[0m\u001b[0mi\u001b[0m\u001b[0;34m)\u001b[0m  \u001b[0;31m# remove element at index i\u001b[0m\u001b[0;34m\u001b[0m\u001b[0;34m\u001b[0m\u001b[0m\n",
            "\u001b[0m\u001b[1;32m      5\u001b[0m     \u001b[0mprint\u001b[0m\u001b[0;34m(\u001b[0m\u001b[0;34mf'processing element: {element}'\u001b[0m\u001b[0;34m)\u001b[0m\u001b[0;34m\u001b[0m\u001b[0;34m\u001b[0m\u001b[0m\n",
            "\u001b[1;32m      6\u001b[0m     \u001b[0mprint\u001b[0m\u001b[0;34m(\u001b[0m\u001b[0;34mf'after removing element: data = {data}'\u001b[0m\u001b[0;34m)\u001b[0m\u001b[0;34m\u001b[0m\u001b[0;34m\u001b[0m\u001b[0m\n",
            "\n",
            "\u001b[0;31mIndexError\u001b[0m: pop index out of range"
          ]
        }
      ],
      "source": [
        "for i in range(len(data)):\n",
        "    print(f'i = {i}')\n",
        "    print(f'before removing element: data = {data}')\n",
        "    element = data.pop(i)  # remove element at index i\n",
        "    print(f'processing element: {element}')\n",
        "    print(f'after removing element: data = {data}')\n",
        "    print('-' * 10)"
      ]
    },
    {
      "cell_type": "markdown",
      "metadata": {
        "id": "wrrQSHRI7RGy"
      },
      "source": [
        "Look at the end of the first iteration (`i = 0`):\n",
        "\n",
        "```\n",
        "data = [200, 300, 400, 500]\n",
        "```"
      ]
    },
    {
      "cell_type": "markdown",
      "metadata": {
        "id": "zvXU6rKD7RGy"
      },
      "source": [
        "Notice how the list now has `4` elements, not `5`.\n",
        "\n",
        "When the second iteration runs, `i = 1`, we are removing the element at index `1`, which would have been the second element **if** the list had not been modified - so now the element at index `1` is `300`, not `200`."
      ]
    },
    {
      "cell_type": "markdown",
      "metadata": {
        "id": "trbVcvvt7RGy"
      },
      "source": [
        "And for the same reason by the time we reach `i = 3`, the list is empty, and hence the `IndexError`."
      ]
    },
    {
      "cell_type": "markdown",
      "metadata": {
        "id": "mLasZLWs7RGy"
      },
      "source": [
        "This goes to show that using a `for` loop to both iterate over and remove/insert elements of a sequence at the same time is, in general,  a bad idea."
      ]
    },
    {
      "cell_type": "markdown",
      "metadata": {
        "id": "gSWxD47x7RGy"
      },
      "source": []
    },
    {
      "cell_type": "markdown",
      "metadata": {
        "id": "8ywCb1bc7RGy"
      },
      "source": [
        "### For Loops"
      ]
    },
    {
      "cell_type": "markdown",
      "metadata": {
        "id": "kOStt9id7RGy"
      },
      "source": [
        "`for` loops are one of the iteration mechanisms available in Python."
      ]
    },
    {
      "cell_type": "markdown",
      "metadata": {
        "id": "Al0HFM3X7RGy"
      },
      "source": [
        "A `for` loop iterates over an **iterable**.\n",
        "\n",
        "If you have a background in other programming languages such as Java, C#, etc you may find that the Python `for` loop is very different from the standard `for` loop in those languages. There is no counter of any kind, and the Python `for` loop is more like the *for each* loops in those languages."
      ]
    },
    {
      "cell_type": "markdown",
      "metadata": {
        "id": "myAt481J7RGy"
      },
      "source": [
        "So a `for` loop in Python is used to repeat the same block of (indented) code for each element of an iterable. At each iteration the particular element becomes available inside the code block."
      ]
    },
    {
      "cell_type": "markdown",
      "metadata": {
        "id": "FILrgMPM7RGy"
      },
      "source": [
        "For example, we can iterate over the element of a list this way:"
      ]
    },
    {
      "cell_type": "code",
      "execution_count": null,
      "metadata": {
        "id": "_XwStXZv7RGy"
      },
      "outputs": [],
      "source": [
        "suits = ['Spades', 'Hearts', 'Diamonds', 'Clubs']"
      ]
    },
    {
      "cell_type": "code",
      "execution_count": null,
      "metadata": {
        "id": "vM7wngEo7RGy",
        "colab": {
          "base_uri": "https://localhost:8080/"
        },
        "outputId": "c61e6996-ad8f-4696-aea6-31b8aacedc36"
      },
      "outputs": [
        {
          "output_type": "stream",
          "name": "stdout",
          "text": [
            "S = Spades\n",
            "H = Hearts\n",
            "D = Diamonds\n",
            "C = Clubs\n"
          ]
        }
      ],
      "source": [
        "for suit in suits:\n",
        "    abbrev = suit[0].upper()\n",
        "    print(f'{abbrev} = {suit}')"
      ]
    },
    {
      "cell_type": "markdown",
      "metadata": {
        "id": "4MokSLD77RGy"
      },
      "source": [
        "Or we can just write it this way too:"
      ]
    },
    {
      "cell_type": "code",
      "execution_count": null,
      "metadata": {
        "id": "yHsrDa3B7RGy",
        "colab": {
          "base_uri": "https://localhost:8080/"
        },
        "outputId": "b61119bb-44d7-48ea-953a-4a7077416483"
      },
      "outputs": [
        {
          "output_type": "stream",
          "name": "stdout",
          "text": [
            "S = Spades\n",
            "H = Hearts\n",
            "D = Diamonds\n",
            "C = Clubs\n"
          ]
        }
      ],
      "source": [
        "for suit in suits:\n",
        "    print(f'{suit[0].upper()} = {suit}')"
      ]
    },
    {
      "cell_type": "markdown",
      "metadata": {
        "id": "1tV5SACz7RGy"
      },
      "source": [
        "As you can see the loop block was repeated for each element of the list, and that element was available in the loop variable (`suit`)."
      ]
    },
    {
      "cell_type": "markdown",
      "metadata": {
        "id": "0HmMvV1q7RGy"
      },
      "source": [
        "Any iterable object can be iterated over using a `for` loop."
      ]
    },
    {
      "cell_type": "markdown",
      "metadata": {
        "id": "vOYqResP7RGz"
      },
      "source": [
        "For example, a string is an iterable:"
      ]
    },
    {
      "cell_type": "code",
      "execution_count": null,
      "metadata": {
        "id": "Y7oeVqNp7RGz",
        "colab": {
          "base_uri": "https://localhost:8080/"
        },
        "outputId": "23609016-0acb-48ec-dc83-a576af408b77"
      },
      "outputs": [
        {
          "output_type": "stream",
          "name": "stdout",
          "text": [
            "P\n",
            "Y\n",
            "T\n",
            "H\n",
            "O\n",
            "N\n"
          ]
        }
      ],
      "source": [
        "for c in 'python':\n",
        "    print(c.upper())"
      ]
    },
    {
      "cell_type": "markdown",
      "metadata": {
        "id": "PI7nOKA97RGz"
      },
      "source": [
        "As well as others we have seen (like tuples), and many more we will see in this course."
      ]
    },
    {
      "cell_type": "markdown",
      "metadata": {
        "id": "PCoc66ak7RGz"
      },
      "source": [
        "One thing to note is that the loop variable (like `suit` in the first example and `c` in the last example) remain available after the for loop terminates - they just contain the last value \"seen\" by the variable during the iteration:"
      ]
    },
    {
      "cell_type": "code",
      "execution_count": null,
      "metadata": {
        "id": "VfzM9cX17RGz",
        "colab": {
          "base_uri": "https://localhost:8080/",
          "height": 35
        },
        "outputId": "a9f5e147-de2d-418d-ed4c-4fa0e0cc9d36"
      },
      "outputs": [
        {
          "output_type": "execute_result",
          "data": {
            "text/plain": [
              "'Clubs'"
            ],
            "application/vnd.google.colaboratory.intrinsic+json": {
              "type": "string"
            }
          },
          "metadata": {},
          "execution_count": 5
        }
      ],
      "source": [
        "suit"
      ]
    },
    {
      "cell_type": "code",
      "execution_count": null,
      "metadata": {
        "id": "Zy5oQoaj7RGz",
        "outputId": "6e2d0e00-b049-44a9-97bf-2b8dabdcefe3",
        "colab": {
          "base_uri": "https://localhost:8080/",
          "height": 35
        }
      },
      "outputs": [
        {
          "output_type": "execute_result",
          "data": {
            "text/plain": [
              "'n'"
            ],
            "application/vnd.google.colaboratory.intrinsic+json": {
              "type": "string"
            }
          },
          "metadata": {},
          "execution_count": 6
        }
      ],
      "source": [
        "c"
      ]
    },
    {
      "cell_type": "markdown",
      "metadata": {
        "id": "YiwH5qTl7RGz"
      },
      "source": [
        "## Range Objects"
      ]
    },
    {
      "cell_type": "markdown",
      "metadata": {
        "id": "uM6-k5nN7RGz"
      },
      "source": [
        "We recently looked at `range` objects. They can be created using the `range()` function."
      ]
    },
    {
      "cell_type": "markdown",
      "metadata": {
        "id": "9HFS4Sh97RGz"
      },
      "source": [
        "Often, we want to run a loop a certain **number** of times, or just a sequence of integers."
      ]
    },
    {
      "cell_type": "markdown",
      "metadata": {
        "id": "tNlKbJ8M7RGz"
      },
      "source": [
        "In this case, we can use a `range` object to do just that - we will repeat the loop block as many times as there are elements in the `range` object, as well as get the integer from that iterable."
      ]
    },
    {
      "cell_type": "code",
      "execution_count": null,
      "metadata": {
        "id": "M1NbyvnI7RGz"
      },
      "outputs": [],
      "source": [
        "for i in range(2, 11, 2):\n",
        "    print(i)"
      ]
    },
    {
      "cell_type": "markdown",
      "metadata": {
        "id": "NOanlt1x7RGz"
      },
      "source": [
        "The loop body (the code block that gets repeated), can contain any valid Python code - including another loop - called nested loops."
      ]
    },
    {
      "cell_type": "code",
      "execution_count": null,
      "metadata": {
        "id": "EtrQVtnB7RGz"
      },
      "outputs": [],
      "source": [
        "for i in range(3):\n",
        "    for j in range(3):\n",
        "        print(f'i={i}, j={j}')\n",
        "    print('-' * 10)"
      ]
    },
    {
      "cell_type": "markdown",
      "metadata": {
        "id": "ObVQ8gUl7RGz"
      },
      "source": [
        "We can use nested loops to iterate through every element of a matrix for example."
      ]
    },
    {
      "cell_type": "code",
      "execution_count": null,
      "metadata": {
        "id": "eO2F_iLm7RGz"
      },
      "outputs": [],
      "source": [
        "m = [\n",
        "    [1, 2, 3],\n",
        "    [4, 5, 6],\n",
        "    [7, 8, 9]\n",
        "]"
      ]
    },
    {
      "cell_type": "markdown",
      "metadata": {
        "id": "whDS9uor7RGz"
      },
      "source": [
        "In this case we can see that the matrix is a square 3x3 matrix (e.g. a list contain 3 elements (rows), each of which is a list containing 3 elements (the columns for that row).\n",
        "\n",
        "So we can write our for loop this way:"
      ]
    },
    {
      "cell_type": "code",
      "execution_count": null,
      "metadata": {
        "id": "IeBnFfok7RGz",
        "outputId": "22c03a6c-4517-4c2c-af9b-84f4ca0189c3",
        "colab": {
          "base_uri": "https://localhost:8080/"
        }
      },
      "outputs": [
        {
          "output_type": "stream",
          "name": "stdout",
          "text": [
            "[0, 0] = 1\n",
            "[0, 1] = 2\n",
            "[0, 2] = 3\n",
            "[1, 0] = 4\n",
            "[1, 1] = 5\n",
            "[1, 2] = 6\n",
            "[2, 0] = 7\n",
            "[2, 1] = 8\n",
            "[2, 2] = 9\n"
          ]
        }
      ],
      "source": [
        "for row_idx in range(3):\n",
        "    for col_idx in range(3):\n",
        "        print(f'[{row_idx}, {col_idx}] = {m[row_idx][col_idx]}')"
      ]
    },
    {
      "cell_type": "markdown",
      "metadata": {
        "id": "aOZahF777RGz"
      },
      "source": [
        "Often we don't know the size of the matrix ahead of time, or the matrix may not be square, or may even be ragged (different rows have different lengths)."
      ]
    },
    {
      "cell_type": "markdown",
      "metadata": {
        "id": "JYme8G_k7RGz"
      },
      "source": [
        "In that case, we should use the `len()` function to determine the number of rows in the matrix, and again for each to determine the length of each row as we iterate through the rows:"
      ]
    },
    {
      "cell_type": "markdown",
      "metadata": {
        "id": "sauo31mi7RGz"
      },
      "source": [
        "For example, the number of rows in `m` is:"
      ]
    },
    {
      "cell_type": "code",
      "execution_count": null,
      "metadata": {
        "id": "P0g0185X7RGz",
        "outputId": "d10e4f40-4d4e-471e-c786-45061a47473d"
      },
      "outputs": [
        {
          "data": {
            "text/plain": [
              "3"
            ]
          },
          "metadata": {},
          "output_type": "display_data"
        }
      ],
      "source": [
        "len(m)"
      ]
    },
    {
      "cell_type": "markdown",
      "metadata": {
        "id": "sXmsOTEz7RG0"
      },
      "source": [
        "And the length of the first row is:"
      ]
    },
    {
      "cell_type": "code",
      "execution_count": null,
      "metadata": {
        "id": "xwE4z7Wj7RG0",
        "outputId": "0553fed4-8241-4a82-bf22-3500dda4a7e0"
      },
      "outputs": [
        {
          "data": {
            "text/plain": [
              "3"
            ]
          },
          "metadata": {},
          "output_type": "display_data"
        }
      ],
      "source": [
        "len(m[0])"
      ]
    },
    {
      "cell_type": "markdown",
      "metadata": {
        "id": "pD_BQYo_7RG0"
      },
      "source": [
        "the lenght of the second row is:"
      ]
    },
    {
      "cell_type": "code",
      "execution_count": null,
      "metadata": {
        "id": "vGcp-k4m7RG0",
        "outputId": "c73338bd-9e13-48ad-c056-cd6440542e1c"
      },
      "outputs": [
        {
          "data": {
            "text/plain": [
              "3"
            ]
          },
          "metadata": {},
          "output_type": "display_data"
        }
      ],
      "source": [
        "len(m[1])"
      ]
    },
    {
      "cell_type": "markdown",
      "metadata": {
        "id": "IXLbJpEN7RG0"
      },
      "source": [
        "and so on."
      ]
    },
    {
      "cell_type": "markdown",
      "metadata": {
        "id": "dHaspBT47RG0"
      },
      "source": [
        "So we could re-write our previous code to iterate through the elements of `m` as follows:"
      ]
    },
    {
      "cell_type": "code",
      "execution_count": null,
      "metadata": {
        "id": "tGAXRtI27RG0",
        "outputId": "991ee815-4a38-47c1-815b-cc0c5c13f98b"
      },
      "outputs": [
        {
          "name": "stdout",
          "output_type": "stream",
          "text": [
            "[0, 0] = 1\n",
            "[0, 1] = 2\n",
            "[0, 2] = 3\n",
            "[1, 0] = 4\n",
            "[1, 1] = 5\n",
            "[1, 2] = 6\n",
            "[2, 0] = 7\n",
            "[2, 1] = 8\n",
            "[2, 2] = 9\n"
          ]
        }
      ],
      "source": [
        "for row_idx in range(len(m)):\n",
        "    for col_idx in range(len(m[row_idx])):\n",
        "        print(f'[{row_idx}, {col_idx}] = {m[row_idx][col_idx]}')"
      ]
    },
    {
      "cell_type": "markdown",
      "metadata": {
        "id": "7za_168_7RG0"
      },
      "source": [
        "The advantage of this approach is that we can deal with any type of matrix, square, rectangular, or even ragged:"
      ]
    },
    {
      "cell_type": "code",
      "execution_count": null,
      "metadata": {
        "id": "pU4ARJIe7RG0"
      },
      "outputs": [],
      "source": [
        "m = [\n",
        "    [0, 1],\n",
        "    [2, 3, 4, 5, 6],\n",
        "    [7, 8, 9],\n",
        "    [10]\n",
        "]"
      ]
    },
    {
      "cell_type": "code",
      "execution_count": null,
      "metadata": {
        "id": "8e4MgKPf7RG0",
        "outputId": "cb04fc17-be02-4008-d2fc-47ad1a8b4128",
        "colab": {
          "base_uri": "https://localhost:8080/"
        }
      },
      "outputs": [
        {
          "output_type": "stream",
          "name": "stdout",
          "text": [
            "[0, 0] = 0\n",
            "[0, 1] = 1\n",
            "[1, 0] = 2\n",
            "[1, 1] = 3\n",
            "[1, 2] = 4\n",
            "[1, 3] = 5\n",
            "[1, 4] = 6\n",
            "[2, 0] = 7\n",
            "[2, 1] = 8\n",
            "[2, 2] = 9\n",
            "[3, 0] = 10\n"
          ]
        }
      ],
      "source": [
        "for row_idx in range(len(m)):\n",
        "    for col_idx in range(len(m[row_idx])):\n",
        "        print(f'[{row_idx}, {col_idx}] = {m[row_idx][col_idx]}')"
      ]
    },
    {
      "cell_type": "markdown",
      "metadata": {
        "id": "WbpsaW9d7RG0"
      },
      "source": [
        "Here we used a nested loop to iterate through a matrix. We could also use it to build an `n x n` identity matrix, for any `n`:"
      ]
    },
    {
      "cell_type": "code",
      "execution_count": null,
      "metadata": {
        "id": "kw7dm0-87RG0"
      },
      "outputs": [],
      "source": [
        "n = 5\n",
        "\n",
        "matrix = []  # start with just an empty list\n",
        "\n",
        "for row_idx in range(n):\n",
        "    row = []  # create an empty row\n",
        "    for col_idx in range(n):\n",
        "        # build up each item\n",
        "        # diagonal elements are 1, otherwise 0\n",
        "        # on the diagonal if row_index = col_index\n",
        "        if row_idx == col_idx:\n",
        "            row.append(1)\n",
        "        else:\n",
        "            row.append(0)\n",
        "    # done buiding row, so append it to the matrix\n",
        "    matrix.append(row)"
      ]
    },
    {
      "cell_type": "code",
      "execution_count": null,
      "metadata": {
        "id": "0gvTHvRD7RG0",
        "outputId": "073ea4b4-4f0c-4165-bf26-85cb605423b7"
      },
      "outputs": [
        {
          "data": {
            "text/plain": [
              "[[1, 0, 0, 0, 0],\n",
              " [0, 1, 0, 0, 0],\n",
              " [0, 0, 1, 0, 0],\n",
              " [0, 0, 0, 1, 0],\n",
              " [0, 0, 0, 0, 1]]"
            ]
          },
          "metadata": {},
          "output_type": "display_data"
        }
      ],
      "source": [
        "matrix"
      ]
    },
    {
      "cell_type": "markdown",
      "metadata": {
        "id": "eceDrIgM7RG0"
      },
      "source": [
        "And of course this can work for any `n`:"
      ]
    },
    {
      "cell_type": "code",
      "execution_count": null,
      "metadata": {
        "id": "X3uT9dTQ7RG0"
      },
      "outputs": [],
      "source": [
        "n = 10\n",
        "\n",
        "matrix = []  # start with just an empty list\n",
        "\n",
        "for row_idx in range(n):\n",
        "    row = []  # create an empty row\n",
        "    for col_idx in range(n):\n",
        "        # build up each item\n",
        "        # diagonal elements are 1, otherwise 0\n",
        "        # on the diagonal if row_index = col_index\n",
        "        if row_idx == col_idx:\n",
        "            row.append(1)\n",
        "        else:\n",
        "            row.append(0)\n",
        "    # done buiding row, so append it to the matrix\n",
        "    matrix.append(row)"
      ]
    },
    {
      "cell_type": "code",
      "execution_count": null,
      "metadata": {
        "id": "tSRb3QhM7RG0",
        "outputId": "c5fc7bad-9ab4-4177-8f6a-5249c690d6be"
      },
      "outputs": [
        {
          "data": {
            "text/plain": [
              "[[1, 0, 0, 0, 0, 0, 0, 0, 0, 0],\n",
              " [0, 1, 0, 0, 0, 0, 0, 0, 0, 0],\n",
              " [0, 0, 1, 0, 0, 0, 0, 0, 0, 0],\n",
              " [0, 0, 0, 1, 0, 0, 0, 0, 0, 0],\n",
              " [0, 0, 0, 0, 1, 0, 0, 0, 0, 0],\n",
              " [0, 0, 0, 0, 0, 1, 0, 0, 0, 0],\n",
              " [0, 0, 0, 0, 0, 0, 1, 0, 0, 0],\n",
              " [0, 0, 0, 0, 0, 0, 0, 1, 0, 0],\n",
              " [0, 0, 0, 0, 0, 0, 0, 0, 1, 0],\n",
              " [0, 0, 0, 0, 0, 0, 0, 0, 0, 1]]"
            ]
          },
          "metadata": {},
          "output_type": "display_data"
        }
      ],
      "source": [
        "matrix"
      ]
    },
    {
      "cell_type": "markdown",
      "metadata": {
        "id": "8gWl5Hw_7RG0"
      },
      "source": []
    },
    {
      "cell_type": "markdown",
      "metadata": {
        "id": "dxXSjoQa7RG0"
      },
      "source": [
        "## The enumerate Function"
      ]
    },
    {
      "cell_type": "markdown",
      "metadata": {
        "id": "iyA1FXpx7RG0"
      },
      "source": [
        "The `enumerate` function is a function that takes in an iterable as an argument, and returns an iterable of tuples, where the first element of the tuple is a sequential integer number starting at `0`."
      ]
    },
    {
      "cell_type": "code",
      "execution_count": null,
      "metadata": {
        "id": "PGDyxxC27RG0",
        "outputId": "7f10e29a-e59e-4155-94c7-c0d57c239211",
        "colab": {
          "base_uri": "https://localhost:8080/"
        }
      },
      "outputs": [
        {
          "output_type": "execute_result",
          "data": {
            "text/plain": [
              "[(0, 10), (1, 20), (2, 30)]"
            ]
          },
          "metadata": {},
          "execution_count": 23
        }
      ],
      "source": [
        "data = [10, 20, 30]\n",
        "\n",
        "list(enumerate(data))"
      ]
    },
    {
      "cell_type": "markdown",
      "metadata": {
        "id": "tt860WZV7RG1"
      },
      "source": [
        "So we can loop over `data` **and** get the corresponding index numbers this way:"
      ]
    },
    {
      "cell_type": "code",
      "execution_count": null,
      "metadata": {
        "id": "f0FY3YLM7RG1",
        "outputId": "914b0d18-5354-4501-f2b7-7130a5456324"
      },
      "outputs": [
        {
          "name": "stdout",
          "output_type": "stream",
          "text": [
            "(0, 10)\n",
            "(1, 20)\n",
            "(2, 30)\n"
          ]
        }
      ],
      "source": [
        "for t in enumerate(data):\n",
        "    print(t)"
      ]
    },
    {
      "cell_type": "markdown",
      "metadata": {
        "id": "MwUvqVD17RG1"
      },
      "source": [
        "But we can unpack the tuple `t` directly in our loop:"
      ]
    },
    {
      "cell_type": "code",
      "execution_count": null,
      "metadata": {
        "id": "sBz7wy8E7RG1",
        "outputId": "852189c4-1612-4d35-ffed-806e56764679"
      },
      "outputs": [
        {
          "name": "stdout",
          "output_type": "stream",
          "text": [
            "0: 10\n",
            "1: 20\n",
            "2: 30\n"
          ]
        }
      ],
      "source": [
        "for index, value in enumerate(data):\n",
        "    print(f'{index}: {value}')"
      ]
    },
    {
      "cell_type": "markdown",
      "metadata": {
        "id": "CMqkWiaC7RG1"
      },
      "source": [
        "Let's look at one of our previous examples:"
      ]
    },
    {
      "cell_type": "code",
      "execution_count": null,
      "metadata": {
        "id": "t0T_Mnqq7RG1",
        "outputId": "a650ab79-a1c4-4d87-b5e5-0b30447edda3"
      },
      "outputs": [
        {
          "name": "stdout",
          "output_type": "stream",
          "text": [
            "[0, 0] = 0\n",
            "[0, 1] = 1\n",
            "[1, 0] = 2\n",
            "[1, 1] = 3\n",
            "[1, 2] = 4\n",
            "[1, 3] = 5\n",
            "[1, 4] = 6\n",
            "[2, 0] = 7\n",
            "[2, 1] = 8\n",
            "[2, 2] = 9\n",
            "[3, 0] = 10\n"
          ]
        }
      ],
      "source": [
        "m = [\n",
        "    [0, 1],\n",
        "    [2, 3, 4, 5, 6],\n",
        "    [7, 8, 9],\n",
        "    [10]\n",
        "]\n",
        "\n",
        "for row_idx in range(len(m)):\n",
        "    for col_idx in range(len(m[row_idx])):\n",
        "        print(f'[{row_idx}, {col_idx}] = {m[row_idx][col_idx]}')"
      ]
    },
    {
      "cell_type": "markdown",
      "metadata": {
        "id": "lkCOFTpz7RG1"
      },
      "source": [
        "Instead of using a range of integers to then pull elements by index, we can just iterate over the elements themselves:"
      ]
    },
    {
      "cell_type": "code",
      "execution_count": null,
      "metadata": {
        "id": "9LTQvZRZ7RG1",
        "outputId": "6831459f-433b-4f26-fced-ca7f8f87c2fb"
      },
      "outputs": [
        {
          "name": "stdout",
          "output_type": "stream",
          "text": [
            "0\n",
            "1\n",
            "2\n",
            "3\n",
            "4\n",
            "5\n",
            "6\n",
            "7\n",
            "8\n",
            "9\n",
            "10\n"
          ]
        }
      ],
      "source": [
        "for row in m:\n",
        "    for element in row:\n",
        "        print(element)"
      ]
    },
    {
      "cell_type": "markdown",
      "metadata": {
        "id": "D5n5j_4z7RG1"
      },
      "source": [
        "Now we don't have the index numbers, but if all we're looking to do is iterate through the elements of the matrix, we're done. If we really want the index numbers too, we could do it using `enumerate`:"
      ]
    },
    {
      "cell_type": "code",
      "execution_count": null,
      "metadata": {
        "id": "IKg08ynt7RG1",
        "outputId": "57e24181-2de5-4ccb-e3c2-2afbf72016af"
      },
      "outputs": [
        {
          "name": "stdout",
          "output_type": "stream",
          "text": [
            "[0, 0] = 0\n",
            "[0, 1] = 1\n",
            "[1, 0] = 2\n",
            "[1, 1] = 3\n",
            "[1, 2] = 4\n",
            "[1, 3] = 5\n",
            "[1, 4] = 6\n",
            "[2, 0] = 7\n",
            "[2, 1] = 8\n",
            "[2, 2] = 9\n",
            "[3, 0] = 10\n"
          ]
        }
      ],
      "source": [
        "for row_idx, row in enumerate(m):\n",
        "    for col_idx, element in enumerate(row):\n",
        "        print(f'[{row_idx}, {col_idx}] = {element}')"
      ]
    },
    {
      "cell_type": "markdown",
      "metadata": {
        "id": "2BQRu0Yh7RG1"
      },
      "source": [
        "Let's look at another example."
      ]
    },
    {
      "cell_type": "markdown",
      "metadata": {
        "id": "O4ZwJFJt7RG1"
      },
      "source": [
        "Suppose we have a list (or any mutable sequence type really), and we want to replace \"missing\" (`None`) elements as we loop through it."
      ]
    },
    {
      "cell_type": "code",
      "execution_count": null,
      "metadata": {
        "id": "eRnTArdg7RG1"
      },
      "outputs": [],
      "source": [
        "data = [10.5, 11.2, 9.8, None, 11.5, None]"
      ]
    },
    {
      "cell_type": "markdown",
      "metadata": {
        "id": "RMOSiZ8J7RG1"
      },
      "source": [
        "We want to replace the `None` values with the average of the values in the sequence."
      ]
    },
    {
      "cell_type": "markdown",
      "metadata": {
        "id": "uZemaamY7RG1"
      },
      "source": [
        "Firts we have to calculate the average, which we can do by computing the sum of the not-`None` elements and dividing by the number of not-`None` elements.\n",
        "\n",
        "Let's do this first by using index based iteration:"
      ]
    },
    {
      "cell_type": "code",
      "execution_count": null,
      "metadata": {
        "id": "0nN6DhTb7RG1",
        "outputId": "862df00b-3eef-4a5f-f4c8-ebe91ea5234d"
      },
      "outputs": [
        {
          "name": "stdout",
          "output_type": "stream",
          "text": [
            "10.75\n"
          ]
        }
      ],
      "source": [
        "count = 0\n",
        "total = 0\n",
        "for i in range(len(data)):  # note how I do not \"hard-code\" the range, but base it on len(data)\n",
        "    if data[i] is not None:\n",
        "        count = count + 1\n",
        "        total = total + data[i]\n",
        "average = total / count\n",
        "print(average)"
      ]
    },
    {
      "cell_type": "markdown",
      "metadata": {
        "id": "VGE4DtiE7RG1"
      },
      "source": [
        "It's actually quite a bit more *readable* doing it this way:"
      ]
    },
    {
      "cell_type": "code",
      "execution_count": null,
      "metadata": {
        "id": "Am34EZ2X7RG1",
        "outputId": "3c267cf7-41b7-474c-d885-449f4722f89d"
      },
      "outputs": [
        {
          "name": "stdout",
          "output_type": "stream",
          "text": [
            "10.75\n"
          ]
        }
      ],
      "source": [
        "count = 0\n",
        "total = 0\n",
        "for val in data:\n",
        "    if val is not None:\n",
        "        count += 1\n",
        "        total += val\n",
        "average = total/count\n",
        "print(average)"
      ]
    },
    {
      "cell_type": "markdown",
      "metadata": {
        "id": "FMlwgBT87RG1"
      },
      "source": [
        "As you can see, this code is slightly easier to read than the previous one that was peperred with `range`, `len` and `[i]` bits of code."
      ]
    },
    {
      "cell_type": "markdown",
      "metadata": {
        "id": "kcyamhse7RG1"
      },
      "source": [
        "Now, what about replacing the `None` values in `data`."
      ]
    },
    {
      "cell_type": "markdown",
      "metadata": {
        "id": "N3TKFZic7RG2"
      },
      "source": [
        "We could do it using indexing - so let's do that first:"
      ]
    },
    {
      "cell_type": "code",
      "execution_count": null,
      "metadata": {
        "id": "mmkbqXsE7RG2",
        "outputId": "cc66d95e-72bf-4853-dcfe-788392939698"
      },
      "outputs": [
        {
          "name": "stdout",
          "output_type": "stream",
          "text": [
            "[10.5, 11.2, 9.8, 10.75, 11.5, 10.75]\n"
          ]
        }
      ],
      "source": [
        "data = [10.5, 11.2, 9.8, None, 11.5, None]\n",
        "for i in range(len(data)):\n",
        "    if data[i] is None:\n",
        "        data[i] = average\n",
        "print(data)"
      ]
    },
    {
      "cell_type": "markdown",
      "metadata": {
        "id": "TpbzO4qh7RG2"
      },
      "source": [
        "Again, we have code with `range` and `len` - it's not terribly difficult to understand, but we could do it this way instead:"
      ]
    },
    {
      "cell_type": "code",
      "execution_count": null,
      "metadata": {
        "id": "_A1ud05B7RG2",
        "outputId": "f29d14a4-d626-4ff0-e3de-9f40cf2d2378"
      },
      "outputs": [
        {
          "name": "stdout",
          "output_type": "stream",
          "text": [
            "[10.5, 11.2, 9.8, 10.75, 11.5, 10.75]\n"
          ]
        }
      ],
      "source": [
        "data = [10.5, 11.2, 9.8, None, 11.5, None]\n",
        "for index, val in enumerate(data):\n",
        "    if val is None:\n",
        "        data[index] = average\n",
        "print(data)"
      ]
    },
    {
      "cell_type": "markdown",
      "metadata": {
        "id": "7093w7fw7RG2"
      },
      "source": [
        "Putting it together:"
      ]
    },
    {
      "cell_type": "code",
      "execution_count": null,
      "metadata": {
        "id": "dFBiTLxf7RG2",
        "outputId": "e6284b57-b0f1-4967-f284-0ff90e5f26cf"
      },
      "outputs": [
        {
          "name": "stdout",
          "output_type": "stream",
          "text": [
            "[10.5, 11.2, 9.8, 10.75, 11.5, 10.75]\n"
          ]
        }
      ],
      "source": [
        "data = [10.5, 11.2, 9.8, None, 11.5, None]\n",
        "\n",
        "count = 0\n",
        "total = 0\n",
        "for i in range(len(data)):  # note how I do not \"hard-code\" the range, but base it on len(data)\n",
        "    if data[i] is not None:\n",
        "        count += 1\n",
        "        total += data[i]\n",
        "average = total / count\n",
        "\n",
        "for i in range(len(data)):\n",
        "    if data[i] is None:\n",
        "        data[i] = average\n",
        "\n",
        "print(data)"
      ]
    },
    {
      "cell_type": "markdown",
      "metadata": {
        "id": "vmpZ4IXY7RG2"
      },
      "source": [
        "And, alternatively:"
      ]
    },
    {
      "cell_type": "code",
      "execution_count": null,
      "metadata": {
        "id": "xTT0BhVH7RG2",
        "outputId": "eba3a730-1743-4381-9a18-77ef5f534244"
      },
      "outputs": [
        {
          "name": "stdout",
          "output_type": "stream",
          "text": [
            "[10.5, 11.2, 9.8, 10.75, 11.5, 10.75]\n"
          ]
        }
      ],
      "source": [
        "data = [10.5, 11.2, 9.8, None, 11.5, None]\n",
        "\n",
        "count = 0\n",
        "total = 0\n",
        "for val in data:\n",
        "    if val is not None:\n",
        "        count += 1\n",
        "        total += val\n",
        "average = total/count\n",
        "\n",
        "for i, val in enumerate(data):\n",
        "    if val is None:\n",
        "        data[i] = average\n",
        "\n",
        "print(data)"
      ]
    },
    {
      "cell_type": "markdown",
      "metadata": {
        "id": "AbcrFGCs7RG2"
      },
      "source": [
        "Which one do you think is easier to \"read\" and understand?\n",
        "\n",
        "Personally, I prefer the second method - it is much more explicit: for example\n",
        "```\n",
        "for val in data\n",
        "```\n",
        "instead of\n",
        "```\n",
        "for i in range(len(data))\n",
        "```"
      ]
    },
    {
      "cell_type": "markdown",
      "metadata": {
        "id": "ROoqdZpJ7RG2"
      },
      "source": [
        "There are actually easier ways than this!"
      ]
    },
    {
      "cell_type": "markdown",
      "metadata": {
        "id": "b1cMTEOm7RG2"
      },
      "source": [
        "Just to show you (I won't explain it now, but we'll cover the topics needed to understand this later in the course), we could also have done this:"
      ]
    },
    {
      "cell_type": "code",
      "execution_count": null,
      "metadata": {
        "id": "cEbPAUzd7RG2",
        "outputId": "a6b7a71d-e91b-4c89-fd7c-1710b6d36374"
      },
      "outputs": [
        {
          "name": "stdout",
          "output_type": "stream",
          "text": [
            "[10.5, 11.2, 9.8, 10.75, 11.5, 10.75]\n"
          ]
        }
      ],
      "source": [
        "data = [10.5, 11.2, 9.8, None, 11.5, None]\n",
        "count = sum(1 for val in data if val is not None)\n",
        "total = sum(val for val in data if val is not None)\n",
        "average = total/count\n",
        "data = [val if val is not None else average for val in data]\n",
        "print(data)"
      ]
    },
    {
      "cell_type": "markdown",
      "metadata": {
        "id": "8Qal2IxQ7RG2"
      },
      "source": [
        "Of course, for averages (or means), there's an even simpler way, by using Python's `statistics` module - again we'll cover this in detail later:"
      ]
    },
    {
      "cell_type": "code",
      "execution_count": null,
      "metadata": {
        "id": "H4VOBfDn7RG2"
      },
      "outputs": [],
      "source": [
        "from statistics import fmean"
      ]
    },
    {
      "cell_type": "code",
      "execution_count": null,
      "metadata": {
        "id": "ojq7V5pk7RG2",
        "outputId": "898bee61-8126-46e1-8b11-11413571ccaa"
      },
      "outputs": [
        {
          "name": "stdout",
          "output_type": "stream",
          "text": [
            "[10.5, 11.2, 9.8, 10.75, 11.5, 10.75]\n"
          ]
        }
      ],
      "source": [
        "data = [10.5, 11.2, 9.8, None, 11.5, None]\n",
        "average = fmean(val for val in data if val is not None)\n",
        "data = [val if val is not None else average for val in data]\n",
        "print(data)"
      ]
    },
    {
      "cell_type": "markdown",
      "metadata": {
        "id": "gmAmgj9r7RG2"
      },
      "source": [
        "Later we'll cover `pandas`, a very useful library that allows us to do things like this even more readily:"
      ]
    },
    {
      "cell_type": "code",
      "execution_count": null,
      "metadata": {
        "id": "DKpPJCjS7RG2"
      },
      "outputs": [],
      "source": [
        "import pandas as pd"
      ]
    },
    {
      "cell_type": "code",
      "execution_count": null,
      "metadata": {
        "id": "U477gnjf7RG3",
        "outputId": "ea82e6f9-83bf-4042-8dd6-37c2b3a3a57f"
      },
      "outputs": [
        {
          "name": "stdout",
          "output_type": "stream",
          "text": [
            "[10.5, 11.2, 9.8, 10.75, 11.5, 10.75]\n"
          ]
        }
      ],
      "source": [
        "data = [10.5, 11.2, 9.8, None, 11.5, None]\n",
        "df = pd.DataFrame(data)\n",
        "df.fillna(df.mean(), inplace=True)\n",
        "data = df[0].tolist()\n",
        "print(data)"
      ]
    },
    {
      "cell_type": "markdown",
      "source": [
        "# Function"
      ],
      "metadata": {
        "id": "CzjJHsil7-i0"
      }
    },
    {
      "cell_type": "markdown",
      "metadata": {
        "id": "8-R5JDtv7yn-"
      },
      "source": [
        "### Custom Functions"
      ]
    },
    {
      "cell_type": "markdown",
      "metadata": {
        "id": "rZUgL8Ch7yn-"
      },
      "source": [
        "We can create custom functions using the `def` keyword:"
      ]
    },
    {
      "cell_type": "code",
      "execution_count": null,
      "metadata": {
        "id": "rJ9PBadQ7yn_"
      },
      "outputs": [],
      "source": [
        "def say_hello():\n",
        "    return 'hello!'"
      ]
    },
    {
      "cell_type": "markdown",
      "metadata": {
        "id": "qhh0qmUZ7yn_"
      },
      "source": [
        "We can then call this function using it's name (a symbol that points to the function object that was created):"
      ]
    },
    {
      "cell_type": "code",
      "execution_count": null,
      "metadata": {
        "id": "fO2z-P-V7yn_",
        "colab": {
          "base_uri": "https://localhost:8080/",
          "height": 36
        },
        "outputId": "f1740ddb-354c-4548-ede5-238734a5e98e"
      },
      "outputs": [
        {
          "output_type": "execute_result",
          "data": {
            "text/plain": [
              "'hello!'"
            ],
            "application/vnd.google.colaboratory.intrinsic+json": {
              "type": "string"
            }
          },
          "metadata": {},
          "execution_count": 2
        }
      ],
      "source": [
        "say_hello()"
      ]
    },
    {
      "cell_type": "markdown",
      "metadata": {
        "id": "Nn04Jk4X7yoA"
      },
      "source": [
        "Note that `say_hello` is basically like a variable name - it is a variable (a symbol) that references some function object."
      ]
    },
    {
      "cell_type": "markdown",
      "metadata": {
        "id": "ZA43med47yoA"
      },
      "source": [
        "We can assign another symbol to the same function object:"
      ]
    },
    {
      "cell_type": "code",
      "execution_count": null,
      "metadata": {
        "id": "oEQM4a-Z7yoA"
      },
      "outputs": [],
      "source": [
        "alias = say_hello"
      ]
    },
    {
      "cell_type": "markdown",
      "metadata": {
        "id": "Zs295dZ87yoA"
      },
      "source": [
        "Now both `alias` and `say_hello` are referencing the **same** function object:"
      ]
    },
    {
      "cell_type": "code",
      "execution_count": null,
      "metadata": {
        "id": "r4P1OMrS7yoA",
        "outputId": "ae270e25-54ae-4752-880a-1167278b38a6",
        "colab": {
          "base_uri": "https://localhost:8080/"
        }
      },
      "outputs": [
        {
          "output_type": "execute_result",
          "data": {
            "text/plain": [
              "(137164301403184, 137164301403184)"
            ]
          },
          "metadata": {},
          "execution_count": 5
        }
      ],
      "source": [
        "id(alias), id(say_hello)"
      ]
    },
    {
      "cell_type": "code",
      "execution_count": null,
      "metadata": {
        "id": "e3L9j9mK7yoA",
        "outputId": "66d57791-ffad-4e4b-ef30-9b61a555f192",
        "colab": {
          "base_uri": "https://localhost:8080/"
        }
      },
      "outputs": [
        {
          "output_type": "execute_result",
          "data": {
            "text/plain": [
              "True"
            ]
          },
          "metadata": {},
          "execution_count": 6
        }
      ],
      "source": [
        "alias is say_hello"
      ]
    },
    {
      "cell_type": "markdown",
      "metadata": {
        "id": "j5zRK79A7yoA"
      },
      "source": [
        "And now we can call this function using either name:"
      ]
    },
    {
      "cell_type": "code",
      "execution_count": null,
      "metadata": {
        "id": "sI5jO7nw7yoA",
        "outputId": "e2021123-1f26-4701-d1c3-a2602b17842d",
        "colab": {
          "base_uri": "https://localhost:8080/",
          "height": 36
        }
      },
      "outputs": [
        {
          "output_type": "execute_result",
          "data": {
            "text/plain": [
              "'hello!'"
            ],
            "application/vnd.google.colaboratory.intrinsic+json": {
              "type": "string"
            }
          },
          "metadata": {},
          "execution_count": 7
        }
      ],
      "source": [
        "alias()"
      ]
    },
    {
      "cell_type": "markdown",
      "metadata": {
        "id": "SRur841K7yoB"
      },
      "source": [
        "The takeaway here is that when write:\n",
        "\n",
        "```\n",
        "def func_name():\n",
        "    # function body here\n",
        "```\n",
        "\n",
        "we are basically creating a function object with the code in the body, and Python then assigns that object to a symbol `func_name` in our code."
      ]
    },
    {
      "cell_type": "markdown",
      "metadata": {
        "id": "wHPxpocX7yoB"
      },
      "source": [
        "Now, there's a bit more going on, when we create a function in this way, the function object that was created has some extra data (beyond the code in the function body) attached to it:"
      ]
    },
    {
      "cell_type": "code",
      "execution_count": null,
      "metadata": {
        "id": "z0vqWl3i7yoB",
        "outputId": "396688d1-8825-4b27-90dc-caa04349471d",
        "colab": {
          "base_uri": "https://localhost:8080/",
          "height": 36
        }
      },
      "outputs": [
        {
          "output_type": "execute_result",
          "data": {
            "text/plain": [
              "'say_hello'"
            ],
            "application/vnd.google.colaboratory.intrinsic+json": {
              "type": "string"
            }
          },
          "metadata": {},
          "execution_count": 8
        }
      ],
      "source": [
        "say_hello.__name__"
      ]
    },
    {
      "cell_type": "markdown",
      "metadata": {
        "id": "mOdTN7IY7yoB"
      },
      "source": [
        "Functions often require some input values, and we can this by simply listing the names we want to assign to those positional arguments in the function definition (ther **parameters** of the function)."
      ]
    },
    {
      "cell_type": "code",
      "execution_count": null,
      "metadata": {
        "id": "ACVY2YO67yoB"
      },
      "outputs": [],
      "source": [
        "def add(a, b, c):\n",
        "    print(f'a = {a}')\n",
        "    print(f'b = {b}')\n",
        "    print(f'c = {c}')\n",
        "    return a + b + c"
      ]
    },
    {
      "cell_type": "markdown",
      "metadata": {
        "id": "EcG24iHL7yoB"
      },
      "source": [
        "We can then call `add` with three arguments, and those values will be available in the function body using the names we specified for the parameters. The values are passed positionally - so the first argument goes into the first parameter, etc."
      ]
    },
    {
      "cell_type": "code",
      "execution_count": null,
      "metadata": {
        "id": "0vJlsJ-b7yoB",
        "outputId": "e88ab881-060d-4470-ef8c-935c4961f825",
        "colab": {
          "base_uri": "https://localhost:8080/"
        }
      },
      "outputs": [
        {
          "output_type": "stream",
          "name": "stdout",
          "text": [
            "a = 1\n",
            "b = 2\n",
            "c = 3\n",
            "result = 6\n"
          ]
        }
      ],
      "source": [
        "result = add(1, 2, 3)\n",
        "print(f'result = {result}')"
      ]
    },
    {
      "cell_type": "code",
      "execution_count": null,
      "metadata": {
        "id": "AwxmrDRz7yoB",
        "outputId": "4d2492cb-d463-4476-c049-f9831ce62e45",
        "colab": {
          "base_uri": "https://localhost:8080/"
        }
      },
      "outputs": [
        {
          "output_type": "stream",
          "name": "stdout",
          "text": [
            "a = 3\n",
            "a = 2\n",
            "c = 1\n",
            "result = 6\n"
          ]
        }
      ],
      "source": [
        "result = add(3, 2, 1)\n",
        "print(f'result = {result}')"
      ]
    },
    {
      "cell_type": "markdown",
      "metadata": {
        "id": "Lsx6CbWH7yoB"
      },
      "source": [
        "As we noted in the lecture, each time a function is **called** a new namespace is created that holds all the variables for that one specific \"run\" of the function."
      ]
    },
    {
      "cell_type": "markdown",
      "metadata": {
        "id": "B3LAqR9U7yoC"
      },
      "source": [
        "The same happens when calling functions, except the namespace is local (to the call):"
      ]
    },
    {
      "cell_type": "code",
      "execution_count": null,
      "metadata": {
        "id": "hJcffP3y7yoC"
      },
      "outputs": [],
      "source": [
        "def add(a, b, c):\n",
        "    print('initial namespace:', locals())\n",
        "    sum_ = a + b + c\n",
        "    print('after creating symbol sum_:', locals())\n",
        "    return sum_"
      ]
    },
    {
      "cell_type": "code",
      "execution_count": null,
      "metadata": {
        "id": "oDPMJUVr7yoC",
        "outputId": "bef68865-1489-4d3d-f65e-dbe14391e433",
        "colab": {
          "base_uri": "https://localhost:8080/"
        }
      },
      "outputs": [
        {
          "output_type": "stream",
          "name": "stdout",
          "text": [
            "initial namespace: {'a': 1, 'b': 2, 'c': 3}\n",
            "after creating symbol sum_: {'a': 1, 'b': 2, 'c': 3, 'sum_': 6}\n"
          ]
        },
        {
          "output_type": "execute_result",
          "data": {
            "text/plain": [
              "6"
            ]
          },
          "metadata": {},
          "execution_count": 18
        }
      ],
      "source": [
        "add(1, 2, 3)"
      ]
    },
    {
      "cell_type": "code",
      "execution_count": null,
      "metadata": {
        "id": "_nzYzunS7yoC",
        "outputId": "bceb6377-1f5d-4827-d20b-a37fdb28d2ff",
        "colab": {
          "base_uri": "https://localhost:8080/"
        }
      },
      "outputs": [
        {
          "output_type": "stream",
          "name": "stdout",
          "text": [
            "initial namespace: {'a': 3, 'b': 2, 'c': 1}\n",
            "after creating symbol sum_: {'a': 3, 'b': 2, 'c': 1, 'sum_': 6}\n"
          ]
        },
        {
          "output_type": "execute_result",
          "data": {
            "text/plain": [
              "6"
            ]
          },
          "metadata": {},
          "execution_count": 19
        }
      ],
      "source": [
        "add(3, 2, 1)"
      ]
    },
    {
      "cell_type": "markdown",
      "metadata": {
        "id": "RKxl4IVz7yoC"
      },
      "source": [
        "Let's try a few more examples to get a good feel for writing functions:"
      ]
    },
    {
      "cell_type": "code",
      "execution_count": null,
      "metadata": {
        "id": "IdF9rOpR7yoC"
      },
      "outputs": [],
      "source": [
        "def find_max(a, b, c):\n",
        "    max_ = a\n",
        "    if b > max_:\n",
        "        max_ = b\n",
        "    if c > max_:\n",
        "        max_ = c\n",
        "    return max_"
      ]
    },
    {
      "cell_type": "code",
      "execution_count": null,
      "metadata": {
        "id": "XLyBc9a67yoC",
        "outputId": "8c4906dc-b69e-409a-cac6-1786ad663092",
        "colab": {
          "base_uri": "https://localhost:8080/"
        }
      },
      "outputs": [
        {
          "output_type": "execute_result",
          "data": {
            "text/plain": [
              "30"
            ]
          },
          "metadata": {},
          "execution_count": 16
        }
      ],
      "source": [
        "find_max(10, 20, 30)"
      ]
    },
    {
      "cell_type": "code",
      "execution_count": null,
      "metadata": {
        "id": "Ptl-5j-i7yoC"
      },
      "outputs": [],
      "source": [
        "from datetime import datetime\n",
        "\n",
        "def log(message):\n",
        "    curr_time = datetime.utcnow().isoformat()\n",
        "    print(f'{curr_time} - [{message}]')"
      ]
    },
    {
      "cell_type": "code",
      "execution_count": null,
      "metadata": {
        "id": "gtftDikh7yoC",
        "outputId": "6a541d78-649c-496d-8c33-f792f0e46df5",
        "colab": {
          "base_uri": "https://localhost:8080/"
        }
      },
      "outputs": [
        {
          "output_type": "stream",
          "name": "stdout",
          "text": [
            "2024-09-05T02:13:22.641880 - [log 1]\n"
          ]
        }
      ],
      "source": [
        "log('log 1')"
      ]
    },
    {
      "cell_type": "code",
      "execution_count": null,
      "metadata": {
        "id": "aaaMEhmp7yoC",
        "outputId": "c3e313c8-8667-4476-8bb6-0296d7f6f099",
        "colab": {
          "base_uri": "https://localhost:8080/"
        }
      },
      "outputs": [
        {
          "output_type": "stream",
          "name": "stdout",
          "text": [
            "2024-09-05T02:13:40.546565 - [log 2]\n"
          ]
        }
      ],
      "source": [
        "log('log 2')"
      ]
    },
    {
      "cell_type": "markdown",
      "metadata": {
        "id": "dQdOK0EW7yoD"
      },
      "source": [
        "Notice how the current time changes every time we call the function."
      ]
    },
    {
      "cell_type": "markdown",
      "metadata": {
        "id": "m5FYa4kq7yoD"
      },
      "source": [
        "Let's go back to a previous example, where we kept having to copy/paste the same code, just so we could run it multiple times:"
      ]
    },
    {
      "cell_type": "code",
      "execution_count": null,
      "metadata": {
        "id": "w5UheTjb7yoD",
        "outputId": "4c5d40c7-0625-4ff6-90bf-27751692a57d",
        "colab": {
          "base_uri": "https://localhost:8080/"
        }
      },
      "outputs": [
        {
          "output_type": "stream",
          "name": "stdout",
          "text": [
            "processing all positive elements\n"
          ]
        }
      ],
      "source": [
        "data = [1, 2, 3, 4, 5, 6]\n",
        "\n",
        "for element in data:\n",
        "    if element < 0:\n",
        "        break\n",
        "else: # no break\n",
        "    print('processing all positive elements')"
      ]
    },
    {
      "cell_type": "markdown",
      "metadata": {
        "id": "dxpFGPlu7yoD"
      },
      "source": [
        "Basically we were looking to write some code that would check if all elements of an iterable were positive."
      ]
    },
    {
      "cell_type": "markdown",
      "metadata": {
        "id": "l9_5sFLQ7yoD"
      },
      "source": [
        "We can easily convert this to a function that we can re-use as many times as we want throughout our code:"
      ]
    },
    {
      "cell_type": "code",
      "execution_count": null,
      "metadata": {
        "id": "hO0gOVC27yoD"
      },
      "outputs": [],
      "source": [
        "def is_all_positive(data):\n",
        "    for element in data:\n",
        "        if element < 0:\n",
        "            return False\n",
        "    return True"
      ]
    },
    {
      "cell_type": "markdown",
      "metadata": {
        "id": "KRnYy10i7yoD"
      },
      "source": [
        "Now we can re-use it as many times as we want:"
      ]
    },
    {
      "cell_type": "code",
      "execution_count": null,
      "metadata": {
        "id": "0DqSJRqa7yoD",
        "outputId": "af780d2d-acf3-4c4c-cc10-014bcbd9e989",
        "colab": {
          "base_uri": "https://localhost:8080/"
        }
      },
      "outputs": [
        {
          "output_type": "execute_result",
          "data": {
            "text/plain": [
              "True"
            ]
          },
          "metadata": {},
          "execution_count": 22
        }
      ],
      "source": [
        "is_all_positive([1, 2, 3, 4, 5])"
      ]
    },
    {
      "cell_type": "code",
      "execution_count": null,
      "metadata": {
        "id": "JpOvgkzP7yoD",
        "outputId": "387414b4-d6df-482a-d95f-ed8a46c16d25",
        "colab": {
          "base_uri": "https://localhost:8080/"
        }
      },
      "outputs": [
        {
          "output_type": "execute_result",
          "data": {
            "text/plain": [
              "False"
            ]
          },
          "metadata": {},
          "execution_count": 23
        }
      ],
      "source": [
        "is_all_positive({10, 20, -3})"
      ]
    },
    {
      "cell_type": "code",
      "execution_count": null,
      "metadata": {
        "id": "BsICU3nN7yoD"
      },
      "outputs": [],
      "source": [
        "d = {'a': 10, 'b': 20, 'c': -30}"
      ]
    },
    {
      "cell_type": "code",
      "execution_count": null,
      "metadata": {
        "id": "cgEIOgq57yoD",
        "outputId": "9f56188e-5045-4f67-d5b9-92d29d5e7579",
        "colab": {
          "base_uri": "https://localhost:8080/"
        }
      },
      "outputs": [
        {
          "output_type": "execute_result",
          "data": {
            "text/plain": [
              "False"
            ]
          },
          "metadata": {},
          "execution_count": 25
        }
      ],
      "source": [
        "is_all_positive(d.values())"
      ]
    },
    {
      "cell_type": "code",
      "execution_count": null,
      "metadata": {
        "id": "t2lEGOpS7yoD",
        "outputId": "009b9096-3dd4-4e1f-e99b-13bfa55e3411",
        "colab": {
          "base_uri": "https://localhost:8080/"
        }
      },
      "outputs": [
        {
          "output_type": "execute_result",
          "data": {
            "text/plain": [
              "True"
            ]
          },
          "metadata": {},
          "execution_count": 26
        }
      ],
      "source": [
        "is_all_positive(range(10))"
      ]
    },
    {
      "cell_type": "markdown",
      "metadata": {
        "id": "Jr_07zfn7yoE"
      },
      "source": [
        "Of course, we can specify as many positional arguments as we want:"
      ]
    },
    {
      "cell_type": "code",
      "execution_count": null,
      "metadata": {
        "id": "hnCbyO0x7yoE"
      },
      "outputs": [],
      "source": [
        "def gen_matrix(m, n, default_value):\n",
        "    # generate an mxn matrix with each element initialized to default_value\n",
        "    return [[default_value for i in range(n)] for j in range(m)]"
      ]
    },
    {
      "cell_type": "code",
      "execution_count": null,
      "metadata": {
        "id": "gLF9XnxD7yoE",
        "outputId": "78241a64-f1e2-4da1-dfbd-a561ddf17ad8",
        "colab": {
          "base_uri": "https://localhost:8080/"
        }
      },
      "outputs": [
        {
          "output_type": "execute_result",
          "data": {
            "text/plain": [
              "[[1, 1], [1, 1]]"
            ]
          },
          "metadata": {},
          "execution_count": 28
        }
      ],
      "source": [
        "gen_matrix(2, 2, 1)"
      ]
    },
    {
      "cell_type": "code",
      "execution_count": null,
      "metadata": {
        "id": "KvwREH1l7yoE",
        "outputId": "76badd99-34a3-4a98-d3d1-e60f5994a759",
        "colab": {
          "base_uri": "https://localhost:8080/"
        }
      },
      "outputs": [
        {
          "output_type": "execute_result",
          "data": {
            "text/plain": [
              "[[1, 1, 1, 1, 1, 1, 1, 1],\n",
              " [1, 1, 1, 1, 1, 1, 1, 1],\n",
              " [1, 1, 1, 1, 1, 1, 1, 1],\n",
              " [1, 1, 1, 1, 1, 1, 1, 1]]"
            ]
          },
          "metadata": {},
          "execution_count": 29
        }
      ],
      "source": [
        "gen_matrix(4, 8, 1)"
      ]
    },
    {
      "cell_type": "markdown",
      "metadata": {
        "id": "lY8CdCZ37yoE"
      },
      "source": [
        "It is important to give meaningful names to our parameters - it makes understanding what the parameter means easier."
      ]
    },
    {
      "cell_type": "markdown",
      "metadata": {
        "id": "iMnrYswj7yoE"
      },
      "source": [
        "For the above example, I would do this instead:"
      ]
    },
    {
      "cell_type": "code",
      "execution_count": null,
      "metadata": {
        "id": "MwwWiO0a7yoE"
      },
      "outputs": [],
      "source": [
        "def gen_matrix(rows, cols, default_value):\n",
        "    return [[default_value for i in range(cols)] for j in range(rows)]"
      ]
    },
    {
      "cell_type": "code",
      "execution_count": null,
      "metadata": {
        "id": "aH3Jz-Qq7yoE",
        "outputId": "f7b0df54-5d41-4672-90ff-b9719d62a7c3",
        "colab": {
          "base_uri": "https://localhost:8080/"
        }
      },
      "outputs": [
        {
          "output_type": "execute_result",
          "data": {
            "text/plain": [
              "[[1, 1], [1, 1], [1, 1]]"
            ]
          },
          "metadata": {},
          "execution_count": 31
        }
      ],
      "source": [
        "gen_matrix(3, 2, 1)"
      ]
    },
    {
      "cell_type": "markdown",
      "metadata": {
        "id": "pOPFd0L47yoE"
      },
      "source": [
        "Although the parameters are defined as positional parameters, Python supports **calling** the function with **named** arguments as follows:"
      ]
    },
    {
      "cell_type": "code",
      "execution_count": null,
      "metadata": {
        "id": "Zt1SMPzB7yoE",
        "outputId": "7a69b9c0-e9a6-42ec-edd3-b00bca0d7473",
        "colab": {
          "base_uri": "https://localhost:8080/"
        }
      },
      "outputs": [
        {
          "output_type": "execute_result",
          "data": {
            "text/plain": [
              "[[0, 0, 0, 0, 0], [0, 0, 0, 0, 0], [0, 0, 0, 0, 0]]"
            ]
          },
          "metadata": {},
          "execution_count": 32
        }
      ],
      "source": [
        "gen_matrix(rows=3, cols=5, default_value=0)"
      ]
    },
    {
      "cell_type": "markdown",
      "metadata": {
        "id": "EcGkLO6J7yoE"
      },
      "source": [
        "The advantage of this is that we do not have to rely on getting the positions of the arguments correct - as long as we are naming them, Python will assign them to their respective parameter in the function."
      ]
    },
    {
      "cell_type": "markdown",
      "metadata": {
        "id": "Q8GvnLMv7yoE"
      },
      "source": [
        "So these two calls work the same:"
      ]
    },
    {
      "cell_type": "code",
      "execution_count": null,
      "metadata": {
        "id": "WMsGRaj17yoE",
        "outputId": "c8ed913f-23b5-432c-ca03-23492557dcaf",
        "colab": {
          "base_uri": "https://localhost:8080/"
        }
      },
      "outputs": [
        {
          "output_type": "execute_result",
          "data": {
            "text/plain": [
              "[[1, 1, 1, 1, 1, 1, 1, 1], [1, 1, 1, 1, 1, 1, 1, 1]]"
            ]
          },
          "metadata": {},
          "execution_count": 33
        }
      ],
      "source": [
        "gen_matrix(2, 8, 1)"
      ]
    },
    {
      "cell_type": "code",
      "execution_count": null,
      "metadata": {
        "id": "EMvY4wxn7yoE",
        "outputId": "c6fbb6a0-9fb0-43b8-e99b-2ef3abab9cd8",
        "colab": {
          "base_uri": "https://localhost:8080/"
        }
      },
      "outputs": [
        {
          "output_type": "execute_result",
          "data": {
            "text/plain": [
              "[[1, 1, 1, 1, 1, 1, 1, 1], [1, 1, 1, 1, 1, 1, 1, 1]]"
            ]
          },
          "metadata": {},
          "execution_count": 34
        }
      ],
      "source": [
        "gen_matrix(cols=8, rows=2, default_value=1)"
      ]
    },
    {
      "cell_type": "markdown",
      "metadata": {
        "id": "TV7feW-N7yoE"
      },
      "source": [
        "We would not have obtained the same result if we have just switched the unnamed arguments around:"
      ]
    },
    {
      "cell_type": "code",
      "execution_count": null,
      "metadata": {
        "id": "eQBXKJhX7yoE",
        "outputId": "f08737c0-49a5-4db7-bb81-5950a1494629",
        "colab": {
          "base_uri": "https://localhost:8080/"
        }
      },
      "outputs": [
        {
          "output_type": "execute_result",
          "data": {
            "text/plain": [
              "[[1, 1], [1, 1], [1, 1], [1, 1], [1, 1], [1, 1], [1, 1], [1, 1]]"
            ]
          },
          "metadata": {},
          "execution_count": 35
        }
      ],
      "source": [
        "gen_matrix(8, 2, 1)"
      ]
    },
    {
      "cell_type": "markdown",
      "metadata": {
        "id": "NFN8fzIK7yoF"
      },
      "source": [
        "So, although out function uses **positional** parameters, we can choose to pass them **positionally** or **named** (also referred to as **keyword** arguments)."
      ]
    },
    {
      "cell_type": "markdown",
      "metadata": {
        "id": "ZXWfbwMJ7yoF"
      },
      "source": [
        "This becomes really useful, when we have a lot of parameters in a function, or when working with parameters that specify default values (we'll see this later)."
      ]
    },
    {
      "cell_type": "markdown",
      "metadata": {
        "id": "RvtNIOwU7yoF"
      },
      "source": [
        "It is possible to call a function that defines positional parameters using a **mix** of positional and named arguments."
      ]
    },
    {
      "cell_type": "markdown",
      "metadata": {
        "id": "w6jwyibE7yoF"
      },
      "source": [
        "However, we have to be careful, once we start using named arguments in a call, all subsequent arguments must be named too."
      ]
    },
    {
      "cell_type": "code",
      "execution_count": null,
      "metadata": {
        "id": "x7Frn75h7yoF",
        "outputId": "c6c50aef-ae94-4201-e776-982317702754",
        "colab": {
          "base_uri": "https://localhost:8080/"
        }
      },
      "outputs": [
        {
          "output_type": "execute_result",
          "data": {
            "text/plain": [
              "[[1, 1, 1, 1, 1], [1, 1, 1, 1, 1], [1, 1, 1, 1, 1]]"
            ]
          },
          "metadata": {},
          "execution_count": 36
        }
      ],
      "source": [
        "gen_matrix(3, cols=5, default_value=1)"
      ]
    },
    {
      "cell_type": "markdown",
      "metadata": {
        "id": "6Gsv2SP27yoF"
      },
      "source": [
        "As you can see the first argument was passed by position, so it got assigned to `rows` in our function call, and the remaining arguments were passed as named arguments."
      ]
    },
    {
      "cell_type": "markdown",
      "metadata": {
        "id": "SFPT_WpV7yoF"
      },
      "source": [
        "But this would not work (how could Python know what goes where?):"
      ]
    },
    {
      "cell_type": "code",
      "execution_count": null,
      "metadata": {
        "id": "zRnjb3Lc7yoF",
        "outputId": "80b38a33-d400-47bd-c64f-fee99eb648db",
        "colab": {
          "base_uri": "https://localhost:8080/",
          "height": 106
        }
      },
      "outputs": [
        {
          "output_type": "error",
          "ename": "SyntaxError",
          "evalue": "positional argument follows keyword argument (<ipython-input-37-e6944403c3f1>, line 1)",
          "traceback": [
            "\u001b[0;36m  File \u001b[0;32m\"<ipython-input-37-e6944403c3f1>\"\u001b[0;36m, line \u001b[0;32m1\u001b[0m\n\u001b[0;31m    gen_matrix(default_value=1, 3, 3)\u001b[0m\n\u001b[0m                                    ^\u001b[0m\n\u001b[0;31mSyntaxError\u001b[0m\u001b[0;31m:\u001b[0m positional argument follows keyword argument\n"
          ]
        }
      ],
      "source": [
        "gen_matrix(default_value=1, 3, 3)"
      ]
    },
    {
      "cell_type": "markdown",
      "metadata": {
        "id": "Sv0X8WPV7yoF"
      },
      "source": [
        "One last thing I would like to mention regards a naming convention often used when we have variables whose values we are not really interested in:"
      ]
    },
    {
      "cell_type": "code",
      "execution_count": null,
      "metadata": {
        "id": "GI1U3Odd7yoF"
      },
      "outputs": [],
      "source": [
        "def gen_matrix(m, n, default_value):\n",
        "    # generate an mxn matrix with each element initialized to default_value\n",
        "    return [[default_value for i in range(n)] for j in range(m)]"
      ]
    },
    {
      "cell_type": "markdown",
      "metadata": {
        "id": "SN2nRm947yoF"
      },
      "source": [
        "In our case, we have `i` and `j`, and this is a prime example of where you mighbt see the code written as:"
      ]
    },
    {
      "cell_type": "code",
      "execution_count": null,
      "metadata": {
        "id": "lQCKOmY27yoG"
      },
      "outputs": [],
      "source": [
        "def gen_matrix(m, n, default_value):\n",
        "    # generate an mxn matrix with each element initialized to default_value\n",
        "    return [[default_value for _ in range(n)] for __ in range(m)]"
      ]
    },
    {
      "cell_type": "code",
      "execution_count": null,
      "metadata": {
        "id": "7iGPoKWl7yoG",
        "outputId": "0c9faa76-d18f-482a-b32a-d612c5e35e3d",
        "colab": {
          "base_uri": "https://localhost:8080/"
        }
      },
      "outputs": [
        {
          "output_type": "execute_result",
          "data": {
            "text/plain": [
              "[[0, 0], [0, 0], [0, 0]]"
            ]
          },
          "metadata": {},
          "execution_count": 40
        }
      ],
      "source": [
        "gen_matrix(3, 2, 0)"
      ]
    },
    {
      "cell_type": "markdown",
      "metadata": {
        "id": "9ZRAEQ797yoG"
      },
      "source": [
        "Again, there is nothing special about this code - people often use it simply to indicate that the loop variables `_` and `__` are not actually used. Just a naming convention, nothing more."
      ]
    },
    {
      "cell_type": "markdown",
      "source": [
        "# Object Oriented Programming"
      ],
      "metadata": {
        "id": "9Nyb6tgy9KS9"
      }
    },
    {
      "cell_type": "markdown",
      "source": [
        "A class is considered a blueprint of objects.\n",
        "\n",
        "We can think of the class as a sketch (prototype) of a house. It contains all the details about the floors, doors, windows, etc.\n",
        "\n",
        "Based on these descriptions, we build the house; the house is the object.\n",
        "\n",
        "Since many houses can be made from the same description, we can create many objects from a class."
      ],
      "metadata": {
        "id": "KPucZFYb97Ar"
      }
    },
    {
      "cell_type": "markdown",
      "source": [
        "## Classes"
      ],
      "metadata": {
        "id": "WyycUWBTBDVp"
      }
    },
    {
      "cell_type": "markdown",
      "source": [
        "We use the class keyword to create a class in Python. For example,\n",
        "\n"
      ],
      "metadata": {
        "id": "AEQ_T5t3BHcA"
      }
    },
    {
      "cell_type": "code",
      "source": [
        "class ClassName:\n",
        "    # class definition"
      ],
      "metadata": {
        "id": "a5ficuaC9Ngt",
        "colab": {
          "base_uri": "https://localhost:8080/",
          "height": 106
        },
        "outputId": "5ae94390-08f7-4b40-d320-9857833650e8"
      },
      "execution_count": null,
      "outputs": [
        {
          "output_type": "error",
          "ename": "SyntaxError",
          "evalue": "incomplete input (<ipython-input-24-d552630fa1ba>, line 2)",
          "traceback": [
            "\u001b[0;36m  File \u001b[0;32m\"<ipython-input-24-d552630fa1ba>\"\u001b[0;36m, line \u001b[0;32m2\u001b[0m\n\u001b[0;31m    # class definition\u001b[0m\n\u001b[0m                      ^\u001b[0m\n\u001b[0;31mSyntaxError\u001b[0m\u001b[0;31m:\u001b[0m incomplete input\n"
          ]
        }
      ]
    },
    {
      "cell_type": "markdown",
      "source": [
        "Here, we have created a class named ClassName.\n",
        "\n",
        "Let's see an example,"
      ],
      "metadata": {
        "id": "iqhZMHN_BJTB"
      }
    },
    {
      "cell_type": "code",
      "source": [
        "class Bike:\n",
        "    name = \"\"\n",
        "    gear = 0"
      ],
      "metadata": {
        "id": "pf4V3B9gBMS5"
      },
      "execution_count": null,
      "outputs": []
    },
    {
      "cell_type": "markdown",
      "source": [
        "Here,\n",
        "\n",
        "Bike - the name of the class\n",
        "name/gear - variables inside the class with default values \"\" and 0 respectively.\n",
        "\n",
        "Note: The variables inside a class are called attributes."
      ],
      "metadata": {
        "id": "QFDaIc5jBX8a"
      }
    },
    {
      "cell_type": "markdown",
      "source": [
        "## Object"
      ],
      "metadata": {
        "id": "QvXd3dQ_Bbqq"
      }
    },
    {
      "cell_type": "markdown",
      "source": [
        "An object is called an instance of a class.\n",
        "\n",
        "Suppose Bike is a class then we can create objects like bike1, bike2, etc from the class.\n",
        "\n",
        "Here's the syntax to create an object."
      ],
      "metadata": {
        "id": "1Z-BGsExBdi8"
      }
    },
    {
      "cell_type": "code",
      "source": [
        "objectName = ClassName()"
      ],
      "metadata": {
        "id": "BkzWCABfBNS0",
        "colab": {
          "base_uri": "https://localhost:8080/",
          "height": 141
        },
        "outputId": "9f633f5b-e060-4574-c05a-9d8f347839b0"
      },
      "execution_count": null,
      "outputs": [
        {
          "output_type": "error",
          "ename": "NameError",
          "evalue": "name 'ClassName' is not defined",
          "traceback": [
            "\u001b[0;31m---------------------------------------------------------------------------\u001b[0m",
            "\u001b[0;31mNameError\u001b[0m                                 Traceback (most recent call last)",
            "\u001b[0;32m<ipython-input-26-0abd5ee08acd>\u001b[0m in \u001b[0;36m<cell line: 1>\u001b[0;34m()\u001b[0m\n\u001b[0;32m----> 1\u001b[0;31m \u001b[0mobjectName\u001b[0m \u001b[0;34m=\u001b[0m \u001b[0mClassName\u001b[0m\u001b[0;34m(\u001b[0m\u001b[0;34m)\u001b[0m\u001b[0;34m\u001b[0m\u001b[0;34m\u001b[0m\u001b[0m\n\u001b[0m",
            "\u001b[0;31mNameError\u001b[0m: name 'ClassName' is not defined"
          ]
        }
      ]
    },
    {
      "cell_type": "code",
      "source": [
        "# create class\n",
        "class Bike:\n",
        "    name = \"\"\n",
        "    gear = 0\n",
        "\n",
        "# create objects of class\n",
        "bike1 = Bike()"
      ],
      "metadata": {
        "id": "YA3fYe5GBfvz"
      },
      "execution_count": null,
      "outputs": []
    },
    {
      "cell_type": "markdown",
      "source": [
        "Here, bike1 is the object of the class. Now, we can use this object to access the class attributes."
      ],
      "metadata": {
        "id": "OuWya73oBh6a"
      }
    },
    {
      "cell_type": "markdown",
      "source": [
        "Access class Attributes Using Objects"
      ],
      "metadata": {
        "id": "X6TBWWzYBmKj"
      }
    },
    {
      "cell_type": "code",
      "source": [
        "# modify the name property\n",
        "bike1.name = \"Mountain Bike\"\n",
        "\n",
        "# access the gear property\n",
        "bike1.gear"
      ],
      "metadata": {
        "id": "ScE0T6KJBg0m",
        "colab": {
          "base_uri": "https://localhost:8080/"
        },
        "outputId": "3680fd68-911d-449c-c5cc-2609d9dd0022"
      },
      "execution_count": null,
      "outputs": [
        {
          "output_type": "execute_result",
          "data": {
            "text/plain": [
              "0"
            ]
          },
          "metadata": {},
          "execution_count": 28
        }
      ]
    },
    {
      "cell_type": "markdown",
      "source": [
        "Here, we have used bike1.name and bike1.gear to change and access the value of name and gear attributes, respectively."
      ],
      "metadata": {
        "id": "QYzN5o31Bsgb"
      }
    },
    {
      "cell_type": "markdown",
      "source": [
        "Example:"
      ],
      "metadata": {
        "id": "MlzZS4IFBvYy"
      }
    },
    {
      "cell_type": "code",
      "source": [
        "# define a class\n",
        "class Bike:\n",
        "    name = \"\"\n",
        "    gear = 0\n",
        "\n",
        "# create object of class\n",
        "bike1 = Bike()\n",
        "bike2 = Bike()\n",
        "\n",
        "# access attributes and assign new values\n",
        "bike1.gear = 11\n",
        "bike1.name = \"Mountain Bike\"\n",
        "\n",
        "bike2.gear = 13\n",
        "bike2.name = \"Road Bike\"\n",
        "\n",
        "print(f\"{{Name: {bike1.name}, Gears: {bike1.gear}}}\")\n",
        "print(f\"{{Name: {Bike.name}, Gears: {Bike.gear}}}\")"
      ],
      "metadata": {
        "id": "_ISzsL71Br1y",
        "colab": {
          "base_uri": "https://localhost:8080/"
        },
        "outputId": "db0ef9ec-b644-4574-8195-78dc914aec23"
      },
      "execution_count": null,
      "outputs": [
        {
          "output_type": "stream",
          "name": "stdout",
          "text": [
            "{Name: Mountain Bike, Gears: 11}\n",
            "{Name: , Gears: 0}\n"
          ]
        }
      ]
    },
    {
      "cell_type": "markdown",
      "source": [
        "# Referensi\n",
        "Pyhton Fundamentals By Udemy, diakses pada https://www.udemy.com/course/python3-fundamentals\n",
        "\n",
        "Programiz Classes and Object diakses pada https://www.programiz.com/python-programming/class"
      ],
      "metadata": {
        "id": "hMC-e-3ij5zp"
      }
    }
  ]
}