{
  "nbformat": 4,
  "nbformat_minor": 0,
  "metadata": {
    "colab": {
      "provenance": [],
      "include_colab_link": true
    },
    "kernelspec": {
      "name": "python3",
      "display_name": "Python 3"
    },
    "language_info": {
      "name": "python"
    }
  },
  "cells": [
    {
      "cell_type": "markdown",
      "metadata": {
        "id": "view-in-github",
        "colab_type": "text"
      },
      "source": [
        "<a href=\"https://colab.research.google.com/github/kjewww/Python-tutotrial-KKA/blob/main/Tugas_Tutorial_Basic_Python_KKA.ipynb\" target=\"_parent\"><img src=\"https://colab.research.google.com/assets/colab-badge.svg\" alt=\"Open In Colab\"/></a>"
      ]
    },
    {
      "cell_type": "markdown",
      "source": [
        "# PENUGASAN TUTORIAL BASIC PYTHON KKA\n",
        "\n",
        "### Tata Cara Pengerjaan\n",
        "1. Klik tombol \"File\" di bagian atas halaman Google Colab Anda.\n",
        "2. Pilih \"Save a copy in Drive\" untuk membuat salinan notebook ini ke Google Drive Anda.\n",
        "3. Kerjakan salinan notebook tersebut sesuai arahan yang ada.\n",
        "4. Gunakan bahasa python untuk mengerjakan penugasan ini.\n",
        "5. Tugas didemokan ke asisten dosen (waktu menyesuaikan ketersediaan asdos)\n",
        "6. Kerjakan sendiri karena segala bentuk kecurangan akan ditindaklanjuti.\n"
      ],
      "metadata": {
        "id": "56LEtBFzV5b_"
      }
    },
    {
      "cell_type": "markdown",
      "source": [
        "### SOAL 1\n",
        "\n",
        "Buat fungsi untuk mengecek kata palindrom atau tidak."
      ],
      "metadata": {
        "id": "sOHx3DmUROtM"
      }
    },
    {
      "cell_type": "code",
      "source": [
        "# Tulis jawaban soal 1 disini"
      ],
      "metadata": {
        "id": "l6uyV9SXROOF"
      },
      "execution_count": null,
      "outputs": []
    },
    {
      "cell_type": "markdown",
      "source": [
        "### SOAL 2\n",
        "Buat fungsi untuk mencari berapa banyak huruf (total huruf) dalam kata.\n",
        "\n",
        "Misal\n",
        "`sentence = 'saya adalah saya, saya bukan saya'`\n",
        "`word = 'd'` maka didapat `result = 1` karena hanya ada 1 huruf `d` dalam `sentence`"
      ],
      "metadata": {
        "id": "ciOp_iJVRrAL"
      }
    },
    {
      "cell_type": "code",
      "source": [
        "# Tulis jawaban soal 2 disini"
      ],
      "metadata": {
        "id": "v4rltvzRUD8S"
      },
      "execution_count": null,
      "outputs": []
    },
    {
      "cell_type": "markdown",
      "source": [
        "### SOAL 3\n",
        "\n",
        "Buat deret Fibonacci seperti berikut :\n",
        "\n",
        "1 2 3 5 8 13 21 34 55 89\n",
        "\n",
        "untuk n = 10,\n",
        "\n",
        "(Buat input n dinamis)\n",
        "\n"
      ],
      "metadata": {
        "id": "XhqnflILUHOh"
      }
    },
    {
      "cell_type": "code",
      "source": [
        "# Tulis jawaban soal 3 disini"
      ],
      "metadata": {
        "id": "8miliNm2aJkE"
      },
      "execution_count": null,
      "outputs": []
    },
    {
      "cell_type": "markdown",
      "source": [
        "### SOAL 4\n",
        "\n",
        "Buatlah sebuah fungsi min_element(arr) yang menerima sebuah array (list) arr dan mengembalikan elemen terkecil dalam array tersebut.\n",
        "\n",
        "Contoh Input\n",
        "arr = [15, 22, 9, 3, 18]\n",
        "\n",
        "Contoh Output\n",
        "3"
      ],
      "metadata": {
        "id": "FSQeSGTVYD6L"
      }
    },
    {
      "cell_type": "code",
      "source": [
        "# Tulis jawaban soal 4 disini"
      ],
      "metadata": {
        "id": "sm2uDKcHdVHX"
      },
      "execution_count": null,
      "outputs": []
    },
    {
      "cell_type": "markdown",
      "source": [
        "### SOAL 5\n",
        "\n",
        "Buatkan kode yang menghasilkan output segitiga pascal seperti gambar dibawah ini\n",
        "\n",
        "![swlsnviegcwgahvub7gg.jpg](data:image/jpeg;base64,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)\n",
        "\n",
        "note : buat inputnya dinamis"
      ],
      "metadata": {
        "id": "V_bXMi_BYI1D"
      }
    },
    {
      "cell_type": "code",
      "source": [
        "# Tulis jawaban soal 5 disini"
      ],
      "metadata": {
        "id": "TDJ15E2WekAw"
      },
      "execution_count": null,
      "outputs": []
    },
    {
      "cell_type": "markdown",
      "source": [
        "### SOAL 6\n",
        "Buatlah sebuah Object dengan format nama Bank[nama] ee.g BankOke. Bank tersebut dapat enyimpan nama-nama nasabah beserta saldo di bank, tanggal menjadi nasabah, jenis tabungan ('Premium', 'Normal', 'Hemat')"
      ],
      "metadata": {
        "id": "TDW1IGwZYI70"
      }
    },
    {
      "cell_type": "code",
      "source": [
        "# Tulis jawaban soal 6 disini"
      ],
      "metadata": {
        "id": "zkTOHrScfvIl"
      },
      "execution_count": null,
      "outputs": []
    },
    {
      "cell_type": "markdown",
      "source": [
        "### SOAL 7\n",
        "(lanjutan soal 6)\n",
        "Buatlah methods untuk menampilkan:\n",
        "- Seluruh nama nasabah\n",
        "- Saldo dari suatu nasabah\n",
        "- Jenis tabungan dari suatu nasabah\n",
        "- Metode transaksi nasabah misal terdapat transaksi sebesar 200 ribu, maka saldo nasabah akan berkurang"
      ],
      "metadata": {
        "id": "fV6WVL4KYJAi"
      }
    },
    {
      "cell_type": "code",
      "source": [
        "# Tulis jawaban soal 7 disini"
      ],
      "metadata": {
        "id": "_Hzo4kO9fy4a"
      },
      "execution_count": null,
      "outputs": []
    },
    {
      "cell_type": "markdown",
      "source": [
        "### SOAL 8\n",
        "Buatlah subclass untuk cabang Bank yang sudah dibuat sebelumnya. Cabang Bank tersebut memiliki atribut nama daerah cabang e.g \"BankOkeSurabaya\" memiliki attribut daerah yang nilainya \"Surabaya\".\n",
        "\n",
        "Gunakan konsep inheritance!"
      ],
      "metadata": {
        "id": "3jpp765rYJE1"
      }
    },
    {
      "cell_type": "code",
      "source": [
        "# Tulis jawaban soal 8 disini"
      ],
      "metadata": {
        "id": "S-ZoLthpf6pG"
      },
      "execution_count": null,
      "outputs": []
    },
    {
      "cell_type": "markdown",
      "source": [
        "### SOAL 9\n",
        "Deskripsikan secara singkat pemahaman anda tentang function, method, variable dan attribute dalam paradigma pemrograman.\n",
        "\n",
        "(boleh dijawab dengan menggunakan ilustrasi diagram)"
      ],
      "metadata": {
        "id": "bOV9qh5tYJI-"
      }
    },
    {
      "cell_type": "markdown",
      "source": [
        "*Jawab dibawah sini! Klik ini untuk menjawab.*"
      ],
      "metadata": {
        "id": "VcYlXFyQaxY_"
      }
    },
    {
      "cell_type": "markdown",
      "source": [
        "### SOAL 10\n",
        "\n",
        "Banyak sekali implementasi kecerdasan buatan ditulis dengan bahasa pemrogaman Python, seperti robot, model Machine Learning, visi komputer, dll. Mengapa bahasa Python cocok dan populer untuk pengembangan kecerdasan buatan, apa bedanya dari bahasa lain? Jelaskan!"
      ],
      "metadata": {
        "id": "y7Y2LKJoYJRj"
      }
    },
    {
      "cell_type": "markdown",
      "source": [
        "*Jawab dibawah sini! Klik ini untuk menjawab.*"
      ],
      "metadata": {
        "id": "EwH6DAZPZ6XU"
      }
    }
  ]
}